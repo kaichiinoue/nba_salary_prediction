{
 "cells": [
  {
   "cell_type": "markdown",
   "id": "f06b18c4",
   "metadata": {},
   "source": [
    "## This notebook is for EDA"
   ]
  },
  {
   "cell_type": "code",
   "execution_count": 41,
   "id": "3b681b64",
   "metadata": {},
   "outputs": [],
   "source": [
    "import pandas as pd\n",
    "import numpy as np\n",
    "import matplotlib.pyplot as plt\n",
    "import seaborn as sns"
   ]
  },
  {
   "cell_type": "code",
   "execution_count": 42,
   "id": "635170f2",
   "metadata": {},
   "outputs": [],
   "source": [
    "pd.set_option('display.max_columns', None)"
   ]
  },
  {
   "cell_type": "code",
   "execution_count": 43,
   "id": "fbba5088",
   "metadata": {
    "scrolled": true
   },
   "outputs": [
    {
     "data": {
      "text/html": [
       "<div>\n",
       "<style scoped>\n",
       "    .dataframe tbody tr th:only-of-type {\n",
       "        vertical-align: middle;\n",
       "    }\n",
       "\n",
       "    .dataframe tbody tr th {\n",
       "        vertical-align: top;\n",
       "    }\n",
       "\n",
       "    .dataframe thead th {\n",
       "        text-align: right;\n",
       "    }\n",
       "</style>\n",
       "<table border=\"1\" class=\"dataframe\">\n",
       "  <thead>\n",
       "    <tr style=\"text-align: right;\">\n",
       "      <th></th>\n",
       "      <th>Player</th>\n",
       "      <th>Pos</th>\n",
       "      <th>Age</th>\n",
       "      <th>Tm</th>\n",
       "      <th>G</th>\n",
       "      <th>GS</th>\n",
       "      <th>MP</th>\n",
       "      <th>FG</th>\n",
       "      <th>FGA</th>\n",
       "      <th>3P</th>\n",
       "      <th>3PA</th>\n",
       "      <th>2P</th>\n",
       "      <th>2PA</th>\n",
       "      <th>FT</th>\n",
       "      <th>FTA</th>\n",
       "      <th>ORB</th>\n",
       "      <th>DRB</th>\n",
       "      <th>TRB</th>\n",
       "      <th>AST</th>\n",
       "      <th>STL</th>\n",
       "      <th>BLK</th>\n",
       "      <th>TOV</th>\n",
       "      <th>PF</th>\n",
       "      <th>PTS</th>\n",
       "      <th>Salary</th>\n",
       "    </tr>\n",
       "  </thead>\n",
       "  <tbody>\n",
       "    <tr>\n",
       "      <th>0</th>\n",
       "      <td>Precious Achiuwa</td>\n",
       "      <td>PF</td>\n",
       "      <td>21</td>\n",
       "      <td>MIA</td>\n",
       "      <td>61</td>\n",
       "      <td>4</td>\n",
       "      <td>737</td>\n",
       "      <td>124</td>\n",
       "      <td>228</td>\n",
       "      <td>0</td>\n",
       "      <td>1</td>\n",
       "      <td>124</td>\n",
       "      <td>227</td>\n",
       "      <td>56</td>\n",
       "      <td>110</td>\n",
       "      <td>73</td>\n",
       "      <td>135</td>\n",
       "      <td>208</td>\n",
       "      <td>29</td>\n",
       "      <td>20</td>\n",
       "      <td>28</td>\n",
       "      <td>43</td>\n",
       "      <td>91</td>\n",
       "      <td>304</td>\n",
       "      <td>2,582,160</td>\n",
       "    </tr>\n",
       "    <tr>\n",
       "      <th>1</th>\n",
       "      <td>Jaylen Adams</td>\n",
       "      <td>PG</td>\n",
       "      <td>24</td>\n",
       "      <td>MIL</td>\n",
       "      <td>7</td>\n",
       "      <td>0</td>\n",
       "      <td>18</td>\n",
       "      <td>1</td>\n",
       "      <td>8</td>\n",
       "      <td>0</td>\n",
       "      <td>2</td>\n",
       "      <td>1</td>\n",
       "      <td>6</td>\n",
       "      <td>0</td>\n",
       "      <td>0</td>\n",
       "      <td>0</td>\n",
       "      <td>3</td>\n",
       "      <td>3</td>\n",
       "      <td>2</td>\n",
       "      <td>0</td>\n",
       "      <td>0</td>\n",
       "      <td>0</td>\n",
       "      <td>1</td>\n",
       "      <td>2</td>\n",
       "      <td>449,115</td>\n",
       "    </tr>\n",
       "    <tr>\n",
       "      <th>2</th>\n",
       "      <td>Steven Adams</td>\n",
       "      <td>C</td>\n",
       "      <td>27</td>\n",
       "      <td>NOP</td>\n",
       "      <td>58</td>\n",
       "      <td>58</td>\n",
       "      <td>1605</td>\n",
       "      <td>189</td>\n",
       "      <td>308</td>\n",
       "      <td>0</td>\n",
       "      <td>3</td>\n",
       "      <td>189</td>\n",
       "      <td>305</td>\n",
       "      <td>60</td>\n",
       "      <td>135</td>\n",
       "      <td>213</td>\n",
       "      <td>301</td>\n",
       "      <td>514</td>\n",
       "      <td>111</td>\n",
       "      <td>54</td>\n",
       "      <td>38</td>\n",
       "      <td>78</td>\n",
       "      <td>113</td>\n",
       "      <td>438</td>\n",
       "      <td>29,592,695</td>\n",
       "    </tr>\n",
       "    <tr>\n",
       "      <th>3</th>\n",
       "      <td>Bam Adebayo</td>\n",
       "      <td>C</td>\n",
       "      <td>23</td>\n",
       "      <td>MIA</td>\n",
       "      <td>64</td>\n",
       "      <td>64</td>\n",
       "      <td>2143</td>\n",
       "      <td>456</td>\n",
       "      <td>800</td>\n",
       "      <td>2</td>\n",
       "      <td>8</td>\n",
       "      <td>454</td>\n",
       "      <td>792</td>\n",
       "      <td>283</td>\n",
       "      <td>354</td>\n",
       "      <td>142</td>\n",
       "      <td>431</td>\n",
       "      <td>573</td>\n",
       "      <td>346</td>\n",
       "      <td>75</td>\n",
       "      <td>66</td>\n",
       "      <td>169</td>\n",
       "      <td>145</td>\n",
       "      <td>1197</td>\n",
       "      <td>5,115,492</td>\n",
       "    </tr>\n",
       "    <tr>\n",
       "      <th>4</th>\n",
       "      <td>LaMarcus Aldridge</td>\n",
       "      <td>C</td>\n",
       "      <td>35</td>\n",
       "      <td>TOT</td>\n",
       "      <td>26</td>\n",
       "      <td>23</td>\n",
       "      <td>674</td>\n",
       "      <td>140</td>\n",
       "      <td>296</td>\n",
       "      <td>31</td>\n",
       "      <td>80</td>\n",
       "      <td>109</td>\n",
       "      <td>216</td>\n",
       "      <td>41</td>\n",
       "      <td>47</td>\n",
       "      <td>19</td>\n",
       "      <td>99</td>\n",
       "      <td>118</td>\n",
       "      <td>49</td>\n",
       "      <td>11</td>\n",
       "      <td>29</td>\n",
       "      <td>27</td>\n",
       "      <td>47</td>\n",
       "      <td>352</td>\n",
       "      <td>17,628,340</td>\n",
       "    </tr>\n",
       "    <tr>\n",
       "      <th>...</th>\n",
       "      <td>...</td>\n",
       "      <td>...</td>\n",
       "      <td>...</td>\n",
       "      <td>...</td>\n",
       "      <td>...</td>\n",
       "      <td>...</td>\n",
       "      <td>...</td>\n",
       "      <td>...</td>\n",
       "      <td>...</td>\n",
       "      <td>...</td>\n",
       "      <td>...</td>\n",
       "      <td>...</td>\n",
       "      <td>...</td>\n",
       "      <td>...</td>\n",
       "      <td>...</td>\n",
       "      <td>...</td>\n",
       "      <td>...</td>\n",
       "      <td>...</td>\n",
       "      <td>...</td>\n",
       "      <td>...</td>\n",
       "      <td>...</td>\n",
       "      <td>...</td>\n",
       "      <td>...</td>\n",
       "      <td>...</td>\n",
       "      <td>...</td>\n",
       "    </tr>\n",
       "    <tr>\n",
       "      <th>462</th>\n",
       "      <td>Delon Wright</td>\n",
       "      <td>SG</td>\n",
       "      <td>28</td>\n",
       "      <td>TOT</td>\n",
       "      <td>63</td>\n",
       "      <td>39</td>\n",
       "      <td>1748</td>\n",
       "      <td>240</td>\n",
       "      <td>518</td>\n",
       "      <td>64</td>\n",
       "      <td>172</td>\n",
       "      <td>176</td>\n",
       "      <td>346</td>\n",
       "      <td>101</td>\n",
       "      <td>126</td>\n",
       "      <td>65</td>\n",
       "      <td>204</td>\n",
       "      <td>269</td>\n",
       "      <td>278</td>\n",
       "      <td>101</td>\n",
       "      <td>30</td>\n",
       "      <td>83</td>\n",
       "      <td>75</td>\n",
       "      <td>645</td>\n",
       "      <td>9,000,000</td>\n",
       "    </tr>\n",
       "    <tr>\n",
       "      <th>463</th>\n",
       "      <td>Thaddeus Young</td>\n",
       "      <td>PF</td>\n",
       "      <td>32</td>\n",
       "      <td>CHI</td>\n",
       "      <td>68</td>\n",
       "      <td>23</td>\n",
       "      <td>1652</td>\n",
       "      <td>370</td>\n",
       "      <td>662</td>\n",
       "      <td>12</td>\n",
       "      <td>45</td>\n",
       "      <td>358</td>\n",
       "      <td>617</td>\n",
       "      <td>71</td>\n",
       "      <td>113</td>\n",
       "      <td>168</td>\n",
       "      <td>255</td>\n",
       "      <td>423</td>\n",
       "      <td>291</td>\n",
       "      <td>74</td>\n",
       "      <td>40</td>\n",
       "      <td>137</td>\n",
       "      <td>152</td>\n",
       "      <td>823</td>\n",
       "      <td>13,545,000</td>\n",
       "    </tr>\n",
       "    <tr>\n",
       "      <th>464</th>\n",
       "      <td>Trae Young</td>\n",
       "      <td>PG</td>\n",
       "      <td>22</td>\n",
       "      <td>ATL</td>\n",
       "      <td>63</td>\n",
       "      <td>63</td>\n",
       "      <td>2125</td>\n",
       "      <td>487</td>\n",
       "      <td>1112</td>\n",
       "      <td>136</td>\n",
       "      <td>397</td>\n",
       "      <td>351</td>\n",
       "      <td>715</td>\n",
       "      <td>484</td>\n",
       "      <td>546</td>\n",
       "      <td>38</td>\n",
       "      <td>207</td>\n",
       "      <td>245</td>\n",
       "      <td>594</td>\n",
       "      <td>53</td>\n",
       "      <td>12</td>\n",
       "      <td>261</td>\n",
       "      <td>111</td>\n",
       "      <td>1594</td>\n",
       "      <td>6,571,800</td>\n",
       "    </tr>\n",
       "    <tr>\n",
       "      <th>465</th>\n",
       "      <td>Cody Zeller</td>\n",
       "      <td>C</td>\n",
       "      <td>28</td>\n",
       "      <td>CHO</td>\n",
       "      <td>48</td>\n",
       "      <td>21</td>\n",
       "      <td>1005</td>\n",
       "      <td>181</td>\n",
       "      <td>324</td>\n",
       "      <td>4</td>\n",
       "      <td>28</td>\n",
       "      <td>177</td>\n",
       "      <td>296</td>\n",
       "      <td>85</td>\n",
       "      <td>119</td>\n",
       "      <td>119</td>\n",
       "      <td>209</td>\n",
       "      <td>328</td>\n",
       "      <td>86</td>\n",
       "      <td>27</td>\n",
       "      <td>17</td>\n",
       "      <td>51</td>\n",
       "      <td>121</td>\n",
       "      <td>451</td>\n",
       "      <td>15,415,730</td>\n",
       "    </tr>\n",
       "    <tr>\n",
       "      <th>466</th>\n",
       "      <td>Ivica Zubac</td>\n",
       "      <td>C</td>\n",
       "      <td>23</td>\n",
       "      <td>LAC</td>\n",
       "      <td>72</td>\n",
       "      <td>33</td>\n",
       "      <td>1609</td>\n",
       "      <td>257</td>\n",
       "      <td>394</td>\n",
       "      <td>1</td>\n",
       "      <td>4</td>\n",
       "      <td>256</td>\n",
       "      <td>390</td>\n",
       "      <td>135</td>\n",
       "      <td>171</td>\n",
       "      <td>189</td>\n",
       "      <td>330</td>\n",
       "      <td>519</td>\n",
       "      <td>90</td>\n",
       "      <td>24</td>\n",
       "      <td>62</td>\n",
       "      <td>81</td>\n",
       "      <td>187</td>\n",
       "      <td>650</td>\n",
       "      <td>7,000,000</td>\n",
       "    </tr>\n",
       "  </tbody>\n",
       "</table>\n",
       "<p>467 rows × 25 columns</p>\n",
       "</div>"
      ],
      "text/plain": [
       "                Player Pos  Age   Tm   G  GS    MP   FG   FGA   3P  3PA   2P  \\\n",
       "0     Precious Achiuwa  PF   21  MIA  61   4   737  124   228    0    1  124   \n",
       "1         Jaylen Adams  PG   24  MIL   7   0    18    1     8    0    2    1   \n",
       "2         Steven Adams   C   27  NOP  58  58  1605  189   308    0    3  189   \n",
       "3          Bam Adebayo   C   23  MIA  64  64  2143  456   800    2    8  454   \n",
       "4    LaMarcus Aldridge   C   35  TOT  26  23   674  140   296   31   80  109   \n",
       "..                 ...  ..  ...  ...  ..  ..   ...  ...   ...  ...  ...  ...   \n",
       "462       Delon Wright  SG   28  TOT  63  39  1748  240   518   64  172  176   \n",
       "463     Thaddeus Young  PF   32  CHI  68  23  1652  370   662   12   45  358   \n",
       "464         Trae Young  PG   22  ATL  63  63  2125  487  1112  136  397  351   \n",
       "465        Cody Zeller   C   28  CHO  48  21  1005  181   324    4   28  177   \n",
       "466        Ivica Zubac   C   23  LAC  72  33  1609  257   394    1    4  256   \n",
       "\n",
       "     2PA   FT  FTA  ORB  DRB  TRB  AST  STL  BLK  TOV   PF   PTS      Salary  \n",
       "0    227   56  110   73  135  208   29   20   28   43   91   304   2,582,160  \n",
       "1      6    0    0    0    3    3    2    0    0    0    1     2     449,115  \n",
       "2    305   60  135  213  301  514  111   54   38   78  113   438  29,592,695  \n",
       "3    792  283  354  142  431  573  346   75   66  169  145  1197   5,115,492  \n",
       "4    216   41   47   19   99  118   49   11   29   27   47   352  17,628,340  \n",
       "..   ...  ...  ...  ...  ...  ...  ...  ...  ...  ...  ...   ...         ...  \n",
       "462  346  101  126   65  204  269  278  101   30   83   75   645   9,000,000  \n",
       "463  617   71  113  168  255  423  291   74   40  137  152   823  13,545,000  \n",
       "464  715  484  546   38  207  245  594   53   12  261  111  1594   6,571,800  \n",
       "465  296   85  119  119  209  328   86   27   17   51  121   451  15,415,730  \n",
       "466  390  135  171  189  330  519   90   24   62   81  187   650   7,000,000  \n",
       "\n",
       "[467 rows x 25 columns]"
      ]
     },
     "execution_count": 43,
     "metadata": {},
     "output_type": "execute_result"
    }
   ],
   "source": [
    "df = pd.read_csv('nba_salary_cleaned.csv')\n",
    "df"
   ]
  },
  {
   "cell_type": "code",
   "execution_count": 44,
   "id": "e485230d",
   "metadata": {
    "scrolled": false
   },
   "outputs": [
    {
     "name": "stdout",
     "output_type": "stream",
     "text": [
      "<class 'pandas.core.frame.DataFrame'>\n",
      "RangeIndex: 467 entries, 0 to 466\n",
      "Data columns (total 25 columns):\n",
      " #   Column  Non-Null Count  Dtype \n",
      "---  ------  --------------  ----- \n",
      " 0   Player  467 non-null    object\n",
      " 1   Pos     467 non-null    object\n",
      " 2   Age     467 non-null    int64 \n",
      " 3   Tm      467 non-null    object\n",
      " 4   G       467 non-null    int64 \n",
      " 5   GS      467 non-null    int64 \n",
      " 6   MP      467 non-null    int64 \n",
      " 7   FG      467 non-null    int64 \n",
      " 8   FGA     467 non-null    int64 \n",
      " 9   3P      467 non-null    int64 \n",
      " 10  3PA     467 non-null    int64 \n",
      " 11  2P      467 non-null    int64 \n",
      " 12  2PA     467 non-null    int64 \n",
      " 13  FT      467 non-null    int64 \n",
      " 14  FTA     467 non-null    int64 \n",
      " 15  ORB     467 non-null    int64 \n",
      " 16  DRB     467 non-null    int64 \n",
      " 17  TRB     467 non-null    int64 \n",
      " 18  AST     467 non-null    int64 \n",
      " 19  STL     467 non-null    int64 \n",
      " 20  BLK     467 non-null    int64 \n",
      " 21  TOV     467 non-null    int64 \n",
      " 22  PF      467 non-null    int64 \n",
      " 23  PTS     467 non-null    int64 \n",
      " 24  Salary  467 non-null    object\n",
      "dtypes: int64(21), object(4)\n",
      "memory usage: 91.3+ KB\n"
     ]
    }
   ],
   "source": [
    "df.info()"
   ]
  },
  {
   "cell_type": "code",
   "execution_count": 45,
   "id": "86d03719",
   "metadata": {
    "scrolled": true
   },
   "outputs": [
    {
     "data": {
      "text/html": [
       "<div>\n",
       "<style scoped>\n",
       "    .dataframe tbody tr th:only-of-type {\n",
       "        vertical-align: middle;\n",
       "    }\n",
       "\n",
       "    .dataframe tbody tr th {\n",
       "        vertical-align: top;\n",
       "    }\n",
       "\n",
       "    .dataframe thead th {\n",
       "        text-align: right;\n",
       "    }\n",
       "</style>\n",
       "<table border=\"1\" class=\"dataframe\">\n",
       "  <thead>\n",
       "    <tr style=\"text-align: right;\">\n",
       "      <th></th>\n",
       "      <th>Age</th>\n",
       "      <th>G</th>\n",
       "      <th>GS</th>\n",
       "      <th>MP</th>\n",
       "      <th>FG</th>\n",
       "      <th>FGA</th>\n",
       "      <th>3P</th>\n",
       "      <th>3PA</th>\n",
       "      <th>2P</th>\n",
       "      <th>2PA</th>\n",
       "    </tr>\n",
       "  </thead>\n",
       "  <tbody>\n",
       "    <tr>\n",
       "      <th>count</th>\n",
       "      <td>467.000000</td>\n",
       "      <td>467.000000</td>\n",
       "      <td>467.000000</td>\n",
       "      <td>467.000000</td>\n",
       "      <td>467.000000</td>\n",
       "      <td>467.000000</td>\n",
       "      <td>467.000000</td>\n",
       "      <td>467.000000</td>\n",
       "      <td>467.000000</td>\n",
       "      <td>467.000000</td>\n",
       "    </tr>\n",
       "    <tr>\n",
       "      <th>mean</th>\n",
       "      <td>25.543897</td>\n",
       "      <td>42.910064</td>\n",
       "      <td>20.158458</td>\n",
       "      <td>966.612420</td>\n",
       "      <td>164.554604</td>\n",
       "      <td>352.563169</td>\n",
       "      <td>50.543897</td>\n",
       "      <td>137.708779</td>\n",
       "      <td>114.010707</td>\n",
       "      <td>214.854390</td>\n",
       "    </tr>\n",
       "    <tr>\n",
       "      <th>std</th>\n",
       "      <td>4.045304</td>\n",
       "      <td>20.611271</td>\n",
       "      <td>23.354530</td>\n",
       "      <td>699.054317</td>\n",
       "      <td>150.177487</td>\n",
       "      <td>313.618905</td>\n",
       "      <td>55.113419</td>\n",
       "      <td>140.368158</td>\n",
       "      <td>116.979923</td>\n",
       "      <td>215.440242</td>\n",
       "    </tr>\n",
       "    <tr>\n",
       "      <th>min</th>\n",
       "      <td>19.000000</td>\n",
       "      <td>1.000000</td>\n",
       "      <td>0.000000</td>\n",
       "      <td>3.000000</td>\n",
       "      <td>0.000000</td>\n",
       "      <td>0.000000</td>\n",
       "      <td>0.000000</td>\n",
       "      <td>0.000000</td>\n",
       "      <td>0.000000</td>\n",
       "      <td>0.000000</td>\n",
       "    </tr>\n",
       "    <tr>\n",
       "      <th>25%</th>\n",
       "      <td>22.000000</td>\n",
       "      <td>27.000000</td>\n",
       "      <td>1.000000</td>\n",
       "      <td>300.500000</td>\n",
       "      <td>39.000000</td>\n",
       "      <td>92.500000</td>\n",
       "      <td>4.000000</td>\n",
       "      <td>18.500000</td>\n",
       "      <td>24.000000</td>\n",
       "      <td>48.500000</td>\n",
       "    </tr>\n",
       "    <tr>\n",
       "      <th>50%</th>\n",
       "      <td>25.000000</td>\n",
       "      <td>46.000000</td>\n",
       "      <td>8.000000</td>\n",
       "      <td>928.000000</td>\n",
       "      <td>124.000000</td>\n",
       "      <td>268.000000</td>\n",
       "      <td>31.000000</td>\n",
       "      <td>92.000000</td>\n",
       "      <td>73.000000</td>\n",
       "      <td>148.000000</td>\n",
       "    </tr>\n",
       "    <tr>\n",
       "      <th>75%</th>\n",
       "      <td>28.000000</td>\n",
       "      <td>61.000000</td>\n",
       "      <td>38.000000</td>\n",
       "      <td>1510.500000</td>\n",
       "      <td>254.500000</td>\n",
       "      <td>555.500000</td>\n",
       "      <td>82.500000</td>\n",
       "      <td>217.500000</td>\n",
       "      <td>168.000000</td>\n",
       "      <td>323.000000</td>\n",
       "    </tr>\n",
       "    <tr>\n",
       "      <th>max</th>\n",
       "      <td>40.000000</td>\n",
       "      <td>72.000000</td>\n",
       "      <td>72.000000</td>\n",
       "      <td>2667.000000</td>\n",
       "      <td>670.000000</td>\n",
       "      <td>1382.000000</td>\n",
       "      <td>337.000000</td>\n",
       "      <td>801.000000</td>\n",
       "      <td>624.000000</td>\n",
       "      <td>1009.000000</td>\n",
       "    </tr>\n",
       "  </tbody>\n",
       "</table>\n",
       "</div>"
      ],
      "text/plain": [
       "              Age           G          GS           MP          FG  \\\n",
       "count  467.000000  467.000000  467.000000   467.000000  467.000000   \n",
       "mean    25.543897   42.910064   20.158458   966.612420  164.554604   \n",
       "std      4.045304   20.611271   23.354530   699.054317  150.177487   \n",
       "min     19.000000    1.000000    0.000000     3.000000    0.000000   \n",
       "25%     22.000000   27.000000    1.000000   300.500000   39.000000   \n",
       "50%     25.000000   46.000000    8.000000   928.000000  124.000000   \n",
       "75%     28.000000   61.000000   38.000000  1510.500000  254.500000   \n",
       "max     40.000000   72.000000   72.000000  2667.000000  670.000000   \n",
       "\n",
       "               FGA          3P         3PA          2P          2PA  \n",
       "count   467.000000  467.000000  467.000000  467.000000   467.000000  \n",
       "mean    352.563169   50.543897  137.708779  114.010707   214.854390  \n",
       "std     313.618905   55.113419  140.368158  116.979923   215.440242  \n",
       "min       0.000000    0.000000    0.000000    0.000000     0.000000  \n",
       "25%      92.500000    4.000000   18.500000   24.000000    48.500000  \n",
       "50%     268.000000   31.000000   92.000000   73.000000   148.000000  \n",
       "75%     555.500000   82.500000  217.500000  168.000000   323.000000  \n",
       "max    1382.000000  337.000000  801.000000  624.000000  1009.000000  "
      ]
     },
     "execution_count": 45,
     "metadata": {},
     "output_type": "execute_result"
    }
   ],
   "source": [
    "# too many columns to show, so split into two\n",
    "df[['Player', 'Pos', 'Age', 'Tm', 'G', 'GS', 'MP', 'FG', 'FGA', '3P', '3PA',\n",
    "       '2P', '2PA']].describe()"
   ]
  },
  {
   "cell_type": "code",
   "execution_count": 46,
   "id": "3116f688",
   "metadata": {},
   "outputs": [
    {
     "data": {
      "text/html": [
       "<div>\n",
       "<style scoped>\n",
       "    .dataframe tbody tr th:only-of-type {\n",
       "        vertical-align: middle;\n",
       "    }\n",
       "\n",
       "    .dataframe tbody tr th {\n",
       "        vertical-align: top;\n",
       "    }\n",
       "\n",
       "    .dataframe thead th {\n",
       "        text-align: right;\n",
       "    }\n",
       "</style>\n",
       "<table border=\"1\" class=\"dataframe\">\n",
       "  <thead>\n",
       "    <tr style=\"text-align: right;\">\n",
       "      <th></th>\n",
       "      <th>FT</th>\n",
       "      <th>FTA</th>\n",
       "      <th>ORB</th>\n",
       "      <th>DRB</th>\n",
       "      <th>TRB</th>\n",
       "      <th>AST</th>\n",
       "      <th>STL</th>\n",
       "      <th>BLK</th>\n",
       "      <th>TOV</th>\n",
       "      <th>PF</th>\n",
       "      <th>PTS</th>\n",
       "    </tr>\n",
       "  </thead>\n",
       "  <tbody>\n",
       "    <tr>\n",
       "      <th>count</th>\n",
       "      <td>467.000000</td>\n",
       "      <td>467.000000</td>\n",
       "      <td>467.000000</td>\n",
       "      <td>467.000000</td>\n",
       "      <td>467.000000</td>\n",
       "      <td>467.000000</td>\n",
       "      <td>467.000000</td>\n",
       "      <td>467.000000</td>\n",
       "      <td>467.000000</td>\n",
       "      <td>467.000000</td>\n",
       "      <td>467.000000</td>\n",
       "    </tr>\n",
       "    <tr>\n",
       "      <th>mean</th>\n",
       "      <td>68.464668</td>\n",
       "      <td>88.004283</td>\n",
       "      <td>38.826552</td>\n",
       "      <td>136.978587</td>\n",
       "      <td>175.805139</td>\n",
       "      <td>99.214133</td>\n",
       "      <td>30.509636</td>\n",
       "      <td>19.978587</td>\n",
       "      <td>52.940043</td>\n",
       "      <td>77.627409</td>\n",
       "      <td>448.117773</td>\n",
       "    </tr>\n",
       "    <tr>\n",
       "      <th>std</th>\n",
       "      <td>82.288957</td>\n",
       "      <td>101.412386</td>\n",
       "      <td>43.821648</td>\n",
       "      <td>119.731421</td>\n",
       "      <td>155.759769</td>\n",
       "      <td>112.321777</td>\n",
       "      <td>25.306732</td>\n",
       "      <td>23.982638</td>\n",
       "      <td>50.898627</td>\n",
       "      <td>55.134388</td>\n",
       "      <td>415.178214</td>\n",
       "    </tr>\n",
       "    <tr>\n",
       "      <th>min</th>\n",
       "      <td>0.000000</td>\n",
       "      <td>0.000000</td>\n",
       "      <td>0.000000</td>\n",
       "      <td>0.000000</td>\n",
       "      <td>0.000000</td>\n",
       "      <td>0.000000</td>\n",
       "      <td>0.000000</td>\n",
       "      <td>0.000000</td>\n",
       "      <td>0.000000</td>\n",
       "      <td>0.000000</td>\n",
       "      <td>0.000000</td>\n",
       "    </tr>\n",
       "    <tr>\n",
       "      <th>25%</th>\n",
       "      <td>13.000000</td>\n",
       "      <td>17.000000</td>\n",
       "      <td>9.000000</td>\n",
       "      <td>39.000000</td>\n",
       "      <td>52.500000</td>\n",
       "      <td>19.000000</td>\n",
       "      <td>8.000000</td>\n",
       "      <td>4.000000</td>\n",
       "      <td>13.000000</td>\n",
       "      <td>27.000000</td>\n",
       "      <td>104.000000</td>\n",
       "    </tr>\n",
       "    <tr>\n",
       "      <th>50%</th>\n",
       "      <td>41.000000</td>\n",
       "      <td>55.000000</td>\n",
       "      <td>27.000000</td>\n",
       "      <td>112.000000</td>\n",
       "      <td>140.000000</td>\n",
       "      <td>63.000000</td>\n",
       "      <td>26.000000</td>\n",
       "      <td>12.000000</td>\n",
       "      <td>41.000000</td>\n",
       "      <td>74.000000</td>\n",
       "      <td>342.000000</td>\n",
       "    </tr>\n",
       "    <tr>\n",
       "      <th>75%</th>\n",
       "      <td>94.000000</td>\n",
       "      <td>119.500000</td>\n",
       "      <td>52.000000</td>\n",
       "      <td>205.000000</td>\n",
       "      <td>258.500000</td>\n",
       "      <td>129.500000</td>\n",
       "      <td>46.000000</td>\n",
       "      <td>27.000000</td>\n",
       "      <td>76.000000</td>\n",
       "      <td>119.000000</td>\n",
       "      <td>691.500000</td>\n",
       "    </tr>\n",
       "    <tr>\n",
       "      <th>max</th>\n",
       "      <td>484.000000</td>\n",
       "      <td>581.000000</td>\n",
       "      <td>297.000000</td>\n",
       "      <td>720.000000</td>\n",
       "      <td>960.000000</td>\n",
       "      <td>763.000000</td>\n",
       "      <td>108.000000</td>\n",
       "      <td>190.000000</td>\n",
       "      <td>312.000000</td>\n",
       "      <td>237.000000</td>\n",
       "      <td>2015.000000</td>\n",
       "    </tr>\n",
       "  </tbody>\n",
       "</table>\n",
       "</div>"
      ],
      "text/plain": [
       "               FT         FTA         ORB         DRB         TRB         AST  \\\n",
       "count  467.000000  467.000000  467.000000  467.000000  467.000000  467.000000   \n",
       "mean    68.464668   88.004283   38.826552  136.978587  175.805139   99.214133   \n",
       "std     82.288957  101.412386   43.821648  119.731421  155.759769  112.321777   \n",
       "min      0.000000    0.000000    0.000000    0.000000    0.000000    0.000000   \n",
       "25%     13.000000   17.000000    9.000000   39.000000   52.500000   19.000000   \n",
       "50%     41.000000   55.000000   27.000000  112.000000  140.000000   63.000000   \n",
       "75%     94.000000  119.500000   52.000000  205.000000  258.500000  129.500000   \n",
       "max    484.000000  581.000000  297.000000  720.000000  960.000000  763.000000   \n",
       "\n",
       "              STL         BLK         TOV          PF          PTS  \n",
       "count  467.000000  467.000000  467.000000  467.000000   467.000000  \n",
       "mean    30.509636   19.978587   52.940043   77.627409   448.117773  \n",
       "std     25.306732   23.982638   50.898627   55.134388   415.178214  \n",
       "min      0.000000    0.000000    0.000000    0.000000     0.000000  \n",
       "25%      8.000000    4.000000   13.000000   27.000000   104.000000  \n",
       "50%     26.000000   12.000000   41.000000   74.000000   342.000000  \n",
       "75%     46.000000   27.000000   76.000000  119.000000   691.500000  \n",
       "max    108.000000  190.000000  312.000000  237.000000  2015.000000  "
      ]
     },
     "execution_count": 46,
     "metadata": {},
     "output_type": "execute_result"
    }
   ],
   "source": [
    "df[['FT', 'FTA', 'ORB', 'DRB', 'TRB', 'AST', 'STL', 'BLK', 'TOV', 'PF', 'PTS', 'Salary']].describe()"
   ]
  },
  {
   "cell_type": "code",
   "execution_count": 47,
   "id": "55c164b0",
   "metadata": {
    "scrolled": true
   },
   "outputs": [
    {
     "data": {
      "text/plain": [
       "Index(['Player', 'Pos', 'Age', 'Tm', 'G', 'GS', 'MP', 'FG', 'FGA', '3P', '3PA',\n",
       "       '2P', '2PA', 'FT', 'FTA', 'ORB', 'DRB', 'TRB', 'AST', 'STL', 'BLK',\n",
       "       'TOV', 'PF', 'PTS', 'Salary'],\n",
       "      dtype='object')"
      ]
     },
     "execution_count": 47,
     "metadata": {},
     "output_type": "execute_result"
    }
   ],
   "source": [
    "df.columns"
   ]
  },
  {
   "cell_type": "code",
   "execution_count": 48,
   "id": "057f7b0a",
   "metadata": {},
   "outputs": [],
   "source": [
    "hist_columns = ['Pos', 'Age', 'Tm', 'G', 'GS', 'MP', 'FG', 'FGA', '3P',\n",
    "       '3PA', '2P', '2PA', 'FT', 'FTA', 'ORB',\n",
    "       'DRB', 'TRB', 'AST', 'STL', 'BLK', 'TOV', 'PF', 'PTS', 'Salary']"
   ]
  },
  {
   "cell_type": "code",
   "execution_count": 49,
   "id": "70029485",
   "metadata": {
    "scrolled": false
   },
   "outputs": [
    {
     "data": {
      "image/png": "[encoded data removed]",
      "text/plain": [
       "<Figure size 432x288 with 1 Axes>"
      ]
     },
     "metadata": {
      "needs_background": "light"
     },
     "output_type": "display_data"
    },
    {
     "data": {
      "text/plain": [
       "<Figure size 432x288 with 0 Axes>"
      ]
     },
     "metadata": {},
     "output_type": "display_data"
    },
    {
     "data": {
      "image/png": "[encoded data removed]",
      "text/plain": [
       "<Figure size 432x288 with 1 Axes>"
      ]
     },
     "metadata": {
      "needs_background": "light"
     },
     "output_type": "display_data"
    },
    {
     "data": {
      "text/plain": [
       "<Figure size 432x288 with 0 Axes>"
      ]
     },
     "metadata": {},
     "output_type": "display_data"
    },
    {
     "data": {
      "image/png": "[encoded data removed]",
      "text/plain": [
       "<Figure size 432x288 with 1 Axes>"
      ]
     },
     "metadata": {
      "needs_background": "light"
     },
     "output_type": "display_data"
    },
    {
     "data": {
      "text/plain": [
       "<Figure size 432x288 with 0 Axes>"
      ]
     },
     "metadata": {},
     "output_type": "display_data"
    },
    {
     "data": {
      "image/png": "[encoded data removed]",
      "text/plain": [
       "<Figure size 432x288 with 1 Axes>"
      ]
     },
     "metadata": {
      "needs_background": "light"
     },
     "output_type": "display_data"
    },
    {
     "data": {
      "text/plain": [
       "<Figure size 432x288 with 0 Axes>"
      ]
     },
     "metadata": {},
     "output_type": "display_data"
    },
    {
     "data": {
      "image/png": "[encoded data removed]",
      "text/plain": [
       "<Figure size 432x288 with 1 Axes>"
      ]
     },
     "metadata": {
      "needs_background": "light"
     },
     "output_type": "display_data"
    },
    {
     "data": {
      "text/plain": [
       "<Figure size 432x288 with 0 Axes>"
      ]
     },
     "metadata": {},
     "output_type": "display_data"
    },
    {
     "data": {
      "image/png": "[encoded data removed]",
      "text/plain": [
       "<Figure size 432x288 with 1 Axes>"
      ]
     },
     "metadata": {
      "needs_background": "light"
     },
     "output_type": "display_data"
    },
    {
     "data": {
      "text/plain": [
       "<Figure size 432x288 with 0 Axes>"
      ]
     },
     "metadata": {},
     "output_type": "display_data"
    },
    {
     "data": {
      "image/png": "[encoded data removed]",
      "text/plain": [
       "<Figure size 432x288 with 1 Axes>"
      ]
     },
     "metadata": {
      "needs_background": "light"
     },
     "output_type": "display_data"
    },
    {
     "data": {
      "text/plain": [
       "<Figure size 432x288 with 0 Axes>"
      ]
     },
     "metadata": {},
     "output_type": "display_data"
    },
    {
     "data": {
      "image/png": "[encoded data removed]",
      "text/plain": [
       "<Figure size 432x288 with 1 Axes>"
      ]
     },
     "metadata": {
      "needs_background": "light"
     },
     "output_type": "display_data"
    },
    {
     "data": {
      "text/plain": [
       "<Figure size 432x288 with 0 Axes>"
      ]
     },
     "metadata": {},
     "output_type": "display_data"
    },
    {
     "data": {
      "image/png": "[encoded data removed]",
      "text/plain": [
       "<Figure size 432x288 with 1 Axes>"
      ]
     },
     "metadata": {
      "needs_background": "light"
     },
     "output_type": "display_data"
    },
    {
     "data": {
      "text/plain": [
       "<Figure size 432x288 with 0 Axes>"
      ]
     },
     "metadata": {},
     "output_type": "display_data"
    },
    {
     "data": {
      "image/png": "[encoded data removed]",
      "text/plain": [
       "<Figure size 432x288 with 1 Axes>"
      ]
     },
     "metadata": {
      "needs_background": "light"
     },
     "output_type": "display_data"
    },
    {
     "data": {
      "text/plain": [
       "<Figure size 432x288 with 0 Axes>"
      ]
     },
     "metadata": {},
     "output_type": "display_data"
    },
    {
     "data": {
      "image/png": "[encoded data removed]",
      "text/plain": [
       "<Figure size 432x288 with 1 Axes>"
      ]
     },
     "metadata": {
      "needs_background": "light"
     },
     "output_type": "display_data"
    },
    {
     "data": {
      "text/plain": [
       "<Figure size 432x288 with 0 Axes>"
      ]
     },
     "metadata": {},
     "output_type": "display_data"
    },
    {
     "data": {
      "image/png": "[encoded data removed]",
      "text/plain": [
       "<Figure size 432x288 with 1 Axes>"
      ]
     },
     "metadata": {
      "needs_background": "light"
     },
     "output_type": "display_data"
    },
    {
     "data": {
      "text/plain": [
       "<Figure size 432x288 with 0 Axes>"
      ]
     },
     "metadata": {},
     "output_type": "display_data"
    },
    {
     "data": {
      "image/png": "[encoded data removed]",
      "text/plain": [
       "<Figure size 432x288 with 1 Axes>"
      ]
     },
     "metadata": {
      "needs_background": "light"
     },
     "output_type": "display_data"
    },
    {
     "data": {
      "text/plain": [
       "<Figure size 432x288 with 0 Axes>"
      ]
     },
     "metadata": {},
     "output_type": "display_data"
    },
    {
     "data": {
      "image/png": "[encoded data removed]",
      "text/plain": [
       "<Figure size 432x288 with 1 Axes>"
      ]
     },
     "metadata": {
      "needs_background": "light"
     },
     "output_type": "display_data"
    },
    {
     "data": {
      "text/plain": [
       "<Figure size 432x288 with 0 Axes>"
      ]
     },
     "metadata": {},
     "output_type": "display_data"
    },
    {
     "data": {
      "image/png": "[encoded data removed]",
      "text/plain": [
       "<Figure size 432x288 with 1 Axes>"
      ]
     },
     "metadata": {
      "needs_background": "light"
     },
     "output_type": "display_data"
    },
    {
     "data": {
      "text/plain": [
       "<Figure size 432x288 with 0 Axes>"
      ]
     },
     "metadata": {},
     "output_type": "display_data"
    },
    {
     "data": {
      "image/png": "[encoded data removed]",
      "text/plain": [
       "<Figure size 432x288 with 1 Axes>"
      ]
     },
     "metadata": {
      "needs_background": "light"
     },
     "output_type": "display_data"
    },
    {
     "data": {
      "text/plain": [
       "<Figure size 432x288 with 0 Axes>"
      ]
     },
     "metadata": {},
     "output_type": "display_data"
    },
    {
     "data": {
      "image/png": "[encoded data removed]",
      "text/plain": [
       "<Figure size 432x288 with 1 Axes>"
      ]
     },
     "metadata": {
      "needs_background": "light"
     },
     "output_type": "display_data"
    },
    {
     "data": {
      "text/plain": [
       "<Figure size 432x288 with 0 Axes>"
      ]
     },
     "metadata": {},
     "output_type": "display_data"
    },
    {
     "data": {
      "image/png": "[encoded data removed]",
      "text/plain": [
       "<Figure size 432x288 with 1 Axes>"
      ]
     },
     "metadata": {
      "needs_background": "light"
     },
     "output_type": "display_data"
    },
    {
     "data": {
      "text/plain": [
       "<Figure size 432x288 with 0 Axes>"
      ]
     },
     "metadata": {},
     "output_type": "display_data"
    },
    {
     "data": {
      "image/png": "[encoded data removed]",
      "text/plain": [
       "<Figure size 432x288 with 1 Axes>"
      ]
     },
     "metadata": {
      "needs_background": "light"
     },
     "output_type": "display_data"
    },
    {
     "data": {
      "text/plain": [
       "<Figure size 432x288 with 0 Axes>"
      ]
     },
     "metadata": {},
     "output_type": "display_data"
    },
    {
     "data": {
      "image/png": "[encoded data removed]",
      "text/plain": [
       "<Figure size 432x288 with 1 Axes>"
      ]
     },
     "metadata": {
      "needs_background": "light"
     },
     "output_type": "display_data"
    },
    {
     "data": {
      "text/plain": [
       "<Figure size 432x288 with 0 Axes>"
      ]
     },
     "metadata": {},
     "output_type": "display_data"
    },
    {
     "data": {
      "image/png": "[encoded data removed]",
      "text/plain": [
       "<Figure size 432x288 with 1 Axes>"
      ]
     },
     "metadata": {
      "needs_background": "light"
     },
     "output_type": "display_data"
    },
    {
     "data": {
      "text/plain": [
       "<Figure size 432x288 with 0 Axes>"
      ]
     },
     "metadata": {},
     "output_type": "display_data"
    },
    {
     "data": {
      "image/png": "[encoded data removed]",
      "text/plain": [
       "<Figure size 432x288 with 1 Axes>"
      ]
     },
     "metadata": {
      "needs_background": "light"
     },
     "output_type": "display_data"
    },
    {
     "data": {
      "text/plain": [
       "<Figure size 432x288 with 0 Axes>"
      ]
     },
     "metadata": {},
     "output_type": "display_data"
    },
    {
     "data": {
      "image/png": "[encoded data removed]",
      "text/plain": [
       "<Figure size 432x288 with 1 Axes>"
      ]
     },
     "metadata": {
      "needs_background": "light"
     },
     "output_type": "display_data"
    },
    {
     "data": {
      "text/plain": [
       "<Figure size 432x288 with 0 Axes>"
      ]
     },
     "metadata": {},
     "output_type": "display_data"
    },
    {
     "data": {
      "image/png": "[encoded data removed]",
      "text/plain": [
       "<Figure size 432x288 with 1 Axes>"
      ]
     },
     "metadata": {
      "needs_background": "light"
     },
     "output_type": "display_data"
    },
    {
     "data": {
      "text/plain": [
       "<Figure size 432x288 with 0 Axes>"
      ]
     },
     "metadata": {},
     "output_type": "display_data"
    }
   ],
   "source": [
    "for column in hist_columns:\n",
    "    plt.hist(df[column], bins = 10, color = 'orange', edgecolor = 'black')\n",
    "    plt.xlabel(column)\n",
    "    plt.figure()\n",
    "    plt.show()"
   ]
  },
  {
   "cell_type": "code",
   "execution_count": 50,
   "id": "886102f2",
   "metadata": {
    "scrolled": true
   },
   "outputs": [
    {
     "data": {
      "text/html": [
       "<div>\n",
       "<style scoped>\n",
       "    .dataframe tbody tr th:only-of-type {\n",
       "        vertical-align: middle;\n",
       "    }\n",
       "\n",
       "    .dataframe tbody tr th {\n",
       "        vertical-align: top;\n",
       "    }\n",
       "\n",
       "    .dataframe thead th {\n",
       "        text-align: right;\n",
       "    }\n",
       "</style>\n",
       "<table border=\"1\" class=\"dataframe\">\n",
       "  <thead>\n",
       "    <tr style=\"text-align: right;\">\n",
       "      <th></th>\n",
       "      <th>Player</th>\n",
       "      <th>Pos</th>\n",
       "      <th>Age</th>\n",
       "      <th>Tm</th>\n",
       "      <th>G</th>\n",
       "      <th>GS</th>\n",
       "      <th>MP</th>\n",
       "      <th>FG</th>\n",
       "      <th>FGA</th>\n",
       "      <th>3P</th>\n",
       "      <th>3PA</th>\n",
       "      <th>2P</th>\n",
       "      <th>2PA</th>\n",
       "      <th>FT</th>\n",
       "      <th>FTA</th>\n",
       "      <th>ORB</th>\n",
       "      <th>DRB</th>\n",
       "      <th>TRB</th>\n",
       "      <th>AST</th>\n",
       "      <th>STL</th>\n",
       "      <th>BLK</th>\n",
       "      <th>TOV</th>\n",
       "      <th>PF</th>\n",
       "      <th>PTS</th>\n",
       "      <th>Salary</th>\n",
       "    </tr>\n",
       "  </thead>\n",
       "  <tbody>\n",
       "    <tr>\n",
       "      <th>0</th>\n",
       "      <td>Precious Achiuwa</td>\n",
       "      <td>PF</td>\n",
       "      <td>21</td>\n",
       "      <td>MIA</td>\n",
       "      <td>61</td>\n",
       "      <td>4</td>\n",
       "      <td>737</td>\n",
       "      <td>124</td>\n",
       "      <td>228</td>\n",
       "      <td>0</td>\n",
       "      <td>1</td>\n",
       "      <td>124</td>\n",
       "      <td>227</td>\n",
       "      <td>56</td>\n",
       "      <td>110</td>\n",
       "      <td>73</td>\n",
       "      <td>135</td>\n",
       "      <td>208</td>\n",
       "      <td>29</td>\n",
       "      <td>20</td>\n",
       "      <td>28</td>\n",
       "      <td>43</td>\n",
       "      <td>91</td>\n",
       "      <td>304</td>\n",
       "      <td>2,582,160</td>\n",
       "    </tr>\n",
       "    <tr>\n",
       "      <th>1</th>\n",
       "      <td>Jaylen Adams</td>\n",
       "      <td>PG</td>\n",
       "      <td>24</td>\n",
       "      <td>MIL</td>\n",
       "      <td>7</td>\n",
       "      <td>0</td>\n",
       "      <td>18</td>\n",
       "      <td>1</td>\n",
       "      <td>8</td>\n",
       "      <td>0</td>\n",
       "      <td>2</td>\n",
       "      <td>1</td>\n",
       "      <td>6</td>\n",
       "      <td>0</td>\n",
       "      <td>0</td>\n",
       "      <td>0</td>\n",
       "      <td>3</td>\n",
       "      <td>3</td>\n",
       "      <td>2</td>\n",
       "      <td>0</td>\n",
       "      <td>0</td>\n",
       "      <td>0</td>\n",
       "      <td>1</td>\n",
       "      <td>2</td>\n",
       "      <td>449,115</td>\n",
       "    </tr>\n",
       "    <tr>\n",
       "      <th>2</th>\n",
       "      <td>Steven Adams</td>\n",
       "      <td>C</td>\n",
       "      <td>27</td>\n",
       "      <td>NOP</td>\n",
       "      <td>58</td>\n",
       "      <td>58</td>\n",
       "      <td>1605</td>\n",
       "      <td>189</td>\n",
       "      <td>308</td>\n",
       "      <td>0</td>\n",
       "      <td>3</td>\n",
       "      <td>189</td>\n",
       "      <td>305</td>\n",
       "      <td>60</td>\n",
       "      <td>135</td>\n",
       "      <td>213</td>\n",
       "      <td>301</td>\n",
       "      <td>514</td>\n",
       "      <td>111</td>\n",
       "      <td>54</td>\n",
       "      <td>38</td>\n",
       "      <td>78</td>\n",
       "      <td>113</td>\n",
       "      <td>438</td>\n",
       "      <td>29,592,695</td>\n",
       "    </tr>\n",
       "    <tr>\n",
       "      <th>3</th>\n",
       "      <td>Bam Adebayo</td>\n",
       "      <td>C</td>\n",
       "      <td>23</td>\n",
       "      <td>MIA</td>\n",
       "      <td>64</td>\n",
       "      <td>64</td>\n",
       "      <td>2143</td>\n",
       "      <td>456</td>\n",
       "      <td>800</td>\n",
       "      <td>2</td>\n",
       "      <td>8</td>\n",
       "      <td>454</td>\n",
       "      <td>792</td>\n",
       "      <td>283</td>\n",
       "      <td>354</td>\n",
       "      <td>142</td>\n",
       "      <td>431</td>\n",
       "      <td>573</td>\n",
       "      <td>346</td>\n",
       "      <td>75</td>\n",
       "      <td>66</td>\n",
       "      <td>169</td>\n",
       "      <td>145</td>\n",
       "      <td>1197</td>\n",
       "      <td>5,115,492</td>\n",
       "    </tr>\n",
       "    <tr>\n",
       "      <th>4</th>\n",
       "      <td>LaMarcus Aldridge</td>\n",
       "      <td>C</td>\n",
       "      <td>35</td>\n",
       "      <td>TOT</td>\n",
       "      <td>26</td>\n",
       "      <td>23</td>\n",
       "      <td>674</td>\n",
       "      <td>140</td>\n",
       "      <td>296</td>\n",
       "      <td>31</td>\n",
       "      <td>80</td>\n",
       "      <td>109</td>\n",
       "      <td>216</td>\n",
       "      <td>41</td>\n",
       "      <td>47</td>\n",
       "      <td>19</td>\n",
       "      <td>99</td>\n",
       "      <td>118</td>\n",
       "      <td>49</td>\n",
       "      <td>11</td>\n",
       "      <td>29</td>\n",
       "      <td>27</td>\n",
       "      <td>47</td>\n",
       "      <td>352</td>\n",
       "      <td>17,628,340</td>\n",
       "    </tr>\n",
       "  </tbody>\n",
       "</table>\n",
       "</div>"
      ],
      "text/plain": [
       "              Player Pos  Age   Tm   G  GS    MP   FG  FGA  3P  3PA   2P  2PA  \\\n",
       "0   Precious Achiuwa  PF   21  MIA  61   4   737  124  228   0    1  124  227   \n",
       "1       Jaylen Adams  PG   24  MIL   7   0    18    1    8   0    2    1    6   \n",
       "2       Steven Adams   C   27  NOP  58  58  1605  189  308   0    3  189  305   \n",
       "3        Bam Adebayo   C   23  MIA  64  64  2143  456  800   2    8  454  792   \n",
       "4  LaMarcus Aldridge   C   35  TOT  26  23   674  140  296  31   80  109  216   \n",
       "\n",
       "    FT  FTA  ORB  DRB  TRB  AST  STL  BLK  TOV   PF   PTS      Salary  \n",
       "0   56  110   73  135  208   29   20   28   43   91   304   2,582,160  \n",
       "1    0    0    0    3    3    2    0    0    0    1     2     449,115  \n",
       "2   60  135  213  301  514  111   54   38   78  113   438  29,592,695  \n",
       "3  283  354  142  431  573  346   75   66  169  145  1197   5,115,492  \n",
       "4   41   47   19   99  118   49   11   29   27   47   352  17,628,340  "
      ]
     },
     "execution_count": 50,
     "metadata": {},
     "output_type": "execute_result"
    }
   ],
   "source": [
    "df.head()"
   ]
  },
  {
   "cell_type": "code",
   "execution_count": 51,
   "id": "02d13809",
   "metadata": {
    "scrolled": true
   },
   "outputs": [
    {
     "data": {
      "text/plain": [
       "Index(['Player', 'Pos', 'Age', 'Tm', 'G', 'GS', 'MP', 'FG', 'FGA', '3P', '3PA',\n",
       "       '2P', '2PA', 'FT', 'FTA', 'ORB', 'DRB', 'TRB', 'AST', 'STL', 'BLK',\n",
       "       'TOV', 'PF', 'PTS', 'Salary'],\n",
       "      dtype='object')"
      ]
     },
     "execution_count": 51,
     "metadata": {},
     "output_type": "execute_result"
    }
   ],
   "source": [
    "df.columns"
   ]
  },
  {
   "cell_type": "code",
   "execution_count": 52,
   "id": "3b9733e7",
   "metadata": {},
   "outputs": [],
   "source": [
    "cont = ['Age', 'G', 'GS', 'MP', 'FG', 'FGA', '3P', '3PA', '2P', '2PA', 'FT', 'FTA', 'ORB', 'DRB', 'TRB', 'AST', 'STL', 'BLK', 'TOV', 'PF', 'PTS', 'Salary']"
   ]
  },
  {
   "cell_type": "code",
   "execution_count": 55,
   "id": "966bc9b6",
   "metadata": {},
   "outputs": [
    {
     "data": {
      "text/html": [
       "<div>\n",
       "<style scoped>\n",
       "    .dataframe tbody tr th:only-of-type {\n",
       "        vertical-align: middle;\n",
       "    }\n",
       "\n",
       "    .dataframe tbody tr th {\n",
       "        vertical-align: top;\n",
       "    }\n",
       "\n",
       "    .dataframe thead th {\n",
       "        text-align: right;\n",
       "    }\n",
       "</style>\n",
       "<table border=\"1\" class=\"dataframe\">\n",
       "  <thead>\n",
       "    <tr style=\"text-align: right;\">\n",
       "      <th></th>\n",
       "      <th>Age</th>\n",
       "      <th>G</th>\n",
       "      <th>GS</th>\n",
       "      <th>MP</th>\n",
       "      <th>FG</th>\n",
       "      <th>FGA</th>\n",
       "      <th>3P</th>\n",
       "      <th>3PA</th>\n",
       "      <th>2P</th>\n",
       "      <th>2PA</th>\n",
       "      <th>FT</th>\n",
       "      <th>FTA</th>\n",
       "      <th>ORB</th>\n",
       "      <th>DRB</th>\n",
       "      <th>TRB</th>\n",
       "      <th>AST</th>\n",
       "      <th>STL</th>\n",
       "      <th>BLK</th>\n",
       "      <th>TOV</th>\n",
       "      <th>PF</th>\n",
       "      <th>PTS</th>\n",
       "    </tr>\n",
       "  </thead>\n",
       "  <tbody>\n",
       "    <tr>\n",
       "      <th>Age</th>\n",
       "      <td>1.000000</td>\n",
       "      <td>0.140752</td>\n",
       "      <td>0.171916</td>\n",
       "      <td>0.193439</td>\n",
       "      <td>0.143080</td>\n",
       "      <td>0.141248</td>\n",
       "      <td>0.197987</td>\n",
       "      <td>0.182820</td>\n",
       "      <td>0.090406</td>\n",
       "      <td>0.086502</td>\n",
       "      <td>0.109261</td>\n",
       "      <td>0.096781</td>\n",
       "      <td>0.083914</td>\n",
       "      <td>0.185552</td>\n",
       "      <td>0.166241</td>\n",
       "      <td>0.208826</td>\n",
       "      <td>0.195501</td>\n",
       "      <td>0.119784</td>\n",
       "      <td>0.137564</td>\n",
       "      <td>0.160761</td>\n",
       "      <td>0.151447</td>\n",
       "    </tr>\n",
       "    <tr>\n",
       "      <th>G</th>\n",
       "      <td>0.140752</td>\n",
       "      <td>1.000000</td>\n",
       "      <td>0.619997</td>\n",
       "      <td>0.870628</td>\n",
       "      <td>0.712085</td>\n",
       "      <td>0.712463</td>\n",
       "      <td>0.594671</td>\n",
       "      <td>0.614299</td>\n",
       "      <td>0.633996</td>\n",
       "      <td>0.636899</td>\n",
       "      <td>0.527150</td>\n",
       "      <td>0.544627</td>\n",
       "      <td>0.557276</td>\n",
       "      <td>0.723735</td>\n",
       "      <td>0.713115</td>\n",
       "      <td>0.565510</td>\n",
       "      <td>0.756002</td>\n",
       "      <td>0.501008</td>\n",
       "      <td>0.645313</td>\n",
       "      <td>0.855341</td>\n",
       "      <td>0.698570</td>\n",
       "    </tr>\n",
       "    <tr>\n",
       "      <th>GS</th>\n",
       "      <td>0.171916</td>\n",
       "      <td>0.619997</td>\n",
       "      <td>1.000000</td>\n",
       "      <td>0.866223</td>\n",
       "      <td>0.818559</td>\n",
       "      <td>0.812424</td>\n",
       "      <td>0.618401</td>\n",
       "      <td>0.636430</td>\n",
       "      <td>0.759506</td>\n",
       "      <td>0.767995</td>\n",
       "      <td>0.705935</td>\n",
       "      <td>0.716705</td>\n",
       "      <td>0.508110</td>\n",
       "      <td>0.763332</td>\n",
       "      <td>0.729720</td>\n",
       "      <td>0.702386</td>\n",
       "      <td>0.749624</td>\n",
       "      <td>0.484485</td>\n",
       "      <td>0.779570</td>\n",
       "      <td>0.738563</td>\n",
       "      <td>0.814183</td>\n",
       "    </tr>\n",
       "    <tr>\n",
       "      <th>MP</th>\n",
       "      <td>0.193439</td>\n",
       "      <td>0.870628</td>\n",
       "      <td>0.866223</td>\n",
       "      <td>1.000000</td>\n",
       "      <td>0.907185</td>\n",
       "      <td>0.911407</td>\n",
       "      <td>0.743501</td>\n",
       "      <td>0.765153</td>\n",
       "      <td>0.814344</td>\n",
       "      <td>0.828218</td>\n",
       "      <td>0.738252</td>\n",
       "      <td>0.745676</td>\n",
       "      <td>0.557585</td>\n",
       "      <td>0.840708</td>\n",
       "      <td>0.803118</td>\n",
       "      <td>0.763188</td>\n",
       "      <td>0.872119</td>\n",
       "      <td>0.517439</td>\n",
       "      <td>0.841845</td>\n",
       "      <td>0.882011</td>\n",
       "      <td>0.901310</td>\n",
       "    </tr>\n",
       "    <tr>\n",
       "      <th>FG</th>\n",
       "      <td>0.143080</td>\n",
       "      <td>0.712085</td>\n",
       "      <td>0.818559</td>\n",
       "      <td>0.907185</td>\n",
       "      <td>1.000000</td>\n",
       "      <td>0.985144</td>\n",
       "      <td>0.719268</td>\n",
       "      <td>0.736141</td>\n",
       "      <td>0.944916</td>\n",
       "      <td>0.954460</td>\n",
       "      <td>0.884396</td>\n",
       "      <td>0.884385</td>\n",
       "      <td>0.507817</td>\n",
       "      <td>0.794261</td>\n",
       "      <td>0.753413</td>\n",
       "      <td>0.789154</td>\n",
       "      <td>0.774021</td>\n",
       "      <td>0.446103</td>\n",
       "      <td>0.906036</td>\n",
       "      <td>0.764736</td>\n",
       "      <td>0.994205</td>\n",
       "    </tr>\n",
       "    <tr>\n",
       "      <th>FGA</th>\n",
       "      <td>0.141248</td>\n",
       "      <td>0.712463</td>\n",
       "      <td>0.812424</td>\n",
       "      <td>0.911407</td>\n",
       "      <td>0.985144</td>\n",
       "      <td>1.000000</td>\n",
       "      <td>0.788764</td>\n",
       "      <td>0.813745</td>\n",
       "      <td>0.893102</td>\n",
       "      <td>0.925524</td>\n",
       "      <td>0.866020</td>\n",
       "      <td>0.855383</td>\n",
       "      <td>0.411181</td>\n",
       "      <td>0.751405</td>\n",
       "      <td>0.693282</td>\n",
       "      <td>0.809242</td>\n",
       "      <td>0.789933</td>\n",
       "      <td>0.370608</td>\n",
       "      <td>0.906584</td>\n",
       "      <td>0.747166</td>\n",
       "      <td>0.989041</td>\n",
       "    </tr>\n",
       "    <tr>\n",
       "      <th>3P</th>\n",
       "      <td>0.197987</td>\n",
       "      <td>0.594671</td>\n",
       "      <td>0.618401</td>\n",
       "      <td>0.743501</td>\n",
       "      <td>0.719268</td>\n",
       "      <td>0.788764</td>\n",
       "      <td>1.000000</td>\n",
       "      <td>0.990408</td>\n",
       "      <td>0.452252</td>\n",
       "      <td>0.502921</td>\n",
       "      <td>0.531469</td>\n",
       "      <td>0.479330</td>\n",
       "      <td>0.027946</td>\n",
       "      <td>0.467327</td>\n",
       "      <td>0.367094</td>\n",
       "      <td>0.600280</td>\n",
       "      <td>0.627253</td>\n",
       "      <td>0.109884</td>\n",
       "      <td>0.623573</td>\n",
       "      <td>0.539795</td>\n",
       "      <td>0.758429</td>\n",
       "    </tr>\n",
       "    <tr>\n",
       "      <th>3PA</th>\n",
       "      <td>0.182820</td>\n",
       "      <td>0.614299</td>\n",
       "      <td>0.636430</td>\n",
       "      <td>0.765153</td>\n",
       "      <td>0.736141</td>\n",
       "      <td>0.813745</td>\n",
       "      <td>0.990408</td>\n",
       "      <td>1.000000</td>\n",
       "      <td>0.478433</td>\n",
       "      <td>0.533037</td>\n",
       "      <td>0.558696</td>\n",
       "      <td>0.509801</td>\n",
       "      <td>0.040265</td>\n",
       "      <td>0.484963</td>\n",
       "      <td>0.384116</td>\n",
       "      <td>0.627810</td>\n",
       "      <td>0.657218</td>\n",
       "      <td>0.124520</td>\n",
       "      <td>0.654395</td>\n",
       "      <td>0.562875</td>\n",
       "      <td>0.774759</td>\n",
       "    </tr>\n",
       "    <tr>\n",
       "      <th>2P</th>\n",
       "      <td>0.090406</td>\n",
       "      <td>0.633996</td>\n",
       "      <td>0.759506</td>\n",
       "      <td>0.814344</td>\n",
       "      <td>0.944916</td>\n",
       "      <td>0.893102</td>\n",
       "      <td>0.452252</td>\n",
       "      <td>0.478433</td>\n",
       "      <td>1.000000</td>\n",
       "      <td>0.988381</td>\n",
       "      <td>0.884983</td>\n",
       "      <td>0.909533</td>\n",
       "      <td>0.638764</td>\n",
       "      <td>0.799489</td>\n",
       "      <td>0.794272</td>\n",
       "      <td>0.730294</td>\n",
       "      <td>0.698159</td>\n",
       "      <td>0.520932</td>\n",
       "      <td>0.869372</td>\n",
       "      <td>0.727442</td>\n",
       "      <td>0.919026</td>\n",
       "    </tr>\n",
       "    <tr>\n",
       "      <th>2PA</th>\n",
       "      <td>0.086502</td>\n",
       "      <td>0.636899</td>\n",
       "      <td>0.767995</td>\n",
       "      <td>0.828218</td>\n",
       "      <td>0.954460</td>\n",
       "      <td>0.925524</td>\n",
       "      <td>0.502921</td>\n",
       "      <td>0.533037</td>\n",
       "      <td>0.988381</td>\n",
       "      <td>1.000000</td>\n",
       "      <td>0.896663</td>\n",
       "      <td>0.913034</td>\n",
       "      <td>0.572327</td>\n",
       "      <td>0.777856</td>\n",
       "      <td>0.758952</td>\n",
       "      <td>0.768978</td>\n",
       "      <td>0.721710</td>\n",
       "      <td>0.458369</td>\n",
       "      <td>0.893359</td>\n",
       "      <td>0.720923</td>\n",
       "      <td>0.934972</td>\n",
       "    </tr>\n",
       "    <tr>\n",
       "      <th>FT</th>\n",
       "      <td>0.109261</td>\n",
       "      <td>0.527150</td>\n",
       "      <td>0.705935</td>\n",
       "      <td>0.738252</td>\n",
       "      <td>0.884396</td>\n",
       "      <td>0.866020</td>\n",
       "      <td>0.531469</td>\n",
       "      <td>0.558696</td>\n",
       "      <td>0.884983</td>\n",
       "      <td>0.896663</td>\n",
       "      <td>1.000000</td>\n",
       "      <td>0.988085</td>\n",
       "      <td>0.424128</td>\n",
       "      <td>0.680500</td>\n",
       "      <td>0.642420</td>\n",
       "      <td>0.750554</td>\n",
       "      <td>0.630013</td>\n",
       "      <td>0.372674</td>\n",
       "      <td>0.862660</td>\n",
       "      <td>0.607401</td>\n",
       "      <td>0.908556</td>\n",
       "    </tr>\n",
       "    <tr>\n",
       "      <th>FTA</th>\n",
       "      <td>0.096781</td>\n",
       "      <td>0.544627</td>\n",
       "      <td>0.716705</td>\n",
       "      <td>0.745676</td>\n",
       "      <td>0.884385</td>\n",
       "      <td>0.855383</td>\n",
       "      <td>0.479330</td>\n",
       "      <td>0.509801</td>\n",
       "      <td>0.909533</td>\n",
       "      <td>0.913034</td>\n",
       "      <td>0.988085</td>\n",
       "      <td>1.000000</td>\n",
       "      <td>0.502755</td>\n",
       "      <td>0.726036</td>\n",
       "      <td>0.699545</td>\n",
       "      <td>0.739718</td>\n",
       "      <td>0.634789</td>\n",
       "      <td>0.433110</td>\n",
       "      <td>0.873282</td>\n",
       "      <td>0.636895</td>\n",
       "      <td>0.899265</td>\n",
       "    </tr>\n",
       "    <tr>\n",
       "      <th>ORB</th>\n",
       "      <td>0.083914</td>\n",
       "      <td>0.557276</td>\n",
       "      <td>0.508110</td>\n",
       "      <td>0.557585</td>\n",
       "      <td>0.507817</td>\n",
       "      <td>0.411181</td>\n",
       "      <td>0.027946</td>\n",
       "      <td>0.040265</td>\n",
       "      <td>0.638764</td>\n",
       "      <td>0.572327</td>\n",
       "      <td>0.424128</td>\n",
       "      <td>0.502755</td>\n",
       "      <td>1.000000</td>\n",
       "      <td>0.762857</td>\n",
       "      <td>0.867744</td>\n",
       "      <td>0.265738</td>\n",
       "      <td>0.439658</td>\n",
       "      <td>0.770823</td>\n",
       "      <td>0.460809</td>\n",
       "      <td>0.671971</td>\n",
       "      <td>0.455146</td>\n",
       "    </tr>\n",
       "    <tr>\n",
       "      <th>DRB</th>\n",
       "      <td>0.185552</td>\n",
       "      <td>0.723735</td>\n",
       "      <td>0.763332</td>\n",
       "      <td>0.840708</td>\n",
       "      <td>0.794261</td>\n",
       "      <td>0.751405</td>\n",
       "      <td>0.467327</td>\n",
       "      <td>0.484963</td>\n",
       "      <td>0.799489</td>\n",
       "      <td>0.777856</td>\n",
       "      <td>0.680500</td>\n",
       "      <td>0.726036</td>\n",
       "      <td>0.762857</td>\n",
       "      <td>1.000000</td>\n",
       "      <td>0.983316</td>\n",
       "      <td>0.628754</td>\n",
       "      <td>0.701357</td>\n",
       "      <td>0.678878</td>\n",
       "      <td>0.775099</td>\n",
       "      <td>0.822718</td>\n",
       "      <td>0.771510</td>\n",
       "    </tr>\n",
       "    <tr>\n",
       "      <th>TRB</th>\n",
       "      <td>0.166241</td>\n",
       "      <td>0.713115</td>\n",
       "      <td>0.729720</td>\n",
       "      <td>0.803118</td>\n",
       "      <td>0.753413</td>\n",
       "      <td>0.693282</td>\n",
       "      <td>0.367094</td>\n",
       "      <td>0.384116</td>\n",
       "      <td>0.794272</td>\n",
       "      <td>0.758952</td>\n",
       "      <td>0.642420</td>\n",
       "      <td>0.699545</td>\n",
       "      <td>0.867744</td>\n",
       "      <td>0.983316</td>\n",
       "      <td>1.000000</td>\n",
       "      <td>0.558082</td>\n",
       "      <td>0.662822</td>\n",
       "      <td>0.738713</td>\n",
       "      <td>0.725457</td>\n",
       "      <td>0.821470</td>\n",
       "      <td>0.721105</td>\n",
       "    </tr>\n",
       "    <tr>\n",
       "      <th>AST</th>\n",
       "      <td>0.208826</td>\n",
       "      <td>0.565510</td>\n",
       "      <td>0.702386</td>\n",
       "      <td>0.763188</td>\n",
       "      <td>0.789154</td>\n",
       "      <td>0.809242</td>\n",
       "      <td>0.600280</td>\n",
       "      <td>0.627810</td>\n",
       "      <td>0.730294</td>\n",
       "      <td>0.768978</td>\n",
       "      <td>0.750554</td>\n",
       "      <td>0.739718</td>\n",
       "      <td>0.265738</td>\n",
       "      <td>0.628754</td>\n",
       "      <td>0.558082</td>\n",
       "      <td>1.000000</td>\n",
       "      <td>0.786428</td>\n",
       "      <td>0.202117</td>\n",
       "      <td>0.896312</td>\n",
       "      <td>0.597777</td>\n",
       "      <td>0.799349</td>\n",
       "    </tr>\n",
       "    <tr>\n",
       "      <th>STL</th>\n",
       "      <td>0.195501</td>\n",
       "      <td>0.756002</td>\n",
       "      <td>0.749624</td>\n",
       "      <td>0.872119</td>\n",
       "      <td>0.774021</td>\n",
       "      <td>0.789933</td>\n",
       "      <td>0.627253</td>\n",
       "      <td>0.657218</td>\n",
       "      <td>0.698159</td>\n",
       "      <td>0.721710</td>\n",
       "      <td>0.630013</td>\n",
       "      <td>0.634789</td>\n",
       "      <td>0.439658</td>\n",
       "      <td>0.701357</td>\n",
       "      <td>0.662822</td>\n",
       "      <td>0.786428</td>\n",
       "      <td>1.000000</td>\n",
       "      <td>0.422815</td>\n",
       "      <td>0.769582</td>\n",
       "      <td>0.767317</td>\n",
       "      <td>0.768090</td>\n",
       "    </tr>\n",
       "    <tr>\n",
       "      <th>BLK</th>\n",
       "      <td>0.119784</td>\n",
       "      <td>0.501008</td>\n",
       "      <td>0.484485</td>\n",
       "      <td>0.517439</td>\n",
       "      <td>0.446103</td>\n",
       "      <td>0.370608</td>\n",
       "      <td>0.109884</td>\n",
       "      <td>0.124520</td>\n",
       "      <td>0.520932</td>\n",
       "      <td>0.458369</td>\n",
       "      <td>0.372674</td>\n",
       "      <td>0.433110</td>\n",
       "      <td>0.770823</td>\n",
       "      <td>0.678878</td>\n",
       "      <td>0.738713</td>\n",
       "      <td>0.202117</td>\n",
       "      <td>0.422815</td>\n",
       "      <td>1.000000</td>\n",
       "      <td>0.388737</td>\n",
       "      <td>0.633502</td>\n",
       "      <td>0.411179</td>\n",
       "    </tr>\n",
       "    <tr>\n",
       "      <th>TOV</th>\n",
       "      <td>0.137564</td>\n",
       "      <td>0.645313</td>\n",
       "      <td>0.779570</td>\n",
       "      <td>0.841845</td>\n",
       "      <td>0.906036</td>\n",
       "      <td>0.906584</td>\n",
       "      <td>0.623573</td>\n",
       "      <td>0.654395</td>\n",
       "      <td>0.869372</td>\n",
       "      <td>0.893359</td>\n",
       "      <td>0.862660</td>\n",
       "      <td>0.873282</td>\n",
       "      <td>0.460809</td>\n",
       "      <td>0.775099</td>\n",
       "      <td>0.725457</td>\n",
       "      <td>0.896312</td>\n",
       "      <td>0.769582</td>\n",
       "      <td>0.388737</td>\n",
       "      <td>1.000000</td>\n",
       "      <td>0.737786</td>\n",
       "      <td>0.909217</td>\n",
       "    </tr>\n",
       "    <tr>\n",
       "      <th>PF</th>\n",
       "      <td>0.160761</td>\n",
       "      <td>0.855341</td>\n",
       "      <td>0.738563</td>\n",
       "      <td>0.882011</td>\n",
       "      <td>0.764736</td>\n",
       "      <td>0.747166</td>\n",
       "      <td>0.539795</td>\n",
       "      <td>0.562875</td>\n",
       "      <td>0.727442</td>\n",
       "      <td>0.720923</td>\n",
       "      <td>0.607401</td>\n",
       "      <td>0.636895</td>\n",
       "      <td>0.671971</td>\n",
       "      <td>0.822718</td>\n",
       "      <td>0.821470</td>\n",
       "      <td>0.597777</td>\n",
       "      <td>0.767317</td>\n",
       "      <td>0.633502</td>\n",
       "      <td>0.737786</td>\n",
       "      <td>1.000000</td>\n",
       "      <td>0.745281</td>\n",
       "    </tr>\n",
       "    <tr>\n",
       "      <th>PTS</th>\n",
       "      <td>0.151447</td>\n",
       "      <td>0.698570</td>\n",
       "      <td>0.814183</td>\n",
       "      <td>0.901310</td>\n",
       "      <td>0.994205</td>\n",
       "      <td>0.989041</td>\n",
       "      <td>0.758429</td>\n",
       "      <td>0.774759</td>\n",
       "      <td>0.919026</td>\n",
       "      <td>0.934972</td>\n",
       "      <td>0.908556</td>\n",
       "      <td>0.899265</td>\n",
       "      <td>0.455146</td>\n",
       "      <td>0.771510</td>\n",
       "      <td>0.721105</td>\n",
       "      <td>0.799349</td>\n",
       "      <td>0.768090</td>\n",
       "      <td>0.411179</td>\n",
       "      <td>0.909217</td>\n",
       "      <td>0.745281</td>\n",
       "      <td>1.000000</td>\n",
       "    </tr>\n",
       "  </tbody>\n",
       "</table>\n",
       "</div>"
      ],
      "text/plain": [
       "          Age         G        GS        MP        FG       FGA        3P  \\\n",
       "Age  1.000000  0.140752  0.171916  0.193439  0.143080  0.141248  0.197987   \n",
       "G    0.140752  1.000000  0.619997  0.870628  0.712085  0.712463  0.594671   \n",
       "GS   0.171916  0.619997  1.000000  0.866223  0.818559  0.812424  0.618401   \n",
       "MP   0.193439  0.870628  0.866223  1.000000  0.907185  0.911407  0.743501   \n",
       "FG   0.143080  0.712085  0.818559  0.907185  1.000000  0.985144  0.719268   \n",
       "FGA  0.141248  0.712463  0.812424  0.911407  0.985144  1.000000  0.788764   \n",
       "3P   0.197987  0.594671  0.618401  0.743501  0.719268  0.788764  1.000000   \n",
       "3PA  0.182820  0.614299  0.636430  0.765153  0.736141  0.813745  0.990408   \n",
       "2P   0.090406  0.633996  0.759506  0.814344  0.944916  0.893102  0.452252   \n",
       "2PA  0.086502  0.636899  0.767995  0.828218  0.954460  0.925524  0.502921   \n",
       "FT   0.109261  0.527150  0.705935  0.738252  0.884396  0.866020  0.531469   \n",
       "FTA  0.096781  0.544627  0.716705  0.745676  0.884385  0.855383  0.479330   \n",
       "ORB  0.083914  0.557276  0.508110  0.557585  0.507817  0.411181  0.027946   \n",
       "DRB  0.185552  0.723735  0.763332  0.840708  0.794261  0.751405  0.467327   \n",
       "TRB  0.166241  0.713115  0.729720  0.803118  0.753413  0.693282  0.367094   \n",
       "AST  0.208826  0.565510  0.702386  0.763188  0.789154  0.809242  0.600280   \n",
       "STL  0.195501  0.756002  0.749624  0.872119  0.774021  0.789933  0.627253   \n",
       "BLK  0.119784  0.501008  0.484485  0.517439  0.446103  0.370608  0.109884   \n",
       "TOV  0.137564  0.645313  0.779570  0.841845  0.906036  0.906584  0.623573   \n",
       "PF   0.160761  0.855341  0.738563  0.882011  0.764736  0.747166  0.539795   \n",
       "PTS  0.151447  0.698570  0.814183  0.901310  0.994205  0.989041  0.758429   \n",
       "\n",
       "          3PA        2P       2PA        FT       FTA       ORB       DRB  \\\n",
       "Age  0.182820  0.090406  0.086502  0.109261  0.096781  0.083914  0.185552   \n",
       "G    0.614299  0.633996  0.636899  0.527150  0.544627  0.557276  0.723735   \n",
       "GS   0.636430  0.759506  0.767995  0.705935  0.716705  0.508110  0.763332   \n",
       "MP   0.765153  0.814344  0.828218  0.738252  0.745676  0.557585  0.840708   \n",
       "FG   0.736141  0.944916  0.954460  0.884396  0.884385  0.507817  0.794261   \n",
       "FGA  0.813745  0.893102  0.925524  0.866020  0.855383  0.411181  0.751405   \n",
       "3P   0.990408  0.452252  0.502921  0.531469  0.479330  0.027946  0.467327   \n",
       "3PA  1.000000  0.478433  0.533037  0.558696  0.509801  0.040265  0.484963   \n",
       "2P   0.478433  1.000000  0.988381  0.884983  0.909533  0.638764  0.799489   \n",
       "2PA  0.533037  0.988381  1.000000  0.896663  0.913034  0.572327  0.777856   \n",
       "FT   0.558696  0.884983  0.896663  1.000000  0.988085  0.424128  0.680500   \n",
       "FTA  0.509801  0.909533  0.913034  0.988085  1.000000  0.502755  0.726036   \n",
       "ORB  0.040265  0.638764  0.572327  0.424128  0.502755  1.000000  0.762857   \n",
       "DRB  0.484963  0.799489  0.777856  0.680500  0.726036  0.762857  1.000000   \n",
       "TRB  0.384116  0.794272  0.758952  0.642420  0.699545  0.867744  0.983316   \n",
       "AST  0.627810  0.730294  0.768978  0.750554  0.739718  0.265738  0.628754   \n",
       "STL  0.657218  0.698159  0.721710  0.630013  0.634789  0.439658  0.701357   \n",
       "BLK  0.124520  0.520932  0.458369  0.372674  0.433110  0.770823  0.678878   \n",
       "TOV  0.654395  0.869372  0.893359  0.862660  0.873282  0.460809  0.775099   \n",
       "PF   0.562875  0.727442  0.720923  0.607401  0.636895  0.671971  0.822718   \n",
       "PTS  0.774759  0.919026  0.934972  0.908556  0.899265  0.455146  0.771510   \n",
       "\n",
       "          TRB       AST       STL       BLK       TOV        PF       PTS  \n",
       "Age  0.166241  0.208826  0.195501  0.119784  0.137564  0.160761  0.151447  \n",
       "G    0.713115  0.565510  0.756002  0.501008  0.645313  0.855341  0.698570  \n",
       "GS   0.729720  0.702386  0.749624  0.484485  0.779570  0.738563  0.814183  \n",
       "MP   0.803118  0.763188  0.872119  0.517439  0.841845  0.882011  0.901310  \n",
       "FG   0.753413  0.789154  0.774021  0.446103  0.906036  0.764736  0.994205  \n",
       "FGA  0.693282  0.809242  0.789933  0.370608  0.906584  0.747166  0.989041  \n",
       "3P   0.367094  0.600280  0.627253  0.109884  0.623573  0.539795  0.758429  \n",
       "3PA  0.384116  0.627810  0.657218  0.124520  0.654395  0.562875  0.774759  \n",
       "2P   0.794272  0.730294  0.698159  0.520932  0.869372  0.727442  0.919026  \n",
       "2PA  0.758952  0.768978  0.721710  0.458369  0.893359  0.720923  0.934972  \n",
       "FT   0.642420  0.750554  0.630013  0.372674  0.862660  0.607401  0.908556  \n",
       "FTA  0.699545  0.739718  0.634789  0.433110  0.873282  0.636895  0.899265  \n",
       "ORB  0.867744  0.265738  0.439658  0.770823  0.460809  0.671971  0.455146  \n",
       "DRB  0.983316  0.628754  0.701357  0.678878  0.775099  0.822718  0.771510  \n",
       "TRB  1.000000  0.558082  0.662822  0.738713  0.725457  0.821470  0.721105  \n",
       "AST  0.558082  1.000000  0.786428  0.202117  0.896312  0.597777  0.799349  \n",
       "STL  0.662822  0.786428  1.000000  0.422815  0.769582  0.767317  0.768090  \n",
       "BLK  0.738713  0.202117  0.422815  1.000000  0.388737  0.633502  0.411179  \n",
       "TOV  0.725457  0.896312  0.769582  0.388737  1.000000  0.737786  0.909217  \n",
       "PF   0.821470  0.597777  0.767317  0.633502  0.737786  1.000000  0.745281  \n",
       "PTS  0.721105  0.799349  0.768090  0.411179  0.909217  0.745281  1.000000  "
      ]
     },
     "execution_count": 55,
     "metadata": {},
     "output_type": "execute_result"
    }
   ],
   "source": [
    "df[cont].corr()"
   ]
  },
  {
   "cell_type": "code",
   "execution_count": 82,
   "id": "365fecfe",
   "metadata": {},
   "outputs": [
    {
     "data": {
      "text/plain": [
       "<AxesSubplot:>"
      ]
     },
     "execution_count": 82,
     "metadata": {},
     "output_type": "execute_result"
    },
    {
     "data": {
      "image/png": "[encoded data removed]",
      "text/plain": [
       "<Figure size 432x288 with 2 Axes>"
      ]
     },
     "metadata": {
      "needs_background": "light"
     },
     "output_type": "display_data"
    }
   ],
   "source": [
    "cmap = sns.diverging_palette(200, 4, as_cmap=True)\n",
    "sns.heatmap(df[cont].corr(), vmax=1.0, center=0, cmap=cmap, square=True, linewidth=0.5, cbar_kws={'shrink': .8})"
   ]
  },
  {
   "cell_type": "markdown",
   "id": "6636acd4",
   "metadata": {},
   "source": [
    "I see a lot of columns that are correlated too much with other columns. It is a multicollinearity. But, for now, I'm going to keep those columns and see how they work with the model. "
   ]
  },
  {
   "cell_type": "code",
   "execution_count": 84,
   "id": "cc704ff9",
   "metadata": {
    "scrolled": true
   },
   "outputs": [
    {
     "data": {
      "text/html": [
       "<div>\n",
       "<style scoped>\n",
       "    .dataframe tbody tr th:only-of-type {\n",
       "        vertical-align: middle;\n",
       "    }\n",
       "\n",
       "    .dataframe tbody tr th {\n",
       "        vertical-align: top;\n",
       "    }\n",
       "\n",
       "    .dataframe thead th {\n",
       "        text-align: right;\n",
       "    }\n",
       "</style>\n",
       "<table border=\"1\" class=\"dataframe\">\n",
       "  <thead>\n",
       "    <tr style=\"text-align: right;\">\n",
       "      <th></th>\n",
       "      <th>Player</th>\n",
       "      <th>Pos</th>\n",
       "      <th>Age</th>\n",
       "      <th>Tm</th>\n",
       "      <th>G</th>\n",
       "      <th>GS</th>\n",
       "      <th>MP</th>\n",
       "      <th>FG</th>\n",
       "      <th>FGA</th>\n",
       "      <th>3P</th>\n",
       "      <th>3PA</th>\n",
       "      <th>2P</th>\n",
       "      <th>2PA</th>\n",
       "      <th>FT</th>\n",
       "      <th>FTA</th>\n",
       "      <th>ORB</th>\n",
       "      <th>DRB</th>\n",
       "      <th>TRB</th>\n",
       "      <th>AST</th>\n",
       "      <th>STL</th>\n",
       "      <th>BLK</th>\n",
       "      <th>TOV</th>\n",
       "      <th>PF</th>\n",
       "      <th>PTS</th>\n",
       "      <th>Salary</th>\n",
       "    </tr>\n",
       "  </thead>\n",
       "  <tbody>\n",
       "    <tr>\n",
       "      <th>0</th>\n",
       "      <td>Precious Achiuwa</td>\n",
       "      <td>PF</td>\n",
       "      <td>21</td>\n",
       "      <td>MIA</td>\n",
       "      <td>61</td>\n",
       "      <td>4</td>\n",
       "      <td>737</td>\n",
       "      <td>124</td>\n",
       "      <td>228</td>\n",
       "      <td>0</td>\n",
       "      <td>1</td>\n",
       "      <td>124</td>\n",
       "      <td>227</td>\n",
       "      <td>56</td>\n",
       "      <td>110</td>\n",
       "      <td>73</td>\n",
       "      <td>135</td>\n",
       "      <td>208</td>\n",
       "      <td>29</td>\n",
       "      <td>20</td>\n",
       "      <td>28</td>\n",
       "      <td>43</td>\n",
       "      <td>91</td>\n",
       "      <td>304</td>\n",
       "      <td>2,582,160</td>\n",
       "    </tr>\n",
       "    <tr>\n",
       "      <th>1</th>\n",
       "      <td>Jaylen Adams</td>\n",
       "      <td>PG</td>\n",
       "      <td>24</td>\n",
       "      <td>MIL</td>\n",
       "      <td>7</td>\n",
       "      <td>0</td>\n",
       "      <td>18</td>\n",
       "      <td>1</td>\n",
       "      <td>8</td>\n",
       "      <td>0</td>\n",
       "      <td>2</td>\n",
       "      <td>1</td>\n",
       "      <td>6</td>\n",
       "      <td>0</td>\n",
       "      <td>0</td>\n",
       "      <td>0</td>\n",
       "      <td>3</td>\n",
       "      <td>3</td>\n",
       "      <td>2</td>\n",
       "      <td>0</td>\n",
       "      <td>0</td>\n",
       "      <td>0</td>\n",
       "      <td>1</td>\n",
       "      <td>2</td>\n",
       "      <td>449,115</td>\n",
       "    </tr>\n",
       "    <tr>\n",
       "      <th>2</th>\n",
       "      <td>Steven Adams</td>\n",
       "      <td>C</td>\n",
       "      <td>27</td>\n",
       "      <td>NOP</td>\n",
       "      <td>58</td>\n",
       "      <td>58</td>\n",
       "      <td>1605</td>\n",
       "      <td>189</td>\n",
       "      <td>308</td>\n",
       "      <td>0</td>\n",
       "      <td>3</td>\n",
       "      <td>189</td>\n",
       "      <td>305</td>\n",
       "      <td>60</td>\n",
       "      <td>135</td>\n",
       "      <td>213</td>\n",
       "      <td>301</td>\n",
       "      <td>514</td>\n",
       "      <td>111</td>\n",
       "      <td>54</td>\n",
       "      <td>38</td>\n",
       "      <td>78</td>\n",
       "      <td>113</td>\n",
       "      <td>438</td>\n",
       "      <td>29,592,695</td>\n",
       "    </tr>\n",
       "    <tr>\n",
       "      <th>3</th>\n",
       "      <td>Bam Adebayo</td>\n",
       "      <td>C</td>\n",
       "      <td>23</td>\n",
       "      <td>MIA</td>\n",
       "      <td>64</td>\n",
       "      <td>64</td>\n",
       "      <td>2143</td>\n",
       "      <td>456</td>\n",
       "      <td>800</td>\n",
       "      <td>2</td>\n",
       "      <td>8</td>\n",
       "      <td>454</td>\n",
       "      <td>792</td>\n",
       "      <td>283</td>\n",
       "      <td>354</td>\n",
       "      <td>142</td>\n",
       "      <td>431</td>\n",
       "      <td>573</td>\n",
       "      <td>346</td>\n",
       "      <td>75</td>\n",
       "      <td>66</td>\n",
       "      <td>169</td>\n",
       "      <td>145</td>\n",
       "      <td>1197</td>\n",
       "      <td>5,115,492</td>\n",
       "    </tr>\n",
       "    <tr>\n",
       "      <th>4</th>\n",
       "      <td>LaMarcus Aldridge</td>\n",
       "      <td>C</td>\n",
       "      <td>35</td>\n",
       "      <td>TOT</td>\n",
       "      <td>26</td>\n",
       "      <td>23</td>\n",
       "      <td>674</td>\n",
       "      <td>140</td>\n",
       "      <td>296</td>\n",
       "      <td>31</td>\n",
       "      <td>80</td>\n",
       "      <td>109</td>\n",
       "      <td>216</td>\n",
       "      <td>41</td>\n",
       "      <td>47</td>\n",
       "      <td>19</td>\n",
       "      <td>99</td>\n",
       "      <td>118</td>\n",
       "      <td>49</td>\n",
       "      <td>11</td>\n",
       "      <td>29</td>\n",
       "      <td>27</td>\n",
       "      <td>47</td>\n",
       "      <td>352</td>\n",
       "      <td>17,628,340</td>\n",
       "    </tr>\n",
       "  </tbody>\n",
       "</table>\n",
       "</div>"
      ],
      "text/plain": [
       "              Player Pos  Age   Tm   G  GS    MP   FG  FGA  3P  3PA   2P  2PA  \\\n",
       "0   Precious Achiuwa  PF   21  MIA  61   4   737  124  228   0    1  124  227   \n",
       "1       Jaylen Adams  PG   24  MIL   7   0    18    1    8   0    2    1    6   \n",
       "2       Steven Adams   C   27  NOP  58  58  1605  189  308   0    3  189  305   \n",
       "3        Bam Adebayo   C   23  MIA  64  64  2143  456  800   2    8  454  792   \n",
       "4  LaMarcus Aldridge   C   35  TOT  26  23   674  140  296  31   80  109  216   \n",
       "\n",
       "    FT  FTA  ORB  DRB  TRB  AST  STL  BLK  TOV   PF   PTS      Salary  \n",
       "0   56  110   73  135  208   29   20   28   43   91   304   2,582,160  \n",
       "1    0    0    0    3    3    2    0    0    0    1     2     449,115  \n",
       "2   60  135  213  301  514  111   54   38   78  113   438  29,592,695  \n",
       "3  283  354  142  431  573  346   75   66  169  145  1197   5,115,492  \n",
       "4   41   47   19   99  118   49   11   29   27   47   352  17,628,340  "
      ]
     },
     "execution_count": 84,
     "metadata": {},
     "output_type": "execute_result"
    }
   ],
   "source": [
    "df.head()"
   ]
  },
  {
   "cell_type": "markdown",
   "id": "4616881a",
   "metadata": {},
   "source": [
    "Categorical variable"
   ]
  },
  {
   "cell_type": "code",
   "execution_count": 95,
   "id": "0d9722ab",
   "metadata": {
    "scrolled": true
   },
   "outputs": [
    {
     "name": "stdout",
     "output_type": "stream",
     "text": [
      "Graph for Position\n"
     ]
    },
    {
     "data": {
      "image/png": "[encoded data removed]",
      "text/plain": [
       "<Figure size 432x288 with 1 Axes>"
      ]
     },
     "metadata": {
      "needs_background": "light"
     },
     "output_type": "display_data"
    }
   ],
   "source": [
    "print(\"Graph for Position\")\n",
    "sns.barplot(x=df['Pos'].value_counts().index, y=df['Pos'].value_counts())\n",
    "plt.show()"
   ]
  },
  {
   "cell_type": "code",
   "execution_count": 96,
   "id": "a84c07ac",
   "metadata": {
    "scrolled": true
   },
   "outputs": [
    {
     "name": "stdout",
     "output_type": "stream",
     "text": [
      "Graph for Team\n"
     ]
    },
    {
     "data": {
      "image/png": "[encoded data removed]",
      "text/plain": [
       "<Figure size 432x288 with 1 Axes>"
      ]
     },
     "metadata": {
      "needs_background": "light"
     },
     "output_type": "display_data"
    }
   ],
   "source": [
    "print(\"Graph for Team\")\n",
    "chart = sns.barplot(x=df['Tm'].value_counts().index, y=df['Tm'].value_counts())\n",
    "chart.set_xticklabels(chart.get_xticklabels(), rotation=90)\n",
    "plt.show()"
   ]
  },
  {
   "cell_type": "markdown",
   "id": "8927e3a8",
   "metadata": {},
   "source": [
    "TOT is not a real team name but it means 'total' for those players who play in multiple teams in a season and the row with TOT describes the total stats for that player."
   ]
  },
  {
   "cell_type": "code",
   "execution_count": 101,
   "id": "f07244c4",
   "metadata": {},
   "outputs": [
    {
     "name": "stdout",
     "output_type": "stream",
     "text": [
      "Graph for Team\n"
     ]
    },
    {
     "data": {
      "image/png": "[encoded data removed]",
      "text/plain": [
       "<Figure size 432x288 with 1 Axes>"
      ]
     },
     "metadata": {
      "needs_background": "light"
     },
     "output_type": "display_data"
    }
   ],
   "source": [
    "print(\"Graph for Team\")\n",
    "chart = sns.barplot(x=df['Tm'][df['Tm'] != 'TOT'].value_counts().index, y=df['Tm'][df['Tm'] != 'TOT'].value_counts())\n",
    "chart.set_xticklabels(chart.get_xticklabels(), rotation=90)\n",
    "plt.show()"
   ]
  },
  {
   "cell_type": "code",
   "execution_count": 110,
   "id": "e0f98114",
   "metadata": {},
   "outputs": [
    {
     "data": {
      "text/html": [
       "<div>\n",
       "<style scoped>\n",
       "    .dataframe tbody tr th:only-of-type {\n",
       "        vertical-align: middle;\n",
       "    }\n",
       "\n",
       "    .dataframe tbody tr th {\n",
       "        vertical-align: top;\n",
       "    }\n",
       "\n",
       "    .dataframe thead th {\n",
       "        text-align: right;\n",
       "    }\n",
       "</style>\n",
       "<table border=\"1\" class=\"dataframe\">\n",
       "  <thead>\n",
       "    <tr style=\"text-align: right;\">\n",
       "      <th></th>\n",
       "      <th>Pos</th>\n",
       "      <th>Salary</th>\n",
       "    </tr>\n",
       "  </thead>\n",
       "  <tbody>\n",
       "    <tr>\n",
       "      <th>0</th>\n",
       "      <td>PF</td>\n",
       "      <td>2,582,160</td>\n",
       "    </tr>\n",
       "    <tr>\n",
       "      <th>1</th>\n",
       "      <td>PG</td>\n",
       "      <td>449,115</td>\n",
       "    </tr>\n",
       "    <tr>\n",
       "      <th>2</th>\n",
       "      <td>C</td>\n",
       "      <td>29,592,695</td>\n",
       "    </tr>\n",
       "    <tr>\n",
       "      <th>3</th>\n",
       "      <td>C</td>\n",
       "      <td>5,115,492</td>\n",
       "    </tr>\n",
       "    <tr>\n",
       "      <th>4</th>\n",
       "      <td>C</td>\n",
       "      <td>17,628,340</td>\n",
       "    </tr>\n",
       "    <tr>\n",
       "      <th>...</th>\n",
       "      <td>...</td>\n",
       "      <td>...</td>\n",
       "    </tr>\n",
       "    <tr>\n",
       "      <th>462</th>\n",
       "      <td>SG</td>\n",
       "      <td>9,000,000</td>\n",
       "    </tr>\n",
       "    <tr>\n",
       "      <th>463</th>\n",
       "      <td>PF</td>\n",
       "      <td>13,545,000</td>\n",
       "    </tr>\n",
       "    <tr>\n",
       "      <th>464</th>\n",
       "      <td>PG</td>\n",
       "      <td>6,571,800</td>\n",
       "    </tr>\n",
       "    <tr>\n",
       "      <th>465</th>\n",
       "      <td>C</td>\n",
       "      <td>15,415,730</td>\n",
       "    </tr>\n",
       "    <tr>\n",
       "      <th>466</th>\n",
       "      <td>C</td>\n",
       "      <td>7,000,000</td>\n",
       "    </tr>\n",
       "  </tbody>\n",
       "</table>\n",
       "<p>467 rows × 2 columns</p>\n",
       "</div>"
      ],
      "text/plain": [
       "    Pos      Salary\n",
       "0    PF   2,582,160\n",
       "1    PG     449,115\n",
       "2     C  29,592,695\n",
       "3     C   5,115,492\n",
       "4     C  17,628,340\n",
       "..   ..         ...\n",
       "462  SG   9,000,000\n",
       "463  PF  13,545,000\n",
       "464  PG   6,571,800\n",
       "465   C  15,415,730\n",
       "466   C   7,000,000\n",
       "\n",
       "[467 rows x 2 columns]"
      ]
     },
     "execution_count": 110,
     "metadata": {},
     "output_type": "execute_result"
    }
   ],
   "source": [
    "df[['Pos', 'Salary']]"
   ]
  },
  {
   "cell_type": "code",
   "execution_count": 129,
   "id": "1e77ecd5",
   "metadata": {},
   "outputs": [
    {
     "ename": "ValueError",
     "evalue": "Unable to parse string \"2,582,160\" at position 0",
     "output_type": "error",
     "traceback": [
      "\u001b[0;31m---------------------------------------------------------------------------\u001b[0m",
      "\u001b[0;31mValueError\u001b[0m                                Traceback (most recent call last)",
      "File \u001b[0;32m~/opt/anaconda3/lib/python3.9/site-packages/pandas/_libs/lib.pyx:2315\u001b[0m, in \u001b[0;36mpandas._libs.lib.maybe_convert_numeric\u001b[0;34m()\u001b[0m\n",
      "\u001b[0;31mValueError\u001b[0m: Unable to parse string \"2,582,160\"",
      "\nDuring handling of the above exception, another exception occurred:\n",
      "\u001b[0;31mValueError\u001b[0m                                Traceback (most recent call last)",
      "Input \u001b[0;32mIn [129]\u001b[0m, in \u001b[0;36m<cell line: 1>\u001b[0;34m()\u001b[0m\n\u001b[0;32m----> 1\u001b[0m \u001b[43mpd\u001b[49m\u001b[38;5;241;43m.\u001b[39;49m\u001b[43mto_numeric\u001b[49m\u001b[43m(\u001b[49m\u001b[43mdf\u001b[49m\u001b[43m[\u001b[49m\u001b[38;5;124;43m'\u001b[39;49m\u001b[38;5;124;43mSalary\u001b[39;49m\u001b[38;5;124;43m'\u001b[39;49m\u001b[43m]\u001b[49m\u001b[43m)\u001b[49m\n",
      "File \u001b[0;32m~/opt/anaconda3/lib/python3.9/site-packages/pandas/core/tools/numeric.py:184\u001b[0m, in \u001b[0;36mto_numeric\u001b[0;34m(arg, errors, downcast)\u001b[0m\n\u001b[1;32m    182\u001b[0m coerce_numeric \u001b[38;5;241m=\u001b[39m errors \u001b[38;5;129;01mnot\u001b[39;00m \u001b[38;5;129;01min\u001b[39;00m (\u001b[38;5;124m\"\u001b[39m\u001b[38;5;124mignore\u001b[39m\u001b[38;5;124m\"\u001b[39m, \u001b[38;5;124m\"\u001b[39m\u001b[38;5;124mraise\u001b[39m\u001b[38;5;124m\"\u001b[39m)\n\u001b[1;32m    183\u001b[0m \u001b[38;5;28;01mtry\u001b[39;00m:\n\u001b[0;32m--> 184\u001b[0m     values, _ \u001b[38;5;241m=\u001b[39m \u001b[43mlib\u001b[49m\u001b[38;5;241;43m.\u001b[39;49m\u001b[43mmaybe_convert_numeric\u001b[49m\u001b[43m(\u001b[49m\n\u001b[1;32m    185\u001b[0m \u001b[43m        \u001b[49m\u001b[43mvalues\u001b[49m\u001b[43m,\u001b[49m\u001b[43m \u001b[49m\u001b[38;5;28;43mset\u001b[39;49m\u001b[43m(\u001b[49m\u001b[43m)\u001b[49m\u001b[43m,\u001b[49m\u001b[43m \u001b[49m\u001b[43mcoerce_numeric\u001b[49m\u001b[38;5;241;43m=\u001b[39;49m\u001b[43mcoerce_numeric\u001b[49m\n\u001b[1;32m    186\u001b[0m \u001b[43m    \u001b[49m\u001b[43m)\u001b[49m\n\u001b[1;32m    187\u001b[0m \u001b[38;5;28;01mexcept\u001b[39;00m (\u001b[38;5;167;01mValueError\u001b[39;00m, \u001b[38;5;167;01mTypeError\u001b[39;00m):\n\u001b[1;32m    188\u001b[0m     \u001b[38;5;28;01mif\u001b[39;00m errors \u001b[38;5;241m==\u001b[39m \u001b[38;5;124m\"\u001b[39m\u001b[38;5;124mraise\u001b[39m\u001b[38;5;124m\"\u001b[39m:\n",
      "File \u001b[0;32m~/opt/anaconda3/lib/python3.9/site-packages/pandas/_libs/lib.pyx:2357\u001b[0m, in \u001b[0;36mpandas._libs.lib.maybe_convert_numeric\u001b[0;34m()\u001b[0m\n",
      "\u001b[0;31mValueError\u001b[0m: Unable to parse string \"2,582,160\" at position 0"
     ]
    }
   ],
   "source": [
    "pd.to_numeric(df['Salary'])"
   ]
  },
  {
   "cell_type": "code",
   "execution_count": 126,
   "id": "b3843966",
   "metadata": {},
   "outputs": [
    {
     "data": {
      "text/plain": [
       "int"
      ]
     },
     "execution_count": 126,
     "metadata": {},
     "output_type": "execute_result"
    }
   ],
   "source": [
    "type(int(a))"
   ]
  },
  {
   "cell_type": "code",
   "execution_count": 128,
   "id": "e7c0b7b8",
   "metadata": {},
   "outputs": [
    {
     "ename": "TypeError",
     "evalue": "cannot convert the series to <class 'int'>",
     "output_type": "error",
     "traceback": [
      "\u001b[0;31m---------------------------------------------------------------------------\u001b[0m",
      "\u001b[0;31mTypeError\u001b[0m                                 Traceback (most recent call last)",
      "Input \u001b[0;32mIn [128]\u001b[0m, in \u001b[0;36m<cell line: 1>\u001b[0;34m()\u001b[0m\n\u001b[0;32m----> 1\u001b[0m \u001b[38;5;28;43mint\u001b[39;49m\u001b[43m(\u001b[49m\u001b[43mdf\u001b[49m\u001b[43m[\u001b[49m\u001b[38;5;124;43m'\u001b[39;49m\u001b[38;5;124;43mSalary\u001b[39;49m\u001b[38;5;124;43m'\u001b[39;49m\u001b[43m]\u001b[49m\u001b[43m)\u001b[49m\n",
      "File \u001b[0;32m~/opt/anaconda3/lib/python3.9/site-packages/pandas/core/series.py:191\u001b[0m, in \u001b[0;36m_coerce_method.<locals>.wrapper\u001b[0;34m(self)\u001b[0m\n\u001b[1;32m    189\u001b[0m \u001b[38;5;28;01mif\u001b[39;00m \u001b[38;5;28mlen\u001b[39m(\u001b[38;5;28mself\u001b[39m) \u001b[38;5;241m==\u001b[39m \u001b[38;5;241m1\u001b[39m:\n\u001b[1;32m    190\u001b[0m     \u001b[38;5;28;01mreturn\u001b[39;00m converter(\u001b[38;5;28mself\u001b[39m\u001b[38;5;241m.\u001b[39miloc[\u001b[38;5;241m0\u001b[39m])\n\u001b[0;32m--> 191\u001b[0m \u001b[38;5;28;01mraise\u001b[39;00m \u001b[38;5;167;01mTypeError\u001b[39;00m(\u001b[38;5;124mf\u001b[39m\u001b[38;5;124m\"\u001b[39m\u001b[38;5;124mcannot convert the series to \u001b[39m\u001b[38;5;132;01m{\u001b[39;00mconverter\u001b[38;5;132;01m}\u001b[39;00m\u001b[38;5;124m\"\u001b[39m)\n",
      "\u001b[0;31mTypeError\u001b[0m: cannot convert the series to <class 'int'>"
     ]
    }
   ],
   "source": [
    "int(df['Salary'])"
   ]
  },
  {
   "cell_type": "code",
   "execution_count": 116,
   "id": "5960edb6",
   "metadata": {
    "scrolled": false
   },
   "outputs": [
    {
     "name": "stderr",
     "output_type": "stream",
     "text": [
      "/var/folders/sl/d4rs6x_d4_v1gpcpq5rz_2x00000gn/T/ipykernel_8815/3312809266.py:2: FutureWarning: Dropping invalid columns in DataFrameGroupBy.mean is deprecated. In a future version, a TypeError will be raised. Before calling .mean, select only columns which should be valid for the function.\n",
      "  pd.pivot_table(df[['Pos', 'Salary']], values = 'Salary', index = 'Pos')\n"
     ]
    },
    {
     "data": {
      "text/html": [
       "<div>\n",
       "<style scoped>\n",
       "    .dataframe tbody tr th:only-of-type {\n",
       "        vertical-align: middle;\n",
       "    }\n",
       "\n",
       "    .dataframe tbody tr th {\n",
       "        vertical-align: top;\n",
       "    }\n",
       "\n",
       "    .dataframe thead th {\n",
       "        text-align: right;\n",
       "    }\n",
       "</style>\n",
       "<table border=\"1\" class=\"dataframe\">\n",
       "  <thead>\n",
       "    <tr style=\"text-align: right;\">\n",
       "      <th></th>\n",
       "    </tr>\n",
       "    <tr>\n",
       "      <th>Pos</th>\n",
       "    </tr>\n",
       "  </thead>\n",
       "  <tbody>\n",
       "    <tr>\n",
       "      <th>C</th>\n",
       "    </tr>\n",
       "    <tr>\n",
       "      <th>PF</th>\n",
       "    </tr>\n",
       "    <tr>\n",
       "      <th>PG</th>\n",
       "    </tr>\n",
       "    <tr>\n",
       "      <th>SF</th>\n",
       "    </tr>\n",
       "    <tr>\n",
       "      <th>SG</th>\n",
       "    </tr>\n",
       "  </tbody>\n",
       "</table>\n",
       "</div>"
      ],
      "text/plain": [
       "Empty DataFrame\n",
       "Columns: []\n",
       "Index: [C, PF, PG, SF, SG]"
      ]
     },
     "execution_count": 116,
     "metadata": {},
     "output_type": "execute_result"
    }
   ],
   "source": [
    "# pivot table\n",
    "pd.pivot_table(df[['Pos', 'Salary']], values = 'Salary', index = 'Pos')"
   ]
  },
  {
   "cell_type": "code",
   "execution_count": null,
   "id": "ffdd62a9",
   "metadata": {},
   "outputs": [],
   "source": []
  }
 ],
 "metadata": {
  "kernelspec": {
   "display_name": "Python 3 (ipykernel)",
   "language": "python",
   "name": "python3"
  },
  "language_info": {
   "codemirror_mode": {
    "name": "ipython",
    "version": 3
   },
   "file_extension": ".py",
   "mimetype": "text/x-python",
   "name": "python",
   "nbconvert_exporter": "python",
   "pygments_lexer": "ipython3",
   "version": "3.9.12"
  }
 },
 "nbformat": 4,
 "nbformat_minor": 5
}
