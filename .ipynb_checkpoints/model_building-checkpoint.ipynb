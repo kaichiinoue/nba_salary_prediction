{
 "cells": [
  {
   "cell_type": "markdown",
<<<<<<< HEAD
   "id": "f3982431",
=======
   "id": "fea991d7",
>>>>>>> f45420ce18acee65333add82fcb45e00a397e51b
   "metadata": {},
   "source": [
    "# Model Building"
   ]
  },
  {
   "cell_type": "code",
   "execution_count": 180,
<<<<<<< HEAD
   "id": "fda60e61",
=======
   "id": "2e66fee7",
>>>>>>> f45420ce18acee65333add82fcb45e00a397e51b
   "metadata": {},
   "outputs": [],
   "source": [
    "# import necessary libraries\n",
    "import pandas as pd\n",
    "import matplotlib.pyplot as plt\n",
    "import numpy as np"
   ]
  },
  {
   "cell_type": "code",
   "execution_count": 181,
<<<<<<< HEAD
   "id": "d734b8ab",
=======
   "id": "993f7be6",
>>>>>>> f45420ce18acee65333add82fcb45e00a397e51b
   "metadata": {},
   "outputs": [
    {
     "data": {
      "text/html": [
       "<div>\n",
       "<style scoped>\n",
       "    .dataframe tbody tr th:only-of-type {\n",
       "        vertical-align: middle;\n",
       "    }\n",
       "\n",
       "    .dataframe tbody tr th {\n",
       "        vertical-align: top;\n",
       "    }\n",
       "\n",
       "    .dataframe thead th {\n",
       "        text-align: right;\n",
       "    }\n",
       "</style>\n",
       "<table border=\"1\" class=\"dataframe\">\n",
       "  <thead>\n",
       "    <tr style=\"text-align: right;\">\n",
       "      <th></th>\n",
       "      <th>Player</th>\n",
       "      <th>Pos</th>\n",
       "      <th>Age</th>\n",
       "      <th>Tm</th>\n",
       "      <th>G</th>\n",
       "      <th>GS</th>\n",
       "      <th>MP</th>\n",
       "      <th>FG</th>\n",
       "      <th>FGA</th>\n",
       "      <th>3P</th>\n",
       "      <th>...</th>\n",
       "      <th>ORB</th>\n",
       "      <th>DRB</th>\n",
       "      <th>TRB</th>\n",
       "      <th>AST</th>\n",
       "      <th>STL</th>\n",
       "      <th>BLK</th>\n",
       "      <th>TOV</th>\n",
       "      <th>PF</th>\n",
       "      <th>PTS</th>\n",
       "      <th>Salary</th>\n",
       "    </tr>\n",
       "  </thead>\n",
       "  <tbody>\n",
       "    <tr>\n",
       "      <th>0</th>\n",
       "      <td>Precious Achiuwa</td>\n",
       "      <td>PF</td>\n",
       "      <td>21</td>\n",
       "      <td>MIA</td>\n",
       "      <td>61</td>\n",
       "      <td>4</td>\n",
       "      <td>737</td>\n",
       "      <td>124</td>\n",
       "      <td>228</td>\n",
       "      <td>0</td>\n",
       "      <td>...</td>\n",
       "      <td>73</td>\n",
       "      <td>135</td>\n",
       "      <td>208</td>\n",
       "      <td>29</td>\n",
       "      <td>20</td>\n",
       "      <td>28</td>\n",
       "      <td>43</td>\n",
       "      <td>91</td>\n",
       "      <td>304</td>\n",
       "      <td>2582160</td>\n",
       "    </tr>\n",
       "    <tr>\n",
       "      <th>1</th>\n",
       "      <td>Jaylen Adams</td>\n",
       "      <td>PG</td>\n",
       "      <td>24</td>\n",
       "      <td>MIL</td>\n",
       "      <td>7</td>\n",
       "      <td>0</td>\n",
       "      <td>18</td>\n",
       "      <td>1</td>\n",
       "      <td>8</td>\n",
       "      <td>0</td>\n",
       "      <td>...</td>\n",
       "      <td>0</td>\n",
       "      <td>3</td>\n",
       "      <td>3</td>\n",
       "      <td>2</td>\n",
       "      <td>0</td>\n",
       "      <td>0</td>\n",
       "      <td>0</td>\n",
       "      <td>1</td>\n",
       "      <td>2</td>\n",
       "      <td>449115</td>\n",
       "    </tr>\n",
       "    <tr>\n",
       "      <th>2</th>\n",
       "      <td>Steven Adams</td>\n",
       "      <td>C</td>\n",
       "      <td>27</td>\n",
       "      <td>NOP</td>\n",
       "      <td>58</td>\n",
       "      <td>58</td>\n",
       "      <td>1605</td>\n",
       "      <td>189</td>\n",
       "      <td>308</td>\n",
       "      <td>0</td>\n",
       "      <td>...</td>\n",
       "      <td>213</td>\n",
       "      <td>301</td>\n",
       "      <td>514</td>\n",
       "      <td>111</td>\n",
       "      <td>54</td>\n",
       "      <td>38</td>\n",
       "      <td>78</td>\n",
       "      <td>113</td>\n",
       "      <td>438</td>\n",
       "      <td>29592695</td>\n",
       "    </tr>\n",
       "    <tr>\n",
       "      <th>3</th>\n",
       "      <td>Bam Adebayo</td>\n",
       "      <td>C</td>\n",
       "      <td>23</td>\n",
       "      <td>MIA</td>\n",
       "      <td>64</td>\n",
       "      <td>64</td>\n",
       "      <td>2143</td>\n",
       "      <td>456</td>\n",
       "      <td>800</td>\n",
       "      <td>2</td>\n",
       "      <td>...</td>\n",
       "      <td>142</td>\n",
       "      <td>431</td>\n",
       "      <td>573</td>\n",
       "      <td>346</td>\n",
       "      <td>75</td>\n",
       "      <td>66</td>\n",
       "      <td>169</td>\n",
       "      <td>145</td>\n",
       "      <td>1197</td>\n",
       "      <td>5115492</td>\n",
       "    </tr>\n",
       "    <tr>\n",
       "      <th>4</th>\n",
       "      <td>LaMarcus Aldridge</td>\n",
       "      <td>C</td>\n",
       "      <td>35</td>\n",
       "      <td>TOT</td>\n",
       "      <td>26</td>\n",
       "      <td>23</td>\n",
       "      <td>674</td>\n",
       "      <td>140</td>\n",
       "      <td>296</td>\n",
       "      <td>31</td>\n",
       "      <td>...</td>\n",
       "      <td>19</td>\n",
       "      <td>99</td>\n",
       "      <td>118</td>\n",
       "      <td>49</td>\n",
       "      <td>11</td>\n",
       "      <td>29</td>\n",
       "      <td>27</td>\n",
       "      <td>47</td>\n",
       "      <td>352</td>\n",
       "      <td>17628340</td>\n",
       "    </tr>\n",
       "  </tbody>\n",
       "</table>\n",
       "<p>5 rows × 25 columns</p>\n",
       "</div>"
      ],
      "text/plain": [
       "              Player Pos  Age   Tm   G  GS    MP   FG  FGA  3P  ...  ORB  DRB  \\\n",
       "0   Precious Achiuwa  PF   21  MIA  61   4   737  124  228   0  ...   73  135   \n",
       "1       Jaylen Adams  PG   24  MIL   7   0    18    1    8   0  ...    0    3   \n",
       "2       Steven Adams   C   27  NOP  58  58  1605  189  308   0  ...  213  301   \n",
       "3        Bam Adebayo   C   23  MIA  64  64  2143  456  800   2  ...  142  431   \n",
       "4  LaMarcus Aldridge   C   35  TOT  26  23   674  140  296  31  ...   19   99   \n",
       "\n",
       "   TRB  AST  STL  BLK  TOV   PF   PTS    Salary  \n",
       "0  208   29   20   28   43   91   304   2582160  \n",
       "1    3    2    0    0    0    1     2    449115  \n",
       "2  514  111   54   38   78  113   438  29592695  \n",
       "3  573  346   75   66  169  145  1197   5115492  \n",
       "4  118   49   11   29   27   47   352  17628340  \n",
       "\n",
       "[5 rows x 25 columns]"
      ]
     },
     "execution_count": 181,
     "metadata": {},
     "output_type": "execute_result"
    }
   ],
   "source": [
    "# read in data\n",
    "df = pd.read_csv('nba_salary_cleaned.csv')\n",
    "df.head()"
   ]
  },
  {
   "cell_type": "code",
   "execution_count": 182,
<<<<<<< HEAD
   "id": "74bc165c",
=======
   "id": "7033d2d1",
>>>>>>> f45420ce18acee65333add82fcb45e00a397e51b
   "metadata": {
    "scrolled": true
   },
   "outputs": [
    {
     "data": {
      "text/plain": [
       "Index(['Player', 'Pos', 'Age', 'Tm', 'G', 'GS', 'MP', 'FG', 'FGA', '3P', '3PA',\n",
       "       '2P', '2PA', 'FT', 'FTA', 'ORB', 'DRB', 'TRB', 'AST', 'STL', 'BLK',\n",
       "       'TOV', 'PF', 'PTS', 'Salary'],\n",
       "      dtype='object')"
      ]
     },
     "execution_count": 182,
     "metadata": {},
     "output_type": "execute_result"
    }
   ],
   "source": [
    "df.columns"
   ]
  },
  {
   "cell_type": "code",
   "execution_count": 183,
<<<<<<< HEAD
   "id": "8d85e416",
=======
   "id": "ab02eed1",
>>>>>>> f45420ce18acee65333add82fcb45e00a397e51b
   "metadata": {},
   "outputs": [],
   "source": [
    "# reomove player's name as it is not relevant for this project\n",
    "df_model = df[['Pos', 'Age', 'Tm', 'G', 'GS', 'MP', 'FG', 'FGA', '3P', '3PA', '2P', '2PA', 'FT', 'FTA', 'ORB', 'DRB', 'TRB', 'AST', 'STL', \n",
    "                   'BLK', 'TOV', 'PF', 'PTS', 'Salary']]"
   ]
  },
  {
   "cell_type": "code",
   "execution_count": 222,
<<<<<<< HEAD
   "id": "52ec18b0",
=======
   "id": "7b95fc18",
>>>>>>> f45420ce18acee65333add82fcb45e00a397e51b
   "metadata": {},
   "outputs": [
    {
     "name": "stdout",
     "output_type": "stream",
     "text": [
      "number of columns before:  24\n",
      "number of columns after:  56\n"
     ]
    }
   ],
   "source": [
    "# get dummy variables for categorical variables\n",
    "df_dum = pd.get_dummies(df_model, drop_first = True)\n",
    "\n",
    "print(\"number of columns before: \", len(df_model.columns))\n",
    "print(\"number of columns after: \", len(df_dum.columns))"
   ]
  },
  {
   "cell_type": "code",
   "execution_count": 223,
<<<<<<< HEAD
   "id": "579d28c5",
=======
   "id": "ae65ad3b",
>>>>>>> f45420ce18acee65333add82fcb45e00a397e51b
   "metadata": {},
   "outputs": [
    {
     "name": "stdout",
     "output_type": "stream",
     "text": [
      "x_train's shape  (373, 55)\n",
      "y_train's shape  (373,)\n",
      "x_test's shape  (94, 55)\n",
      "y_test's shape  (94,)\n"
     ]
    }
   ],
   "source": [
    "# test train split\n",
    "from sklearn.model_selection import train_test_split\n",
    "\n",
    "x =  df_dum.drop('Salary', axis = 1)\n",
    "y = df_dum.Salary.values\n",
    "\n",
    "x_train, x_test, y_train, y_test = train_test_split(x, y, test_size=0.2, random_state=42)\n",
    "\n",
    "print(\"x_train's shape \", x_train.shape)\n",
    "print(\"y_train's shape \", y_train.shape)\n",
    "print(\"x_test's shape \", x_test.shape)\n",
    "print(\"y_test's shape \", y_test.shape)"
   ]
  },
  {
   "cell_type": "code",
   "execution_count": 191,
<<<<<<< HEAD
   "id": "30a88d7d",
=======
   "id": "4799a7eb",
>>>>>>> f45420ce18acee65333add82fcb45e00a397e51b
   "metadata": {},
   "outputs": [],
   "source": [
    "# building linear model using statsmodel \n",
    "import statsmodels.api as sm\n",
    "x_train = sm.add_constant(x_train)"
   ]
  },
  {
   "cell_type": "markdown",
<<<<<<< HEAD
   "id": "f72bc5c3",
=======
   "id": "57f47808",
>>>>>>> f45420ce18acee65333add82fcb45e00a397e51b
   "metadata": {},
   "source": [
    "This is a underlying basic model that I compare with other models"
   ]
  },
  {
   "cell_type": "code",
   "execution_count": 192,
<<<<<<< HEAD
   "id": "1a7f9078",
=======
   "id": "b5f597ca",
>>>>>>> f45420ce18acee65333add82fcb45e00a397e51b
   "metadata": {
    "scrolled": false
   },
   "outputs": [
    {
     "data": {
      "text/html": [
       "<table class=\"simpletable\">\n",
       "<caption>OLS Regression Results</caption>\n",
       "<tr>\n",
       "  <th>Dep. Variable:</th>            <td>y</td>        <th>  R-squared:         </th> <td>   0.712</td> \n",
       "</tr>\n",
       "<tr>\n",
       "  <th>Model:</th>                   <td>OLS</td>       <th>  Adj. R-squared:    </th> <td>   0.666</td> \n",
       "</tr>\n",
       "<tr>\n",
       "  <th>Method:</th>             <td>Least Squares</td>  <th>  F-statistic:       </th> <td>   15.55</td> \n",
       "</tr>\n",
       "<tr>\n",
       "  <th>Date:</th>             <td>Fri, 02 Dec 2022</td> <th>  Prob (F-statistic):</th> <td>1.03e-60</td> \n",
       "</tr>\n",
       "<tr>\n",
       "  <th>Time:</th>                 <td>11:07:59</td>     <th>  Log-Likelihood:    </th> <td> -6284.7</td> \n",
       "</tr>\n",
       "<tr>\n",
       "  <th>No. Observations:</th>      <td>   373</td>      <th>  AIC:               </th> <td>1.267e+04</td>\n",
       "</tr>\n",
       "<tr>\n",
       "  <th>Df Residuals:</th>          <td>   321</td>      <th>  BIC:               </th> <td>1.288e+04</td>\n",
       "</tr>\n",
       "<tr>\n",
       "  <th>Df Model:</th>              <td>    51</td>      <th>                     </th>     <td> </td>    \n",
       "</tr>\n",
       "<tr>\n",
       "  <th>Covariance Type:</th>      <td>nonrobust</td>    <th>                     </th>     <td> </td>    \n",
       "</tr>\n",
       "</table>\n",
       "<table class=\"simpletable\">\n",
       "<tr>\n",
       "     <td></td>       <th>coef</th>     <th>std err</th>      <th>t</th>      <th>P>|t|</th>  <th>[0.025</th>    <th>0.975]</th>  \n",
       "</tr>\n",
       "<tr>\n",
       "  <th>const</th>  <td>-1.106e+07</td> <td> 2.89e+06</td> <td>   -3.833</td> <td> 0.000</td> <td>-1.67e+07</td> <td>-5.38e+06</td>\n",
       "</tr>\n",
       "<tr>\n",
       "  <th>Age</th>    <td> 6.122e+05</td> <td> 8.15e+04</td> <td>    7.508</td> <td> 0.000</td> <td> 4.52e+05</td> <td> 7.73e+05</td>\n",
       "</tr>\n",
       "<tr>\n",
       "  <th>G</th>      <td>-4.238e+04</td> <td> 4.25e+04</td> <td>   -0.997</td> <td> 0.320</td> <td>-1.26e+05</td> <td> 4.13e+04</td>\n",
       "</tr>\n",
       "<tr>\n",
       "  <th>GS</th>     <td>  1.27e+05</td> <td> 3.03e+04</td> <td>    4.191</td> <td> 0.000</td> <td> 6.74e+04</td> <td> 1.87e+05</td>\n",
       "</tr>\n",
       "<tr>\n",
       "  <th>MP</th>     <td>-1.205e+04</td> <td> 2861.448</td> <td>   -4.212</td> <td> 0.000</td> <td>-1.77e+04</td> <td>-6423.950</td>\n",
       "</tr>\n",
       "<tr>\n",
       "  <th>FG</th>     <td>-8275.8102</td> <td> 1.06e+04</td> <td>   -0.777</td> <td> 0.437</td> <td>-2.92e+04</td> <td> 1.27e+04</td>\n",
       "</tr>\n",
       "<tr>\n",
       "  <th>FGA</th>    <td> 9070.6277</td> <td> 6543.312</td> <td>    1.386</td> <td> 0.167</td> <td>-3802.564</td> <td> 2.19e+04</td>\n",
       "</tr>\n",
       "<tr>\n",
       "  <th>3P</th>     <td> 1.077e+04</td> <td> 2.33e+04</td> <td>    0.463</td> <td> 0.644</td> <td> -3.5e+04</td> <td> 5.65e+04</td>\n",
       "</tr>\n",
       "<tr>\n",
       "  <th>3PA</th>    <td>  589.9510</td> <td>  1.4e+04</td> <td>    0.042</td> <td> 0.966</td> <td>-2.69e+04</td> <td> 2.81e+04</td>\n",
       "</tr>\n",
       "<tr>\n",
       "  <th>2P</th>     <td>-1.905e+04</td> <td> 2.67e+04</td> <td>   -0.714</td> <td> 0.476</td> <td>-7.15e+04</td> <td> 3.34e+04</td>\n",
       "</tr>\n",
       "<tr>\n",
       "  <th>2PA</th>    <td> 8480.6767</td> <td>  1.2e+04</td> <td>    0.705</td> <td> 0.481</td> <td>-1.52e+04</td> <td> 3.21e+04</td>\n",
       "</tr>\n",
       "<tr>\n",
       "  <th>FT</th>     <td> 1.741e+04</td> <td>    3e+04</td> <td>    0.580</td> <td> 0.563</td> <td>-4.17e+04</td> <td> 7.65e+04</td>\n",
       "</tr>\n",
       "<tr>\n",
       "  <th>FTA</th>    <td>-1.342e+04</td> <td> 2.87e+04</td> <td>   -0.467</td> <td> 0.641</td> <td>   -7e+04</td> <td> 4.31e+04</td>\n",
       "</tr>\n",
       "<tr>\n",
       "  <th>ORB</th>    <td>-1099.8325</td> <td> 1.29e+04</td> <td>   -0.085</td> <td> 0.932</td> <td>-2.65e+04</td> <td> 2.43e+04</td>\n",
       "</tr>\n",
       "<tr>\n",
       "  <th>DRB</th>    <td> 1.196e+04</td> <td> 8953.175</td> <td>    1.336</td> <td> 0.183</td> <td>-5653.303</td> <td> 2.96e+04</td>\n",
       "</tr>\n",
       "<tr>\n",
       "  <th>TRB</th>    <td> 1.086e+04</td> <td> 5478.115</td> <td>    1.983</td> <td> 0.048</td> <td>   83.633</td> <td> 2.16e+04</td>\n",
       "</tr>\n",
       "<tr>\n",
       "  <th>AST</th>    <td> 3.037e+04</td> <td> 8783.834</td> <td>    3.457</td> <td> 0.001</td> <td> 1.31e+04</td> <td> 4.76e+04</td>\n",
       "</tr>\n",
       "<tr>\n",
       "  <th>STL</th>    <td> 5.029e+04</td> <td> 2.88e+04</td> <td>    1.747</td> <td> 0.082</td> <td>-6354.722</td> <td> 1.07e+05</td>\n",
       "</tr>\n",
       "<tr>\n",
       "  <th>BLK</th>    <td> 5.165e+04</td> <td> 2.22e+04</td> <td>    2.323</td> <td> 0.021</td> <td> 7913.453</td> <td> 9.54e+04</td>\n",
       "</tr>\n",
       "<tr>\n",
       "  <th>TOV</th>    <td> 6366.6092</td> <td> 2.49e+04</td> <td>    0.256</td> <td> 0.798</td> <td>-4.25e+04</td> <td> 5.53e+04</td>\n",
       "</tr>\n",
       "<tr>\n",
       "  <th>PF</th>     <td> -3.32e+04</td> <td>  1.5e+04</td> <td>   -2.220</td> <td> 0.027</td> <td>-6.26e+04</td> <td>-3776.528</td>\n",
       "</tr>\n",
       "<tr>\n",
       "  <th>PTS</th>    <td> 1.163e+04</td> <td> 9509.407</td> <td>    1.223</td> <td> 0.222</td> <td>-7081.560</td> <td> 3.03e+04</td>\n",
       "</tr>\n",
       "<tr>\n",
       "  <th>Pos_PF</th> <td> 1.381e+06</td> <td> 1.12e+06</td> <td>    1.229</td> <td> 0.220</td> <td> -8.3e+05</td> <td> 3.59e+06</td>\n",
       "</tr>\n",
       "<tr>\n",
       "  <th>Pos_PG</th> <td>-2.703e+05</td> <td> 1.32e+06</td> <td>   -0.205</td> <td> 0.838</td> <td>-2.87e+06</td> <td> 2.33e+06</td>\n",
       "</tr>\n",
       "<tr>\n",
       "  <th>Pos_SF</th> <td> 7.372e+05</td> <td> 1.21e+06</td> <td>    0.611</td> <td> 0.541</td> <td>-1.64e+06</td> <td> 3.11e+06</td>\n",
       "</tr>\n",
       "<tr>\n",
       "  <th>Pos_SG</th> <td>-1.737e+05</td> <td> 1.25e+06</td> <td>   -0.139</td> <td> 0.890</td> <td>-2.63e+06</td> <td> 2.29e+06</td>\n",
       "</tr>\n",
       "<tr>\n",
       "  <th>Tm_BOS</th> <td>  1.26e+06</td> <td> 2.35e+06</td> <td>    0.537</td> <td> 0.592</td> <td>-3.36e+06</td> <td> 5.88e+06</td>\n",
       "</tr>\n",
       "<tr>\n",
       "  <th>Tm_BRK</th> <td>-1.632e+06</td> <td> 2.29e+06</td> <td>   -0.714</td> <td> 0.476</td> <td>-6.13e+06</td> <td> 2.87e+06</td>\n",
       "</tr>\n",
       "<tr>\n",
       "  <th>Tm_CHI</th> <td>-2.495e+06</td> <td> 2.54e+06</td> <td>   -0.984</td> <td> 0.326</td> <td>-7.48e+06</td> <td> 2.49e+06</td>\n",
       "</tr>\n",
       "<tr>\n",
       "  <th>Tm_CHO</th> <td>-7.417e+05</td> <td> 2.27e+06</td> <td>   -0.327</td> <td> 0.744</td> <td>-5.21e+06</td> <td> 3.73e+06</td>\n",
       "</tr>\n",
       "<tr>\n",
       "  <th>Tm_CLE</th> <td>-5.569e+05</td> <td> 2.47e+06</td> <td>   -0.225</td> <td> 0.822</td> <td>-5.42e+06</td> <td>  4.3e+06</td>\n",
       "</tr>\n",
       "<tr>\n",
       "  <th>Tm_DAL</th> <td>-2.225e+05</td> <td> 2.48e+06</td> <td>   -0.090</td> <td> 0.929</td> <td> -5.1e+06</td> <td> 4.66e+06</td>\n",
       "</tr>\n",
       "<tr>\n",
       "  <th>Tm_DEN</th> <td>-6.526e+05</td> <td> 2.48e+06</td> <td>   -0.263</td> <td> 0.793</td> <td>-5.54e+06</td> <td> 4.23e+06</td>\n",
       "</tr>\n",
       "<tr>\n",
       "  <th>Tm_DET</th> <td>-8.075e+05</td> <td> 2.35e+06</td> <td>   -0.344</td> <td> 0.731</td> <td>-5.43e+06</td> <td> 3.82e+06</td>\n",
       "</tr>\n",
       "<tr>\n",
       "  <th>Tm_GSW</th> <td> 3.944e+05</td> <td> 2.39e+06</td> <td>    0.165</td> <td> 0.869</td> <td> -4.3e+06</td> <td> 5.09e+06</td>\n",
       "</tr>\n",
       "<tr>\n",
       "  <th>Tm_HOU</th> <td> 6.317e+05</td> <td> 2.61e+06</td> <td>    0.242</td> <td> 0.809</td> <td>-4.51e+06</td> <td> 5.77e+06</td>\n",
       "</tr>\n",
       "<tr>\n",
       "  <th>Tm_IND</th> <td>-1.319e+06</td> <td> 2.26e+06</td> <td>   -0.583</td> <td> 0.561</td> <td>-5.77e+06</td> <td> 3.14e+06</td>\n",
       "</tr>\n",
       "<tr>\n",
       "  <th>Tm_LAC</th> <td>-2.058e+05</td> <td> 2.32e+06</td> <td>   -0.089</td> <td> 0.929</td> <td>-4.76e+06</td> <td> 4.35e+06</td>\n",
       "</tr>\n",
       "<tr>\n",
       "  <th>Tm_LAL</th> <td>-1.809e+06</td> <td> 2.37e+06</td> <td>   -0.764</td> <td> 0.445</td> <td>-6.47e+06</td> <td> 2.85e+06</td>\n",
       "</tr>\n",
       "<tr>\n",
       "  <th>Tm_MEM</th> <td>-4.252e+06</td> <td> 2.31e+06</td> <td>   -1.837</td> <td> 0.067</td> <td> -8.8e+06</td> <td> 3.01e+05</td>\n",
       "</tr>\n",
       "<tr>\n",
       "  <th>Tm_MIA</th> <td> -4.03e+06</td> <td> 2.47e+06</td> <td>   -1.629</td> <td> 0.104</td> <td> -8.9e+06</td> <td> 8.38e+05</td>\n",
       "</tr>\n",
       "<tr>\n",
       "  <th>Tm_MIL</th> <td> -4.14e+06</td> <td> 2.67e+06</td> <td>   -1.551</td> <td> 0.122</td> <td>-9.39e+06</td> <td> 1.11e+06</td>\n",
       "</tr>\n",
       "<tr>\n",
       "  <th>Tm_MIN</th> <td> 7.049e+05</td> <td> 2.38e+06</td> <td>    0.297</td> <td> 0.767</td> <td>-3.97e+06</td> <td> 5.38e+06</td>\n",
       "</tr>\n",
       "<tr>\n",
       "  <th>Tm_NOP</th> <td>-1.305e+06</td> <td> 2.26e+06</td> <td>   -0.578</td> <td> 0.564</td> <td>-5.75e+06</td> <td> 3.14e+06</td>\n",
       "</tr>\n",
       "<tr>\n",
       "  <th>Tm_NYK</th> <td>-3.021e+06</td> <td> 2.52e+06</td> <td>   -1.198</td> <td> 0.232</td> <td>-7.98e+06</td> <td> 1.94e+06</td>\n",
       "</tr>\n",
       "<tr>\n",
       "  <th>Tm_OKC</th> <td>-3.051e+06</td> <td> 2.25e+06</td> <td>   -1.353</td> <td> 0.177</td> <td>-7.49e+06</td> <td> 1.39e+06</td>\n",
       "</tr>\n",
       "<tr>\n",
       "  <th>Tm_ORL</th> <td>-1.077e+06</td> <td> 2.81e+06</td> <td>   -0.383</td> <td> 0.702</td> <td>-6.61e+06</td> <td> 4.46e+06</td>\n",
       "</tr>\n",
       "<tr>\n",
       "  <th>Tm_PHI</th> <td> 2.455e+05</td> <td> 2.21e+06</td> <td>    0.111</td> <td> 0.912</td> <td>-4.11e+06</td> <td>  4.6e+06</td>\n",
       "</tr>\n",
       "<tr>\n",
       "  <th>Tm_PHO</th> <td>-1.063e+06</td> <td> 2.25e+06</td> <td>   -0.473</td> <td> 0.637</td> <td>-5.49e+06</td> <td> 3.36e+06</td>\n",
       "</tr>\n",
       "<tr>\n",
       "  <th>Tm_POR</th> <td>-1.771e+06</td> <td> 2.43e+06</td> <td>   -0.728</td> <td> 0.467</td> <td>-6.56e+06</td> <td> 3.02e+06</td>\n",
       "</tr>\n",
       "<tr>\n",
       "  <th>Tm_SAC</th> <td>-3.301e+06</td> <td> 2.44e+06</td> <td>   -1.352</td> <td> 0.177</td> <td>-8.11e+06</td> <td>  1.5e+06</td>\n",
       "</tr>\n",
       "<tr>\n",
       "  <th>Tm_SAS</th> <td>-2.483e+06</td> <td> 2.51e+06</td> <td>   -0.989</td> <td> 0.323</td> <td>-7.42e+06</td> <td> 2.45e+06</td>\n",
       "</tr>\n",
       "<tr>\n",
       "  <th>Tm_TOR</th> <td>-1.087e+06</td> <td> 2.32e+06</td> <td>   -0.468</td> <td> 0.640</td> <td>-5.66e+06</td> <td> 3.48e+06</td>\n",
       "</tr>\n",
       "<tr>\n",
       "  <th>Tm_TOT</th> <td>-6.985e+05</td> <td> 1.87e+06</td> <td>   -0.373</td> <td> 0.709</td> <td>-4.38e+06</td> <td> 2.99e+06</td>\n",
       "</tr>\n",
       "<tr>\n",
       "  <th>Tm_UTA</th> <td>-9.938e+05</td> <td> 2.32e+06</td> <td>   -0.428</td> <td> 0.669</td> <td>-5.56e+06</td> <td> 3.57e+06</td>\n",
       "</tr>\n",
       "<tr>\n",
       "  <th>Tm_WAS</th> <td>   1.6e+05</td> <td> 2.59e+06</td> <td>    0.062</td> <td> 0.951</td> <td>-4.93e+06</td> <td> 5.25e+06</td>\n",
       "</tr>\n",
       "</table>\n",
       "<table class=\"simpletable\">\n",
       "<tr>\n",
       "  <th>Omnibus:</th>       <td>45.062</td> <th>  Durbin-Watson:     </th> <td>   2.014</td>\n",
       "</tr>\n",
       "<tr>\n",
       "  <th>Prob(Omnibus):</th> <td> 0.000</td> <th>  Jarque-Bera (JB):  </th> <td>  95.519</td>\n",
       "</tr>\n",
       "<tr>\n",
       "  <th>Skew:</th>          <td> 0.649</td> <th>  Prob(JB):          </th> <td>1.81e-21</td>\n",
       "</tr>\n",
       "<tr>\n",
       "  <th>Kurtosis:</th>      <td> 5.112</td> <th>  Cond. No.          </th> <td>5.01e+16</td>\n",
       "</tr>\n",
       "</table><br/><br/>Notes:<br/>[1] Standard Errors assume that the covariance matrix of the errors is correctly specified.<br/>[2] The smallest eigenvalue is 3.44e-25. This might indicate that there are<br/>strong multicollinearity problems or that the design matrix is singular."
      ],
      "text/plain": [
       "<class 'statsmodels.iolib.summary.Summary'>\n",
       "\"\"\"\n",
       "                            OLS Regression Results                            \n",
       "==============================================================================\n",
       "Dep. Variable:                      y   R-squared:                       0.712\n",
       "Model:                            OLS   Adj. R-squared:                  0.666\n",
       "Method:                 Least Squares   F-statistic:                     15.55\n",
       "Date:                Fri, 02 Dec 2022   Prob (F-statistic):           1.03e-60\n",
       "Time:                        11:07:59   Log-Likelihood:                -6284.7\n",
       "No. Observations:                 373   AIC:                         1.267e+04\n",
       "Df Residuals:                     321   BIC:                         1.288e+04\n",
       "Df Model:                          51                                         \n",
       "Covariance Type:            nonrobust                                         \n",
       "==============================================================================\n",
       "                 coef    std err          t      P>|t|      [0.025      0.975]\n",
       "------------------------------------------------------------------------------\n",
       "const      -1.106e+07   2.89e+06     -3.833      0.000   -1.67e+07   -5.38e+06\n",
       "Age         6.122e+05   8.15e+04      7.508      0.000    4.52e+05    7.73e+05\n",
       "G          -4.238e+04   4.25e+04     -0.997      0.320   -1.26e+05    4.13e+04\n",
       "GS           1.27e+05   3.03e+04      4.191      0.000    6.74e+04    1.87e+05\n",
       "MP         -1.205e+04   2861.448     -4.212      0.000   -1.77e+04   -6423.950\n",
       "FG         -8275.8102   1.06e+04     -0.777      0.437   -2.92e+04    1.27e+04\n",
       "FGA         9070.6277   6543.312      1.386      0.167   -3802.564    2.19e+04\n",
       "3P          1.077e+04   2.33e+04      0.463      0.644    -3.5e+04    5.65e+04\n",
       "3PA          589.9510    1.4e+04      0.042      0.966   -2.69e+04    2.81e+04\n",
       "2P         -1.905e+04   2.67e+04     -0.714      0.476   -7.15e+04    3.34e+04\n",
       "2PA         8480.6767    1.2e+04      0.705      0.481   -1.52e+04    3.21e+04\n",
       "FT          1.741e+04      3e+04      0.580      0.563   -4.17e+04    7.65e+04\n",
       "FTA        -1.342e+04   2.87e+04     -0.467      0.641      -7e+04    4.31e+04\n",
       "ORB        -1099.8325   1.29e+04     -0.085      0.932   -2.65e+04    2.43e+04\n",
       "DRB         1.196e+04   8953.175      1.336      0.183   -5653.303    2.96e+04\n",
       "TRB         1.086e+04   5478.115      1.983      0.048      83.633    2.16e+04\n",
       "AST         3.037e+04   8783.834      3.457      0.001    1.31e+04    4.76e+04\n",
       "STL         5.029e+04   2.88e+04      1.747      0.082   -6354.722    1.07e+05\n",
       "BLK         5.165e+04   2.22e+04      2.323      0.021    7913.453    9.54e+04\n",
       "TOV         6366.6092   2.49e+04      0.256      0.798   -4.25e+04    5.53e+04\n",
       "PF          -3.32e+04    1.5e+04     -2.220      0.027   -6.26e+04   -3776.528\n",
       "PTS         1.163e+04   9509.407      1.223      0.222   -7081.560    3.03e+04\n",
       "Pos_PF      1.381e+06   1.12e+06      1.229      0.220    -8.3e+05    3.59e+06\n",
       "Pos_PG     -2.703e+05   1.32e+06     -0.205      0.838   -2.87e+06    2.33e+06\n",
       "Pos_SF      7.372e+05   1.21e+06      0.611      0.541   -1.64e+06    3.11e+06\n",
       "Pos_SG     -1.737e+05   1.25e+06     -0.139      0.890   -2.63e+06    2.29e+06\n",
       "Tm_BOS       1.26e+06   2.35e+06      0.537      0.592   -3.36e+06    5.88e+06\n",
       "Tm_BRK     -1.632e+06   2.29e+06     -0.714      0.476   -6.13e+06    2.87e+06\n",
       "Tm_CHI     -2.495e+06   2.54e+06     -0.984      0.326   -7.48e+06    2.49e+06\n",
       "Tm_CHO     -7.417e+05   2.27e+06     -0.327      0.744   -5.21e+06    3.73e+06\n",
       "Tm_CLE     -5.569e+05   2.47e+06     -0.225      0.822   -5.42e+06     4.3e+06\n",
       "Tm_DAL     -2.225e+05   2.48e+06     -0.090      0.929    -5.1e+06    4.66e+06\n",
       "Tm_DEN     -6.526e+05   2.48e+06     -0.263      0.793   -5.54e+06    4.23e+06\n",
       "Tm_DET     -8.075e+05   2.35e+06     -0.344      0.731   -5.43e+06    3.82e+06\n",
       "Tm_GSW      3.944e+05   2.39e+06      0.165      0.869    -4.3e+06    5.09e+06\n",
       "Tm_HOU      6.317e+05   2.61e+06      0.242      0.809   -4.51e+06    5.77e+06\n",
       "Tm_IND     -1.319e+06   2.26e+06     -0.583      0.561   -5.77e+06    3.14e+06\n",
       "Tm_LAC     -2.058e+05   2.32e+06     -0.089      0.929   -4.76e+06    4.35e+06\n",
       "Tm_LAL     -1.809e+06   2.37e+06     -0.764      0.445   -6.47e+06    2.85e+06\n",
       "Tm_MEM     -4.252e+06   2.31e+06     -1.837      0.067    -8.8e+06    3.01e+05\n",
       "Tm_MIA      -4.03e+06   2.47e+06     -1.629      0.104    -8.9e+06    8.38e+05\n",
       "Tm_MIL      -4.14e+06   2.67e+06     -1.551      0.122   -9.39e+06    1.11e+06\n",
       "Tm_MIN      7.049e+05   2.38e+06      0.297      0.767   -3.97e+06    5.38e+06\n",
       "Tm_NOP     -1.305e+06   2.26e+06     -0.578      0.564   -5.75e+06    3.14e+06\n",
       "Tm_NYK     -3.021e+06   2.52e+06     -1.198      0.232   -7.98e+06    1.94e+06\n",
       "Tm_OKC     -3.051e+06   2.25e+06     -1.353      0.177   -7.49e+06    1.39e+06\n",
       "Tm_ORL     -1.077e+06   2.81e+06     -0.383      0.702   -6.61e+06    4.46e+06\n",
       "Tm_PHI      2.455e+05   2.21e+06      0.111      0.912   -4.11e+06     4.6e+06\n",
       "Tm_PHO     -1.063e+06   2.25e+06     -0.473      0.637   -5.49e+06    3.36e+06\n",
       "Tm_POR     -1.771e+06   2.43e+06     -0.728      0.467   -6.56e+06    3.02e+06\n",
       "Tm_SAC     -3.301e+06   2.44e+06     -1.352      0.177   -8.11e+06     1.5e+06\n",
       "Tm_SAS     -2.483e+06   2.51e+06     -0.989      0.323   -7.42e+06    2.45e+06\n",
       "Tm_TOR     -1.087e+06   2.32e+06     -0.468      0.640   -5.66e+06    3.48e+06\n",
       "Tm_TOT     -6.985e+05   1.87e+06     -0.373      0.709   -4.38e+06    2.99e+06\n",
       "Tm_UTA     -9.938e+05   2.32e+06     -0.428      0.669   -5.56e+06    3.57e+06\n",
       "Tm_WAS        1.6e+05   2.59e+06      0.062      0.951   -4.93e+06    5.25e+06\n",
       "==============================================================================\n",
       "Omnibus:                       45.062   Durbin-Watson:                   2.014\n",
       "Prob(Omnibus):                  0.000   Jarque-Bera (JB):               95.519\n",
       "Skew:                           0.649   Prob(JB):                     1.81e-21\n",
       "Kurtosis:                       5.112   Cond. No.                     5.01e+16\n",
       "==============================================================================\n",
       "\n",
       "Notes:\n",
       "[1] Standard Errors assume that the covariance matrix of the errors is correctly specified.\n",
       "[2] The smallest eigenvalue is 3.44e-25. This might indicate that there are\n",
       "strong multicollinearity problems or that the design matrix is singular.\n",
       "\"\"\""
      ]
     },
     "execution_count": 192,
     "metadata": {},
     "output_type": "execute_result"
    }
   ],
   "source": [
    "model = sm.OLS(y_train,x_train)\n",
    "model.fit().summary()"
   ]
  },
  {
   "cell_type": "markdown",
<<<<<<< HEAD
   "id": "e32e3859",
=======
   "id": "b2b48e35",
>>>>>>> f45420ce18acee65333add82fcb45e00a397e51b
   "metadata": {},
   "source": [
    "Let's see if removing some of the unrelevant columns will help improve the model score."
   ]
  },
  {
   "cell_type": "code",
   "execution_count": 193,
<<<<<<< HEAD
   "id": "f5a597f5",
=======
   "id": "246405c4",
>>>>>>> f45420ce18acee65333add82fcb45e00a397e51b
   "metadata": {},
   "outputs": [],
   "source": [
    "# choose only columns that have lower p value than 0.05\n",
    "columns_used = ['const', 'Age', 'GS', 'MP', 'TRB', 'AST', 'BLK', 'PF']"
   ]
  },
  {
   "cell_type": "code",
   "execution_count": 194,
<<<<<<< HEAD
   "id": "4c1a8c08",
=======
   "id": "d3ee269f",
>>>>>>> f45420ce18acee65333add82fcb45e00a397e51b
   "metadata": {
    "scrolled": false
   },
   "outputs": [
    {
     "data": {
      "text/html": [
       "<table class=\"simpletable\">\n",
       "<caption>OLS Regression Results</caption>\n",
       "<tr>\n",
       "  <th>Dep. Variable:</th>            <td>y</td>        <th>  R-squared:         </th> <td>   0.597</td> \n",
       "</tr>\n",
       "<tr>\n",
       "  <th>Model:</th>                   <td>OLS</td>       <th>  Adj. R-squared:    </th> <td>   0.589</td> \n",
       "</tr>\n",
       "<tr>\n",
       "  <th>Method:</th>             <td>Least Squares</td>  <th>  F-statistic:       </th> <td>   77.09</td> \n",
       "</tr>\n",
       "<tr>\n",
       "  <th>Date:</th>             <td>Fri, 02 Dec 2022</td> <th>  Prob (F-statistic):</th> <td>4.46e-68</td> \n",
       "</tr>\n",
       "<tr>\n",
       "  <th>Time:</th>                 <td>11:07:59</td>     <th>  Log-Likelihood:    </th> <td> -6347.6</td> \n",
       "</tr>\n",
       "<tr>\n",
       "  <th>No. Observations:</th>      <td>   373</td>      <th>  AIC:               </th> <td>1.271e+04</td>\n",
       "</tr>\n",
       "<tr>\n",
       "  <th>Df Residuals:</th>          <td>   365</td>      <th>  BIC:               </th> <td>1.274e+04</td>\n",
       "</tr>\n",
       "<tr>\n",
       "  <th>Df Model:</th>              <td>     7</td>      <th>                     </th>     <td> </td>    \n",
       "</tr>\n",
       "<tr>\n",
       "  <th>Covariance Type:</th>      <td>nonrobust</td>    <th>                     </th>     <td> </td>    \n",
       "</tr>\n",
       "</table>\n",
       "<table class=\"simpletable\">\n",
       "<tr>\n",
       "    <td></td>       <th>coef</th>     <th>std err</th>      <th>t</th>      <th>P>|t|</th>  <th>[0.025</th>    <th>0.975]</th>  \n",
       "</tr>\n",
       "<tr>\n",
       "  <th>const</th> <td>-1.201e+07</td> <td>    2e+06</td> <td>   -6.014</td> <td> 0.000</td> <td>-1.59e+07</td> <td>-8.08e+06</td>\n",
       "</tr>\n",
       "<tr>\n",
       "  <th>Age</th>   <td> 5.775e+05</td> <td> 7.84e+04</td> <td>    7.362</td> <td> 0.000</td> <td> 4.23e+05</td> <td> 7.32e+05</td>\n",
       "</tr>\n",
       "<tr>\n",
       "  <th>GS</th>    <td> 1.613e+05</td> <td> 2.71e+04</td> <td>    5.958</td> <td> 0.000</td> <td> 1.08e+05</td> <td> 2.15e+05</td>\n",
       "</tr>\n",
       "<tr>\n",
       "  <th>MP</th>    <td>-2789.3627</td> <td> 1485.934</td> <td>   -1.877</td> <td> 0.061</td> <td>-5711.429</td> <td>  132.704</td>\n",
       "</tr>\n",
       "<tr>\n",
       "  <th>TRB</th>   <td> 1.323e+04</td> <td> 4661.499</td> <td>    2.839</td> <td> 0.005</td> <td> 4065.306</td> <td> 2.24e+04</td>\n",
       "</tr>\n",
       "<tr>\n",
       "  <th>AST</th>   <td> 4.725e+04</td> <td> 5068.699</td> <td>    9.321</td> <td> 0.000</td> <td> 3.73e+04</td> <td> 5.72e+04</td>\n",
       "</tr>\n",
       "<tr>\n",
       "  <th>BLK</th>   <td> 3.197e+04</td> <td> 2.14e+04</td> <td>    1.492</td> <td> 0.136</td> <td>-1.02e+04</td> <td> 7.41e+04</td>\n",
       "</tr>\n",
       "<tr>\n",
       "  <th>PF</th>    <td>-5.135e+04</td> <td> 1.39e+04</td> <td>   -3.695</td> <td> 0.000</td> <td>-7.87e+04</td> <td> -2.4e+04</td>\n",
       "</tr>\n",
       "</table>\n",
       "<table class=\"simpletable\">\n",
       "<tr>\n",
       "  <th>Omnibus:</th>       <td>45.321</td> <th>  Durbin-Watson:     </th> <td>   2.087</td>\n",
       "</tr>\n",
       "<tr>\n",
       "  <th>Prob(Omnibus):</th> <td> 0.000</td> <th>  Jarque-Bera (JB):  </th> <td>  75.597</td>\n",
       "</tr>\n",
       "<tr>\n",
       "  <th>Skew:</th>          <td> 0.741</td> <th>  Prob(JB):          </th> <td>3.84e-17</td>\n",
       "</tr>\n",
       "<tr>\n",
       "  <th>Kurtosis:</th>      <td> 4.634</td> <th>  Cond. No.          </th> <td>7.87e+03</td>\n",
       "</tr>\n",
       "</table><br/><br/>Notes:<br/>[1] Standard Errors assume that the covariance matrix of the errors is correctly specified.<br/>[2] The condition number is large, 7.87e+03. This might indicate that there are<br/>strong multicollinearity or other numerical problems."
      ],
      "text/plain": [
       "<class 'statsmodels.iolib.summary.Summary'>\n",
       "\"\"\"\n",
       "                            OLS Regression Results                            \n",
       "==============================================================================\n",
       "Dep. Variable:                      y   R-squared:                       0.597\n",
       "Model:                            OLS   Adj. R-squared:                  0.589\n",
       "Method:                 Least Squares   F-statistic:                     77.09\n",
       "Date:                Fri, 02 Dec 2022   Prob (F-statistic):           4.46e-68\n",
       "Time:                        11:07:59   Log-Likelihood:                -6347.6\n",
       "No. Observations:                 373   AIC:                         1.271e+04\n",
       "Df Residuals:                     365   BIC:                         1.274e+04\n",
       "Df Model:                           7                                         \n",
       "Covariance Type:            nonrobust                                         \n",
       "==============================================================================\n",
       "                 coef    std err          t      P>|t|      [0.025      0.975]\n",
       "------------------------------------------------------------------------------\n",
       "const      -1.201e+07      2e+06     -6.014      0.000   -1.59e+07   -8.08e+06\n",
       "Age         5.775e+05   7.84e+04      7.362      0.000    4.23e+05    7.32e+05\n",
       "GS          1.613e+05   2.71e+04      5.958      0.000    1.08e+05    2.15e+05\n",
       "MP         -2789.3627   1485.934     -1.877      0.061   -5711.429     132.704\n",
       "TRB         1.323e+04   4661.499      2.839      0.005    4065.306    2.24e+04\n",
       "AST         4.725e+04   5068.699      9.321      0.000    3.73e+04    5.72e+04\n",
       "BLK         3.197e+04   2.14e+04      1.492      0.136   -1.02e+04    7.41e+04\n",
       "PF         -5.135e+04   1.39e+04     -3.695      0.000   -7.87e+04    -2.4e+04\n",
       "==============================================================================\n",
       "Omnibus:                       45.321   Durbin-Watson:                   2.087\n",
       "Prob(Omnibus):                  0.000   Jarque-Bera (JB):               75.597\n",
       "Skew:                           0.741   Prob(JB):                     3.84e-17\n",
       "Kurtosis:                       4.634   Cond. No.                     7.87e+03\n",
       "==============================================================================\n",
       "\n",
       "Notes:\n",
       "[1] Standard Errors assume that the covariance matrix of the errors is correctly specified.\n",
       "[2] The condition number is large, 7.87e+03. This might indicate that there are\n",
       "strong multicollinearity or other numerical problems.\n",
       "\"\"\""
      ]
     },
     "execution_count": 194,
     "metadata": {},
     "output_type": "execute_result"
    }
   ],
   "source": [
    "# create another model with selected columns and see if the R-squared value will be improved\n",
    "model2 = sm.OLS(y_train,x_train[columns_used])\n",
    "model2.fit().summary()"
   ]
  },
  {
   "cell_type": "markdown",
<<<<<<< HEAD
   "id": "09c09437",
=======
   "id": "3c39df70",
>>>>>>> f45420ce18acee65333add82fcb45e00a397e51b
   "metadata": {},
   "source": [
    "Turns out it didn't really improve."
   ]
  },
  {
   "cell_type": "markdown",
<<<<<<< HEAD
   "id": "6cbc812b",
=======
   "id": "b52364a9",
>>>>>>> f45420ce18acee65333add82fcb45e00a397e51b
   "metadata": {},
   "source": [
    "Let's try sklearn linear regression next.\n",
    "I am going to use cross validation to compare the scores of models"
   ]
  },
  {
   "cell_type": "markdown",
<<<<<<< HEAD
   "id": "aeefc95c",
=======
   "id": "2c0f4e82",
>>>>>>> f45420ce18acee65333add82fcb45e00a397e51b
   "metadata": {},
   "source": [
    "## sklearn Linear Regression"
   ]
  },
  {
   "cell_type": "code",
   "execution_count": 195,
<<<<<<< HEAD
   "id": "89c48e24",
=======
   "id": "d9ce99bc",
>>>>>>> f45420ce18acee65333add82fcb45e00a397e51b
   "metadata": {},
   "outputs": [
    {
     "data": {
      "text/plain": [
       "LinearRegression()"
      ]
     },
     "execution_count": 195,
     "metadata": {},
     "output_type": "execute_result"
    }
   ],
   "source": [
    "from sklearn.linear_model import LinearRegression, Lasso, Ridge\n",
    "from sklearn.model_selection import cross_val_score\n",
    "\n",
    "reg = LinearRegression()\n",
    "reg.fit(x_train, y_train)"
   ]
  },
  {
   "cell_type": "code",
   "execution_count": 196,
<<<<<<< HEAD
   "id": "e488b531",
=======
   "id": "b2e850b8",
>>>>>>> f45420ce18acee65333add82fcb45e00a397e51b
   "metadata": {},
   "outputs": [
    {
     "data": {
      "text/plain": [
       "0.5225314491906369"
      ]
     },
     "execution_count": 196,
     "metadata": {},
     "output_type": "execute_result"
    }
   ],
   "source": [
    "# cross validation for sklearn linear regression\n",
    "np.mean(cross_val_score(reg, x_train, y_train, cv=5))"
   ]
  },
  {
   "cell_type": "markdown",
<<<<<<< HEAD
   "id": "0fd02f19",
=======
   "id": "05b530c4",
>>>>>>> f45420ce18acee65333add82fcb45e00a397e51b
   "metadata": {},
   "source": [
    "Let's see if the score gets better if I remove some of the unrelevant columns (high p value)."
   ]
  },
  {
   "cell_type": "markdown",
<<<<<<< HEAD
   "id": "b114798c",
=======
   "id": "8aceb172",
>>>>>>> f45420ce18acee65333add82fcb45e00a397e51b
   "metadata": {},
   "source": [
    "## Lasso & Ridge"
   ]
  },
  {
   "cell_type": "code",
   "execution_count": 197,
<<<<<<< HEAD
   "id": "a06af8b7",
=======
   "id": "1d245166",
>>>>>>> f45420ce18acee65333add82fcb45e00a397e51b
   "metadata": {
    "scrolled": true
   },
   "outputs": [
    {
     "name": "stderr",
     "output_type": "stream",
     "text": [
      "/Users/kaichi/opt/anaconda3/lib/python3.9/site-packages/sklearn/linear_model/_coordinate_descent.py:647: ConvergenceWarning: Objective did not converge. You might want to increase the number of iterations, check the scale of the features or consider increasing regularisation. Duality gap: 3.547e+15, tolerance: 2.764e+12\n",
      "  model = cd_fast.enet_coordinate_descent(\n",
      "/Users/kaichi/opt/anaconda3/lib/python3.9/site-packages/sklearn/linear_model/_coordinate_descent.py:647: ConvergenceWarning: Objective did not converge. You might want to increase the number of iterations, check the scale of the features or consider increasing regularisation. Duality gap: 3.234e+15, tolerance: 2.494e+12\n",
      "  model = cd_fast.enet_coordinate_descent(\n",
      "/Users/kaichi/opt/anaconda3/lib/python3.9/site-packages/sklearn/linear_model/_coordinate_descent.py:647: ConvergenceWarning: Objective did not converge. You might want to increase the number of iterations, check the scale of the features or consider increasing regularisation. Duality gap: 4.080e+15, tolerance: 2.938e+12\n",
      "  model = cd_fast.enet_coordinate_descent(\n",
      "/Users/kaichi/opt/anaconda3/lib/python3.9/site-packages/sklearn/linear_model/_coordinate_descent.py:647: ConvergenceWarning: Objective did not converge. You might want to increase the number of iterations, check the scale of the features or consider increasing regularisation. Duality gap: 3.364e+15, tolerance: 2.435e+12\n",
      "  model = cd_fast.enet_coordinate_descent(\n",
      "/Users/kaichi/opt/anaconda3/lib/python3.9/site-packages/sklearn/linear_model/_coordinate_descent.py:647: ConvergenceWarning: Objective did not converge. You might want to increase the number of iterations, check the scale of the features or consider increasing regularisation. Duality gap: 3.801e+15, tolerance: 2.423e+12\n",
      "  model = cd_fast.enet_coordinate_descent(\n",
      "/Users/kaichi/opt/anaconda3/lib/python3.9/site-packages/sklearn/linear_model/_coordinate_descent.py:647: ConvergenceWarning: Objective did not converge. You might want to increase the number of iterations, check the scale of the features or consider increasing regularisation. Duality gap: 3.546e+15, tolerance: 2.764e+12\n",
      "  model = cd_fast.enet_coordinate_descent(\n",
      "/Users/kaichi/opt/anaconda3/lib/python3.9/site-packages/sklearn/linear_model/_coordinate_descent.py:647: ConvergenceWarning: Objective did not converge. You might want to increase the number of iterations, check the scale of the features or consider increasing regularisation. Duality gap: 3.233e+15, tolerance: 2.494e+12\n",
      "  model = cd_fast.enet_coordinate_descent(\n",
      "/Users/kaichi/opt/anaconda3/lib/python3.9/site-packages/sklearn/linear_model/_coordinate_descent.py:647: ConvergenceWarning: Objective did not converge. You might want to increase the number of iterations, check the scale of the features or consider increasing regularisation. Duality gap: 4.074e+15, tolerance: 2.938e+12\n",
      "  model = cd_fast.enet_coordinate_descent(\n",
      "/Users/kaichi/opt/anaconda3/lib/python3.9/site-packages/sklearn/linear_model/_coordinate_descent.py:647: ConvergenceWarning: Objective did not converge. You might want to increase the number of iterations, check the scale of the features or consider increasing regularisation. Duality gap: 3.361e+15, tolerance: 2.435e+12\n",
      "  model = cd_fast.enet_coordinate_descent(\n",
      "/Users/kaichi/opt/anaconda3/lib/python3.9/site-packages/sklearn/linear_model/_coordinate_descent.py:647: ConvergenceWarning: Objective did not converge. You might want to increase the number of iterations, check the scale of the features or consider increasing regularisation. Duality gap: 3.799e+15, tolerance: 2.423e+12\n",
      "  model = cd_fast.enet_coordinate_descent(\n",
      "/Users/kaichi/opt/anaconda3/lib/python3.9/site-packages/sklearn/linear_model/_coordinate_descent.py:647: ConvergenceWarning: Objective did not converge. You might want to increase the number of iterations, check the scale of the features or consider increasing regularisation. Duality gap: 3.545e+15, tolerance: 2.764e+12\n",
      "  model = cd_fast.enet_coordinate_descent(\n",
      "/Users/kaichi/opt/anaconda3/lib/python3.9/site-packages/sklearn/linear_model/_coordinate_descent.py:647: ConvergenceWarning: Objective did not converge. You might want to increase the number of iterations, check the scale of the features or consider increasing regularisation. Duality gap: 3.232e+15, tolerance: 2.494e+12\n",
      "  model = cd_fast.enet_coordinate_descent(\n",
      "/Users/kaichi/opt/anaconda3/lib/python3.9/site-packages/sklearn/linear_model/_coordinate_descent.py:647: ConvergenceWarning: Objective did not converge. You might want to increase the number of iterations, check the scale of the features or consider increasing regularisation. Duality gap: 4.069e+15, tolerance: 2.938e+12\n",
      "  model = cd_fast.enet_coordinate_descent(\n",
      "/Users/kaichi/opt/anaconda3/lib/python3.9/site-packages/sklearn/linear_model/_coordinate_descent.py:647: ConvergenceWarning: Objective did not converge. You might want to increase the number of iterations, check the scale of the features or consider increasing regularisation. Duality gap: 3.358e+15, tolerance: 2.435e+12\n",
      "  model = cd_fast.enet_coordinate_descent(\n",
      "/Users/kaichi/opt/anaconda3/lib/python3.9/site-packages/sklearn/linear_model/_coordinate_descent.py:647: ConvergenceWarning: Objective did not converge. You might want to increase the number of iterations, check the scale of the features or consider increasing regularisation. Duality gap: 3.797e+15, tolerance: 2.423e+12\n",
      "  model = cd_fast.enet_coordinate_descent(\n",
      "/Users/kaichi/opt/anaconda3/lib/python3.9/site-packages/sklearn/linear_model/_coordinate_descent.py:647: ConvergenceWarning: Objective did not converge. You might want to increase the number of iterations, check the scale of the features or consider increasing regularisation. Duality gap: 3.544e+15, tolerance: 2.764e+12\n",
      "  model = cd_fast.enet_coordinate_descent(\n",
      "/Users/kaichi/opt/anaconda3/lib/python3.9/site-packages/sklearn/linear_model/_coordinate_descent.py:647: ConvergenceWarning: Objective did not converge. You might want to increase the number of iterations, check the scale of the features or consider increasing regularisation. Duality gap: 3.232e+15, tolerance: 2.494e+12\n",
      "  model = cd_fast.enet_coordinate_descent(\n",
      "/Users/kaichi/opt/anaconda3/lib/python3.9/site-packages/sklearn/linear_model/_coordinate_descent.py:647: ConvergenceWarning: Objective did not converge. You might want to increase the number of iterations, check the scale of the features or consider increasing regularisation. Duality gap: 4.064e+15, tolerance: 2.938e+12\n",
      "  model = cd_fast.enet_coordinate_descent(\n",
      "/Users/kaichi/opt/anaconda3/lib/python3.9/site-packages/sklearn/linear_model/_coordinate_descent.py:647: ConvergenceWarning: Objective did not converge. You might want to increase the number of iterations, check the scale of the features or consider increasing regularisation. Duality gap: 3.354e+15, tolerance: 2.435e+12\n",
      "  model = cd_fast.enet_coordinate_descent(\n",
      "/Users/kaichi/opt/anaconda3/lib/python3.9/site-packages/sklearn/linear_model/_coordinate_descent.py:647: ConvergenceWarning: Objective did not converge. You might want to increase the number of iterations, check the scale of the features or consider increasing regularisation. Duality gap: 3.796e+15, tolerance: 2.423e+12\n",
      "  model = cd_fast.enet_coordinate_descent(\n",
      "/Users/kaichi/opt/anaconda3/lib/python3.9/site-packages/sklearn/linear_model/_coordinate_descent.py:647: ConvergenceWarning: Objective did not converge. You might want to increase the number of iterations, check the scale of the features or consider increasing regularisation. Duality gap: 3.543e+15, tolerance: 2.764e+12\n",
      "  model = cd_fast.enet_coordinate_descent(\n",
      "/Users/kaichi/opt/anaconda3/lib/python3.9/site-packages/sklearn/linear_model/_coordinate_descent.py:647: ConvergenceWarning: Objective did not converge. You might want to increase the number of iterations, check the scale of the features or consider increasing regularisation. Duality gap: 3.231e+15, tolerance: 2.494e+12\n",
      "  model = cd_fast.enet_coordinate_descent(\n",
      "/Users/kaichi/opt/anaconda3/lib/python3.9/site-packages/sklearn/linear_model/_coordinate_descent.py:647: ConvergenceWarning: Objective did not converge. You might want to increase the number of iterations, check the scale of the features or consider increasing regularisation. Duality gap: 4.059e+15, tolerance: 2.938e+12\n",
      "  model = cd_fast.enet_coordinate_descent(\n",
      "/Users/kaichi/opt/anaconda3/lib/python3.9/site-packages/sklearn/linear_model/_coordinate_descent.py:647: ConvergenceWarning: Objective did not converge. You might want to increase the number of iterations, check the scale of the features or consider increasing regularisation. Duality gap: 3.351e+15, tolerance: 2.435e+12\n",
      "  model = cd_fast.enet_coordinate_descent(\n",
      "/Users/kaichi/opt/anaconda3/lib/python3.9/site-packages/sklearn/linear_model/_coordinate_descent.py:647: ConvergenceWarning: Objective did not converge. You might want to increase the number of iterations, check the scale of the features or consider increasing regularisation. Duality gap: 3.794e+15, tolerance: 2.423e+12\n",
      "  model = cd_fast.enet_coordinate_descent(\n"
     ]
    },
    {
     "name": "stderr",
     "output_type": "stream",
     "text": [
      "/Users/kaichi/opt/anaconda3/lib/python3.9/site-packages/sklearn/linear_model/_coordinate_descent.py:647: ConvergenceWarning: Objective did not converge. You might want to increase the number of iterations, check the scale of the features or consider increasing regularisation. Duality gap: 3.542e+15, tolerance: 2.764e+12\n",
      "  model = cd_fast.enet_coordinate_descent(\n",
      "/Users/kaichi/opt/anaconda3/lib/python3.9/site-packages/sklearn/linear_model/_coordinate_descent.py:647: ConvergenceWarning: Objective did not converge. You might want to increase the number of iterations, check the scale of the features or consider increasing regularisation. Duality gap: 3.230e+15, tolerance: 2.494e+12\n",
      "  model = cd_fast.enet_coordinate_descent(\n",
      "/Users/kaichi/opt/anaconda3/lib/python3.9/site-packages/sklearn/linear_model/_coordinate_descent.py:647: ConvergenceWarning: Objective did not converge. You might want to increase the number of iterations, check the scale of the features or consider increasing regularisation. Duality gap: 4.054e+15, tolerance: 2.938e+12\n",
      "  model = cd_fast.enet_coordinate_descent(\n",
      "/Users/kaichi/opt/anaconda3/lib/python3.9/site-packages/sklearn/linear_model/_coordinate_descent.py:647: ConvergenceWarning: Objective did not converge. You might want to increase the number of iterations, check the scale of the features or consider increasing regularisation. Duality gap: 3.348e+15, tolerance: 2.435e+12\n",
      "  model = cd_fast.enet_coordinate_descent(\n",
      "/Users/kaichi/opt/anaconda3/lib/python3.9/site-packages/sklearn/linear_model/_coordinate_descent.py:647: ConvergenceWarning: Objective did not converge. You might want to increase the number of iterations, check the scale of the features or consider increasing regularisation. Duality gap: 3.792e+15, tolerance: 2.423e+12\n",
      "  model = cd_fast.enet_coordinate_descent(\n",
      "/Users/kaichi/opt/anaconda3/lib/python3.9/site-packages/sklearn/linear_model/_coordinate_descent.py:647: ConvergenceWarning: Objective did not converge. You might want to increase the number of iterations, check the scale of the features or consider increasing regularisation. Duality gap: 3.540e+15, tolerance: 2.764e+12\n",
      "  model = cd_fast.enet_coordinate_descent(\n",
      "/Users/kaichi/opt/anaconda3/lib/python3.9/site-packages/sklearn/linear_model/_coordinate_descent.py:647: ConvergenceWarning: Objective did not converge. You might want to increase the number of iterations, check the scale of the features or consider increasing regularisation. Duality gap: 3.230e+15, tolerance: 2.494e+12\n",
      "  model = cd_fast.enet_coordinate_descent(\n",
      "/Users/kaichi/opt/anaconda3/lib/python3.9/site-packages/sklearn/linear_model/_coordinate_descent.py:647: ConvergenceWarning: Objective did not converge. You might want to increase the number of iterations, check the scale of the features or consider increasing regularisation. Duality gap: 4.049e+15, tolerance: 2.938e+12\n",
      "  model = cd_fast.enet_coordinate_descent(\n",
      "/Users/kaichi/opt/anaconda3/lib/python3.9/site-packages/sklearn/linear_model/_coordinate_descent.py:647: ConvergenceWarning: Objective did not converge. You might want to increase the number of iterations, check the scale of the features or consider increasing regularisation. Duality gap: 3.344e+15, tolerance: 2.435e+12\n",
      "  model = cd_fast.enet_coordinate_descent(\n",
      "/Users/kaichi/opt/anaconda3/lib/python3.9/site-packages/sklearn/linear_model/_coordinate_descent.py:647: ConvergenceWarning: Objective did not converge. You might want to increase the number of iterations, check the scale of the features or consider increasing regularisation. Duality gap: 3.790e+15, tolerance: 2.423e+12\n",
      "  model = cd_fast.enet_coordinate_descent(\n",
      "/Users/kaichi/opt/anaconda3/lib/python3.9/site-packages/sklearn/linear_model/_coordinate_descent.py:647: ConvergenceWarning: Objective did not converge. You might want to increase the number of iterations, check the scale of the features or consider increasing regularisation. Duality gap: 3.539e+15, tolerance: 2.764e+12\n",
      "  model = cd_fast.enet_coordinate_descent(\n",
      "/Users/kaichi/opt/anaconda3/lib/python3.9/site-packages/sklearn/linear_model/_coordinate_descent.py:647: ConvergenceWarning: Objective did not converge. You might want to increase the number of iterations, check the scale of the features or consider increasing regularisation. Duality gap: 3.229e+15, tolerance: 2.494e+12\n",
      "  model = cd_fast.enet_coordinate_descent(\n",
      "/Users/kaichi/opt/anaconda3/lib/python3.9/site-packages/sklearn/linear_model/_coordinate_descent.py:647: ConvergenceWarning: Objective did not converge. You might want to increase the number of iterations, check the scale of the features or consider increasing regularisation. Duality gap: 4.044e+15, tolerance: 2.938e+12\n",
      "  model = cd_fast.enet_coordinate_descent(\n",
      "/Users/kaichi/opt/anaconda3/lib/python3.9/site-packages/sklearn/linear_model/_coordinate_descent.py:647: ConvergenceWarning: Objective did not converge. You might want to increase the number of iterations, check the scale of the features or consider increasing regularisation. Duality gap: 3.341e+15, tolerance: 2.435e+12\n",
      "  model = cd_fast.enet_coordinate_descent(\n",
      "/Users/kaichi/opt/anaconda3/lib/python3.9/site-packages/sklearn/linear_model/_coordinate_descent.py:647: ConvergenceWarning: Objective did not converge. You might want to increase the number of iterations, check the scale of the features or consider increasing regularisation. Duality gap: 3.788e+15, tolerance: 2.423e+12\n",
      "  model = cd_fast.enet_coordinate_descent(\n",
      "/Users/kaichi/opt/anaconda3/lib/python3.9/site-packages/sklearn/linear_model/_coordinate_descent.py:647: ConvergenceWarning: Objective did not converge. You might want to increase the number of iterations, check the scale of the features or consider increasing regularisation. Duality gap: 3.538e+15, tolerance: 2.764e+12\n",
      "  model = cd_fast.enet_coordinate_descent(\n",
      "/Users/kaichi/opt/anaconda3/lib/python3.9/site-packages/sklearn/linear_model/_coordinate_descent.py:647: ConvergenceWarning: Objective did not converge. You might want to increase the number of iterations, check the scale of the features or consider increasing regularisation. Duality gap: 3.228e+15, tolerance: 2.494e+12\n",
      "  model = cd_fast.enet_coordinate_descent(\n",
      "/Users/kaichi/opt/anaconda3/lib/python3.9/site-packages/sklearn/linear_model/_coordinate_descent.py:647: ConvergenceWarning: Objective did not converge. You might want to increase the number of iterations, check the scale of the features or consider increasing regularisation. Duality gap: 4.038e+15, tolerance: 2.938e+12\n",
      "  model = cd_fast.enet_coordinate_descent(\n",
      "/Users/kaichi/opt/anaconda3/lib/python3.9/site-packages/sklearn/linear_model/_coordinate_descent.py:647: ConvergenceWarning: Objective did not converge. You might want to increase the number of iterations, check the scale of the features or consider increasing regularisation. Duality gap: 3.338e+15, tolerance: 2.435e+12\n",
      "  model = cd_fast.enet_coordinate_descent(\n",
      "/Users/kaichi/opt/anaconda3/lib/python3.9/site-packages/sklearn/linear_model/_coordinate_descent.py:647: ConvergenceWarning: Objective did not converge. You might want to increase the number of iterations, check the scale of the features or consider increasing regularisation. Duality gap: 3.786e+15, tolerance: 2.423e+12\n",
      "  model = cd_fast.enet_coordinate_descent(\n"
     ]
    },
    {
     "data": {
      "text/plain": [
       "[<matplotlib.lines.Line2D at 0x7fc4cbe9b8e0>]"
      ]
     },
     "execution_count": 197,
     "metadata": {},
     "output_type": "execute_result"
    },
    {
     "data": {
      "image/png": "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\n",
      "text/plain": [
       "<Figure size 432x288 with 1 Axes>"
      ]
     },
     "metadata": {
      "needs_background": "light"
     },
     "output_type": "display_data"
    }
   ],
   "source": [
    "# Lasso Regression\n",
    "# Need to choose the best alpha value\n",
    "alpha_lasso = []\n",
    "error_lasso = []\n",
    "\n",
    "for i in range(1, 10):\n",
    "    alpha_lasso.append(i/10)\n",
    "    lml = Lasso(alpha = (i/10))\n",
    "    error_lasso.append(np.mean(cross_val_score(lml, x_train, y_train, cv=5)))\n",
    "\n",
    "plt.plot(alpha_lasso, error_lasso)"
   ]
  },
  {
   "cell_type": "markdown",
<<<<<<< HEAD
   "id": "921114a4",
=======
   "id": "e95bba5c",
>>>>>>> f45420ce18acee65333add82fcb45e00a397e51b
   "metadata": {},
   "source": [
    "Seems like Lasso is not suitable for this case. Let's try Ridge regression"
   ]
  },
  {
   "cell_type": "code",
   "execution_count": 198,
<<<<<<< HEAD
   "id": "e58b39b6",
=======
   "id": "3595506d",
>>>>>>> f45420ce18acee65333add82fcb45e00a397e51b
   "metadata": {
    "scrolled": true
   },
   "outputs": [
    {
     "data": {
      "text/plain": [
       "[<matplotlib.lines.Line2D at 0x7fc4cbd83e20>]"
      ]
     },
     "execution_count": 198,
     "metadata": {},
     "output_type": "execute_result"
    },
    {
     "data": {
      "image/png": "iVBORw0KGgoAAAANSUhEUgAAAYEAAAD4CAYAAAAKA1qZAAAAOXRFWHRTb2Z0d2FyZQBNYXRwbG90bGliIHZlcnNpb24zLjUuMSwgaHR0cHM6Ly9tYXRwbG90bGliLm9yZy/YYfK9AAAACXBIWXMAAAsTAAALEwEAmpwYAAApnElEQVR4nO3dd5hV5bn38e89jaHXoQ4dREGKMAxVwEIUjKIoCKKiUQGVqPHknIPHvHkTTxJ5jSY2ioggxoJiLCSCWIKC9AFFugx9qEPvZeB+/5il2SEjbGBgz97797mufc1azyr7fkD5zaqPuTsiIhKfEiJdgIiIRI5CQEQkjikERETimEJARCSOKQREROJYUqQLOBOVKlXyOnXqRLoMEZGoMn/+/O3unlbQsqgKgTp16pCVlRXpMkREooqZrfuxZTodJCISxxQCIiJxTCEgIhLHFAIiInFMISAiEscUAiIicUwhICISx6LqOYHC5O6syt3PgvW72bb3MGZGmeLJ1E8rSeNqZShXIiXSJYqInHdxGQJfrdzO0I+XsXjj3gKXm0Gz9HJc0SiNnpelU6tiiQtcoYjIhRF3ITDyy1UMnbyc2hVL8ESPJnRsUInq5YoDsOvgUbK37WfBut1MW5nLc5+v5NnPVtK2XgXu7lCXrpdUISHBItwDEZHCY9E0slhGRoafy2sjPvxmIw+P/4afNqvG072ak5qceMr1N+0+xHsLchg/bwM5uw7RsHIp7u9Snx4tapCoMBCRKGFm8909o8Bl8RICOw8c5cpnvqB+WinGD2hLcmL418Tzjp/go0WbGfHFKpZv2ccl1crwePdL6Niw0lnVIiJyIZ0qBOLm7qDXZq1l98Fj/OGmpmcUAABJiQn0aFGDyQ9fzgt9L2Pf4WPc/socfvbqPDbsPHieKhYROf/iIgSOn3DemLOeKxql0ahq6bPej5lxffPqfPZoZx7rdjFzVu/gJ3+exsvTVpN3/EQhViwicmHERQh8vX4XufuO0LNleqHsLzU5kYGd6/Ppo53p0KAiv5+0jBuHz2DZ5oLvNhIRKariIgQ+XbaVpASjc6MCx1Q4a9XLFeflOzMY3q8lW/YcoceLMxg9fTUnTkTPdRYRiW9xcYto27oVKZWSRJnU5ELft5nRvWk12tStwJD3FvG7j5bxxYpcnu7VnKplUwv9+0REClPc3B10Ibg74+dt4Im/LaVYcgLP9GrOVZdUiXRZIhLndHfQBWJm9M2sxUcPdaRGueLcMy6LP05ZznGdHhKRIkohcB7USyvFX+9vT5/WNRk2dRV3vDKH7fuPRLosEZF/E1YImNm1ZrbCzLLNbEgBy7uY2R4z+yb4/Dpk2S/MbImZLTazt8wsNWivYGafmtnK4Gf5wutW5KUmJzL05mY8dUsz5q/bxXXPT2f+up2RLktE5F+cNgTMLBEYBnQDGgN9zaxxAatOd/cWweeJYNsawENAhrtfCiQCfYL1hwCfu3tD4PNgPub0zqjJ+w90IDU5kb6j5jAha0OkSxIR+UE4RwKZQLa7r3b3o8B4oMcZfEcSUNzMkoASwKagvQcwLpgeB9x4BvuMKo2rl+HDBzvQum55/vPdb/n9R0t1nUBEioRwQqAGEPrra07QdrJ2ZrbQzCabWRMAd98IPA2sBzYDe9z9k2D9Ku6+OVhvM1C5oC83swFmlmVmWbm5uWF1qigqVyKFV+/OpH+72rw8fQ33jpvH3sPHIl2WiMS5cEKgoNdlnvxr7AKgtrs3B14APgAIzvP3AOoC1YGSZnb7mRTo7qPcPcPdM9LSCvdhrwstOTGB3/a4lN/fdCnTV26n5/CZrNtxINJliUgcCycEcoCaIfPp/POUDgDuvtfd9wfTk4BkM6sEXA2scfdcdz8GvAe0DzbbambVAIKf286pJ1GkX5va/OWeNmzff4Sbhs9k/rpdkS5JROJUOCEwD2hoZnXNLIX8C7sTQ1cws6pmZsF0ZrDfHeSfBmprZiWC5VcBy4LNJgL9g+n+wIfn2plo0q5+Rd5/oAOlU5O47eXZfLx4S6RLEpE4dNoQcPc8YDAwhfx/wN9x9yVmNsjMBgWr3QIsNrOFwPNAH883B3iX/NNFi4LvGxVsMxToamYrga7BfFypW6kk793fnkuqleH+N+YzdsaaSJckInFGr40oAg4dPc4jb3/NlCVbuadjXR7vfomGsRSRQqPXRhRxxVMSGd6vFXe1r8MrX63hwTcXcPjY8UiXJSJxQCFQRCQmGL+5oQm/uu4SPl6yhdtHz2HPQd1CKiLnl0KgiLn38nq82Lcl3+bsofdLs9i693CkSxKRGKYQKIKua1aNMXe1ZsOug9w8YiZrtutZAhE5PxQCRVTHhpV46762HDx6nF4jZ7J4455IlyQiMUghUIQ1r1mOdwa2IyUxgT6jZjNr1Y5IlyQiMUYhUMQ1qFyKvz7QnqplU+k/Zq4eKhORQqUQiALVyhZnwsB2NK5ehgfemM/4uesjXZKIxAiFQJQoXzKFN+9rQ8eGaQx5bxEjv1wV6ZJEJAYoBKJIiZQkRt+ZwU+bVWPo5OU8PWUF0fTEt4gUPUmRLkDOTEpSAs/1uYxSxZJ4cWo2+4/k8eufNtZrJkTkrCgEolBigvFkz6aULJbEK1+tYf+RPIb2bEpSog7sROTMKASilJnxq+suoVSxJJ77fCUHj+bx7K2XkZKkIBCR8CkEopiZ8YuuF1GqWBK/n7SMg0ezGNGvFcVTEiNdmohECf3aGAPu61SPP9zUlC+/y6X/2Lns09jFIhImhUCMuK1NLZ69tQUL1u3i9tFz2HXgaKRLEpEooBCIIT1a1GDk7a1YtmUffUbNZpveQCoip6EQiDFXN67Cq8EbSHu/NIucXQcjXZKIFGEKgRjUvkElXr+3DTsPHKXXyFmsyt0f6ZJEpIhSCMSolrXK89aAthzNO0HvkbNYumlvpEsSkSJIIRDDmlQvyzuD2pGSlECfUbNYsH5XpEsSkSImrBAws2vNbIWZZZvZkAKWdzGzPWb2TfD5ddDeKKTtGzPba2aPBMt+Y2YbQ5Z1L9SeCQD100oxYVA7ypdM4fbRc5iZvT3SJYlIEXLaEDCzRGAY0A1oDPQ1s8YFrDrd3VsEnycA3H3F921AK+Ag8H7INn8O2WbSuXZGCpZevgQTBrajZvkS3PXqPD5bujXSJYlIERHOkUAmkO3uq939KDAe6HEW33UVsMrd153FtnKOKpdJZfyAtlxctTSDXp/PxIWbIl2SiBQB4YRADWBDyHxO0Haydma20Mwmm1mTApb3Ad46qW2wmX1rZmPMrHxBX25mA8wsy8yycnNzwyhXfkz5kim8cW8bWtYuz8Pjv9bgNCISVggU9I7ik19ivwCo7e7NgReAD/5lB2YpwA3AhJDmEUB9oAWwGXimoC9391HunuHuGWlpaWGUK6dSOjWZcXdn0ikYnGb09NWRLklEIiicEMgBaobMpwP/ci7B3fe6+/5gehKQbGaVQlbpBixw960h22x19+PufgJ4mfzTTnIBFE9J5OU7M+jetCq/+2gZz372nQanEYlT4YTAPKChmdUNfqPvA0wMXcHMqpqZBdOZwX53hKzSl5NOBZlZtZDZm4DFZ16+nK2UpASe73MZt7RK59nPVvL7j5YpCETi0GlfJe3ueWY2GJgCJAJj3H2JmQ0Klo8EbgHuN7M84BDQx4N/UcysBNAVGHjSrp8ysxbkn1paW8ByOc+SEhN46uZmlCqWxOhgcJrf39SURI1SJhI3LJp++8vIyPCsrKxIlxFz3J1nPvmOF6dmc33z6vypd3OSNUqZSMwws/nunlHQMg0qI5gZv7ymEaVSkxg6eTmHjubx4m0tSU3W4DQisU6/7skPBnWuz//eeCmfL9/Gz16dx4EjeZEuSUTOM4WA/Is72tbmT72bM2fNTm5/ZQ57DmqUMpFYphCQf3PTZekMu60lSzbu5dZRs8jddyTSJYnIeaIQkAJde2lVRvfPYO2OA9z60iw27T4U6ZJE5DxQCMiP6nRRGn+5pw25+47Qa+Qs1m4/EOmSRKSQKQTklFrXqcBbA9py6Nhxer00ixVb9kW6JBEpRAoBOa1La5Tl7QFtSTC4ddQsFm7YHemSRKSQKAQkLA2rlGbCwPaUTk3itpdnM3v1jtNvJCJFnkJAwlarYgkmDGxPtXLF6T9mLlOXb4t0SSJyjhQCckaqlk3l7QFtaVilFPe9lsWH32yMdEkicg4UAnLGKpYqxpv3taVV7fI8PP4bxs5YE+mSROQsKQTkrJRJTWbczzL5SeMq/PZvS3nmkxV6FbVIFFIIyFlLTU5keL+W3JpRkxf+kc3jHyzm+AkFgUg00VtE5ZwkJSYw9OamVCyVwvAvVrHrwFGe7dOCYkl6A6lINNCRgJwzM+O/rr2YX113CZMXb+HusfPYrzeQikQFhYAUmnsvr/fDG0j7jprN9v168ZxIUacQkELVs2U6L9/ZipXb9tFr5Cw27DwY6ZJE5BQUAlLorry4Cq/f04Yd+49wy8iZet+QSBGmEJDzIqNOBSYMag9Ar5Ezmb9uZ4QrEpGCKATkvGlUtTTvDmpPxVLF6Dd6Dp8u3RrpkkTkJGGFgJlda2YrzCzbzIYUsLyLme0xs2+Cz6+D9kYhbd+Y2V4zeyRYVsHMPjWzlcHP8oXaMykSalYowYRB7WhUpTQD/5LF67PXRbokEQlx2hAws0RgGNANaAz0NbPGBaw63d1bBJ8nANx9xfdtQCvgIPB+sP4Q4HN3bwh8HsxLDKpUqhhvDWhLl0aV+dUHi/njlOV6ulikiAjnSCATyHb31e5+FBgP9DiL77oKWOXu3/8q2AMYF0yPA248i31KlCiRksSoO1rRN7Mmw6au4j8mLOTY8RORLksk7oUTAjWADSHzOUHbydqZ2UIzm2xmTQpY3gd4K2S+irtvBgh+Vi7oy81sgJllmVlWbm5uGOVKUZWUmMAfbmrKo10v4r0FG/nZq3qoTCTSwgkBK6Dt5GP5BUBtd28OvAB88C87MEsBbgAmnGmB7j7K3TPcPSMtLe1MN5cixsx46KqGPHVLM2au2kHvkbPYtvdwpMsSiVvhhEAOUDNkPh3YFLqCu+919/3B9CQg2cwqhazSDVjg7qG3h2w1s2oAwU+NUBJHemfU5JX+GazdcYCbhs8ke5ueJRCJhHBCYB7Q0MzqBr/R9wEmhq5gZlXNzILpzGC/oeMP9uVfTwUR7KN/MN0f+PDMy5do1qVRZd4e0I4jeSe4ecQs5q3VswQiF9ppQ8Dd84DBwBRgGfCOuy8xs0FmNihY7RZgsZktBJ4H+nhw+4eZlQC6Au+dtOuhQFczWxksH1oYHZLo0jS9LO8/0J6KJVPoN3oOkxdtjnRJInHFoulWvYyMDM/Kyop0GXIe7DxwlHvHzePrDbt5vPsl3NOxLsHBpYicIzOb7+4ZBS3TE8NSJFQomcIb97bl2iZV+d1Hy/g/Hy4mT7eQipx3CgEpMoqnJDLstpYM7FyP12ev555xWew7fCzSZYnENIWAFCkJCcZj3S7hyZ5N+Sp7O71GzmLj7kORLkskZikEpEjqm1mLcXdnsnHXIW4cNoNvc3ZHuiSRmKQQkCKrY8NK/PWB9qQkJtD7pVlMWbIl0iWJxByFgBRpF1UpzQcPduDiqmUY9Pp8Xp62Wi+fEylECgEp8tJKF2P8gLZ0v7Qav5+0jMc/0J1DIoUlKdIFiIQjNTmRF/peRu2KJRj+xSo27DzIi7e1pGzx5EiXJhLVdCQgUSMhwfivay/mqZubMXv1Dm4aPoPVufsjXZZIVFMISNTp3bomb9zblt0Hj3HjsBlMX6lXjIucLYWARKXMuhX48MEOVC9XnLvGzmPsjDW6YCxyFhQCErVqVijBX+9vz5UXV+a3f1vKY+8t4mieLhiLnAmFgES1ksWSeOn2Vgy+ogHj523g9tFz2LH/SKTLEokaCgGJegkJxi+vacRzfVqwMGc3N7w4g2Wb90a6LJGooBCQmNGjRQ3eGdiOvBMnuHnETD1hLBIGhYDElOY1yzFxcEcaVinNwL/M57nPVnLihC4Yi/wYhYDEnCplUnl7QFt6XlaDP3/2HQP+Mp+9eiW1SIEUAhKTUpMTeaZ3c35zfWO+WLGNG1+cwcqtGsxe5GQKAYlZZsZdHeryxr1t2Hs4/8GyjxdrDGORUAoBiXlt6lXk7z+/nIZVSjPo9QU89fFyjus6gQigEJA4UbVsKm8PbEvfzJoM/2IVd786j90Hj0a6LJGICysEzOxaM1thZtlmNqSA5V3MbI+ZfRN8fh2yrJyZvWtmy81smZm1C9p/Y2YbQ7bpXnjdEvl3xZISebJnM57s2ZTZq3Zw/YtfsXSTnieQ+HbaEDCzRGAY0A1oDPQ1s8YFrDrd3VsEnydC2p8DPnb3i4HmwLKQZX8O2WbS2XdDJHx9M2sxfmBbjuadoOeIGXzw9cZIlyQSMeEcCWQC2e6+2t2PAuOBHuHs3MzKAJ2AVwDc/ai77z7LWkUKTcta5fnbzzvSrEY5Hnn7G371wSKO5B2PdFkiF1w4IVAD2BAynxO0naydmS00s8lm1iRoqwfkAmPN7GszG21mJUO2GWxm35rZGDMrX9CXm9kAM8sys6zcXL0yWApP5dKpvHFfGwZ2qsfrs9fTa+QsNuw8GOmyRC6ocELACmg7+daKBUBtd28OvAB8ELQnAS2BEe5+GXAA+P6awgigPtAC2Aw8U9CXu/sod89w94y0tLQwyhUJX3JiAo91v4RRd7RizfYDXPf8dD5bujXSZYlcMOGEQA5QM2Q+HdgUuoK773X3/cH0JCDZzCoF2+a4+5xg1XfJDwXcfau7H3f3E8DL5J92EomInzSpykc/v5yaFUpw72tZDJ28XOMYS1wIJwTmAQ3NrK6ZpQB9gImhK5hZVTOzYDoz2O8Od98CbDCzRsGqVwFLg/WqheziJmDxOfVE5BzVqpg/PsFtbWox8stV3DZ6Dtv2Ho50WSLn1WkHmnf3PDMbDEwBEoEx7r7EzAYFy0cCtwD3m1kecAjo4/8c5unnwBtBgKwG7g7anzKzFuSfWloLDCy0XomcpdTkRP5wU1Na1ynP/7y3mO7Pf8XzfVvQvn6lSJcmcl5YNA3Jl5GR4VlZWZEuQ+LEd1v3cf/r81mz/QD/8ZNG3N+5PgkJBV0iEynazGy+u2cUtExPDIv8iIuqlGbi4I78tFl1/jhlBf3HzmXbPp0ektiiEBA5hZLFkniuTwuG9mzKvLU76f7cdKZ9p1uVJXYoBEROw8zok1mLiYM7UqFkCneOmcvQycs5pruHJAYoBETCdFGV0nz4YMcf7h7Sw2USCxQCImegeEr+3UPDbmvJqtz9dH9uOh99qzEKJHopBETOwnXNqjHpocupX7kUD765gMfeW8Sho3r3kEQfhYDIWapZoQQTBrVjUOf6vDV3PT2GfcXyLXo1tUQXhYDIOUhOTGBIt4t57WeZ7DxwjBtemMHo6as5oZHLJEooBEQKQaeL0vj4kcvpdFEav/toGXeOmcuWPXqmQIo+hYBIIalUqhgv39mKJ3s2Zf66XVzz7DQmLdJFYynaFAIihcjM6JtZi48e6kidiiV44I0F/HLCQvYdPhbp0kQKpBAQOQ/qpZXi3fvb89CVDXhvQQ7dn5/O/HU7I12WyL9RCIicJ8mJCTz6k0a8M7AdAL1GzuJPn6zQk8ZSpCgERM6zjDoVmPTQ5fRsmc7z/8jm5hEzWbl1X6TLEgEUAiIXROnUZJ7u1ZwR/VqSs+sQ173wFS99uYrjupVUIkwhIHIBdWtajSmPdOKKRmk8OXk5vV+axZrtByJdlsQxhYDIBZZWuhgjb2/Fs7e2YOXWfXR7bhpjZ6zRA2YSEQoBkQgwM268rAafPtqZdvUq8tu/LeW20bP1VlK54BQCIhFUpUwqY+5qzVM3N2Pxxr1c++w03pizjmga9lWim0JAJMLMjN6tazLlF524rFZ5Hn9/MXeOmUvOLh0VyPmnEBApImqUK85f7snkf2+8NP+1E3+exmuz1upagZxXYYWAmV1rZivMLNvMhhSwvIuZ7TGzb4LPr0OWlTOzd81suZktM7N2QXsFM/vUzFYGP8sXXrdEopOZcUfb2nzyi060qlOBX3+4hN4vzSJ72/5IlyYx6rQhYGaJwDCgG9AY6GtmjQtYdbq7twg+T4S0Pwd87O4XA82BZUH7EOBzd28IfB7MiwiQXr4E4+5uzTO9mpMdjGA2bGq2njaWQhfOkUAmkO3uq939KDAe6BHOzs2sDNAJeAXA3Y+6++5gcQ9gXDA9Drgx/LJFYp+ZcXOrdD79RWe6NqnCH6es4IYXZ7AoZ0+kS5MYEk4I1AA2hMznBG0na2dmC81sspk1CdrqAbnAWDP72sxGm1nJYFkVd98MEPysXNCXm9kAM8sys6zc3Nxw+iQSU9JKF2PYbS156Y5W7Nh/hBuHz+DJycs4fEzDWcq5CycErIC2k69ULQBqu3tz4AXgg6A9CWgJjHD3y4ADnOFpH3cf5e4Z7p6RlpZ2JpuKxJRrmlTl00c706tVOi99uZpuz01n9uodkS5Lolw4IZAD1AyZTwc2ha7g7nvdfX8wPQlINrNKwbY57j4nWPVd8kMBYKuZVQMIfm47616IxImyxZMZenMz3ry3DcdPOH1GzeaXExay88DRSJcmUSqcEJgHNDSzumaWAvQBJoauYGZVzcyC6cxgvzvcfQuwwcwaBateBSwNpicC/YPp/sCH59QTkTjSvkElpjzSiQe61OeDrzdy1TNf8E7WBj1kJmfMwvmPxsy6A88CicAYd/+9mQ0CcPeRZjYYuB/IAw4Bj7r7zGDbFsBoIAVYDdzt7rvMrCLwDlALWA/0cvdTjrqRkZHhWVlZZ9NPkZj13dZ9PP7+Iuat3UVm3Qr84aZLaVC5dKTLkiLEzOa7e0aBy6LpNweFgEjBTpxwJszfwB8mLefg0TwGdqrP4CsbkJqcGOnSpAg4VQjoiWGRGJCQYNzauhb/+I/OXN+8Oi9OzeaaZ6cx7TvdUSenphAQiSEVSxXjT71b8OZ9bUg0484xcxn85gK27T0c6dKkiFIIiMSg9vUrMfmRy/nF1RfxydKtXPnMl4yevlpPHMu/UQiIxKhiSYk8fHVDPnmkE63rlOd3Hy2j23PTmZG9PdKlSRGiEBCJcXUqlWTs3ZmMvjODI3nH6Td6Dg++sYBNuw9FujQpAhQCInHi6sZV+PQXnXm060V8tmwrVz3zJcOmZnMkT6+fiGcKAZE4kpqcyENXNeSzRzvT+aI0/jhlBdf8eRpTV+iB/XilEBCJQzUrlGDkHa147WeZJCQYd4+dx73jsli340CkS5MLTCEgEsc6XZTGxw93Yki3i5m5ajtd/zSNJycvY9/hY5EuTS4QhYBInEtJSmBQ5/pM/WUXbmhRnZe+XE2XP37Bm3PWc1xDW8Y8hYCIAFClTCpP92rO3wZ3pH5aKf7n/UVc97xuKY11CgER+RdN08vy9sC2DO/Xkv1H8ug3eg73jstizXZdL4hFCgER+TdmRvem1fjs0c7897UXM3v1Dn7y5y/53d+XsueQrhfEEoWAiPyo1ORE7u+Sf73gllbpvDJjDV3+OJVxM9dyNE+voIgFCgEROa200sV4smcz/v7zjlxctQz/d+ISuv75Sz76drMGsolyCgERCVuT6mV58742jL2rNalJiTz45gJuHD5TYx1HMYWAiJwRM+OKiysz6eHL+eMtzdi29zB9Rs3mnlfn8d3WfZEuT86QRhYTkXNy+Nhxxs5Yy/AvsjlwJI9bWqXzaNdGVC2bGunSJKDhJUXkvNt14CgvTs3mL7PWkZAAP+tQl0Fd6lMmNTnSpcU9hYCIXDAbdh7k6U9W8OE3myhfIplBnetzZ7s6FE/ReMeRohAQkQtu8cY9PDVlBdO+y6Vy6WL8/MoG3Nq6FilJuhR5oZ3zQPNmdq2ZrTCzbDMbUsDyLma2x8y+CT6/Dlm21swWBe1ZIe2/MbONIdt0P5vOiUjRdGmNsrz2s0zeHtCW2hVL8H8+XMKVz3zBhKwN5GmYyyLjtEcCZpYIfAd0BXKAeUBfd18ask4X4Jfu/tMCtl8LZLj79pPafwPsd/enwy1WRwIi0cnd+fK7XJ7+ZAWLN+6lflpJHu3aiG6XViUhwSJdXsw71yOBTCDb3Ve7+1FgPNCjMAsUkdhmZnRpVJm/De7IiH4tMTMefHMB17/4FVOXb9MDZxEUTgjUADaEzOcEbSdrZ2YLzWyymTUJaXfgEzObb2YDTtpmsJl9a2ZjzKx8QV9uZgPMLMvMsnJzc8MoV0SKKjOjW9NqTHmkE3/q3Zy9h49x96vzuGXkLGau2q4wiIBwQqCgY7WT/6YWALXdvTnwAvBByLIO7t4S6AY8aGadgvYRQH2gBbAZeKagL3f3Ue6e4e4ZaWlpYZQrIkVdYoLRs2U6nz/ahd/deCk5uw5y28tzuPWl2czMVhhcSOGEQA5QM2Q+HdgUuoK773X3/cH0JCDZzCoF85uCn9uA98k/vYS7b3X34+5+Anj5+3YRiR8pSQnc3rY2X/7nFfzm+sas23mA20bPofdLs5ihMLggwgmBeUBDM6trZilAH2Bi6ApmVtXMLJjODPa7w8xKmlnpoL0k8BNgcTBfLWQXN33fLiLxJzU5kbs61OXL/7yC397QhA07D9Fv9Bx6jZzF9JW5CoPzKOl0K7h7npkNBqYAicAYd19iZoOC5SOBW4D7zSwPOAT0cXc3syrA+0E+JAFvuvvHwa6fMrMW5J9aWgsMLNSeiUjUSU1OpH/7OtzauiYTsjYw/ItV3PHKXFrVLs/DVzXk8oaVCP49kUKih8VEpMg6knecd7JyGDE1m017DtOyVjkevvoiOikMzoieGBaRqHYk7zjvzs9h2D/yw6B5elkeuKIBXS+poucMwqAQEJGYcDTvBO/Oz2Hkl6tYv/MgDSuX4oEr6nN9s+okJep1FD9GISAiMSXv+Ak+WrSZ4VNXsWLrPtLLF2dg5/r0apVOarJeVHcyhYCIxKQTJ5x/LN/GsC+y+Xr9biqVKsa9l9elX5talNYrrH+gEBCRmObuzF69k+FfZDN95XbKpCbRv30d7u5QlwolUyJdXsQpBEQkbnybs5vhU1cxZekWUpMSubV1Te7pWJeaFUpEurSIUQiISNzJ3raPEV+s5sNvNnLCne5NqzGgUz2apZeLdGkXnEJAROLW5j2HeHXmWt6cvZ59R/JoU7cCAzvXo8tFlePm9lKFgIjEvX2Hj/H2vA2M+WoNm/YcpkHlUtx3eV16tKgR83cUKQRERALHjp9g0qLNjJq2miWb9lKpVDHual+bfm1qUz5GLyIrBERETuLuzFq1g1HTV/PFilyKJyfSOyOduzrUpW6lkpEur1CdKgRO+wI5EZFYZGa0b1CJ9g0qsWLLPkZPX82bc9fz2ux1XNGoMnd3qEPHBrH/jiIdCYiIBLbtO8wbs9fzxpx1bN9/lIaVS3FXhzrcdFkNSqRE7+/MOh0kInIGjuQd5+8LNzN25hoWb9xL2eLJ9Gldkzva1Sa9fPQ9b6AQEBE5C+5O1rpdjJ2xho8XbwHgmiZVubtDXVrXKR81p4p0TUBE5CyYGa3rVKB1nQps3H2I12atZfzcDUxevIUm1ctwV/s6XN+8elTfYqojARGRM3DwaB7vf72RV2esZeW2/ZQrkUzvjJr0a1OL2hWL5l1FOh0kIlLI3J2Zq3bw+ux1fLJ0K8dPOJ0vSuOOtrW54uLKJBahp5EVAiIi59GWPYcZP289b81dz9a9R6hRrji3talF74yapJUuFunyFAIiIhfCseMn+GzpVl6fs44Z2TtITjS6XVqNO9rVJqN25C4k68KwiMgFkJyYQLem1ejWtBrZ2/bzxpx1vDs/h4kLN3Fx1dL0a1ubG1tUL1ID3oR1JGBm1wLPAYnAaHcfetLyLsCHwJqg6T13fyJYthbYBxwH8r5PIzOrALwN1AHWAr3dfdep6tCRgIhEm4NH8/jbwk28NmsdSzbtpXhyIj9tVo0+mbVoWavcBTk6OKfTQWaWCHwHdAVygHlAX3dfGrJOF+CX7v7TArZfC2S4+/aT2p8Cdrr7UDMbApR39/8+VS0KARGJVu7Owpw9jJ+7nokLN3Hw6HEuqlKKPq1r0bNlDcqVOH8vrztVCCSEsX0mkO3uq939KDAe6FEIdfUAxgXT44AbC2GfIiJFkpnRomY5ht7cjLmPX82TPZtSPDmRJ/6+lMw/fM5Db33NzFXbudDXacO5JlAD2BAynwO0KWC9dma2ENhE/lHBkqDdgU/MzIGX3H1U0F7F3TcDuPtmM6tc0Jeb2QBgAECtWrXCKFdEpGgrVSyJvpm16JtZi6Wb9vL2vPW8//VGJi7cRJ2KJbi1dS1uaZV+Qe4sCud0UC/gGne/N5i/A8h095+HrFMGOOHu+82sO/CcuzcMllV3903BP/KfAj9392lmttvdy4XsY5e7lz9VLTodJCKx6vCx40xatJnxczcwd+1OkhKMqy+pwq2ZNenUMO2cnjs417uDcoCaIfPp5P+2/wN33xsyPcnMhptZJXff7u6bgvZtZvY++aeXpgFbzaxacBRQDdh2Zt0SEYkdqcmJ9GyZTs+W6WRv2887WRt4d34OHy/ZQtUyqfypd3PaN6hU6N8bzjWBeUBDM6trZilAH2Bi6ApmVtWCS9xmlhnsd4eZlTSz0kF7SeAnwOJgs4lA/2C6P/l3F4mIxL0GlUvxP90vYfZjVzGiX0suqVaaWhXPz9tLT3sk4O55ZjYYmEL+LaJj3H2JmQ0Klo8EbgHuN7M84BDQx93dzKoA7wf5kAS86e4fB7seCrxjZvcA64Fehdw3EZGolpL0z+cOzhc9MSwiEuPO9RZRERGJUQoBEZE4phAQEYljCgERkTimEBARiWMKARGROKYQEBGJY1H1nICZ5QLrzmCTSsD2064Ve+Kx3/HYZ4jPfsdjn+Hc+l3b3dMKWhBVIXCmzCzrxx6QiGXx2O947DPEZ7/jsc9w/vqt00EiInFMISAiEsdiPQRGnX6VmBSP/Y7HPkN89jse+wznqd8xfU1AREROLdaPBERE5BQUAiIicSxmQ8DMrjWzFWaWbWZDIl3PuTCzmmY21cyWmdkSM3s4aK9gZp+a2crgZ/mQbR4L+r7CzK4JaW9lZouCZc9/PyJcUWVmiWb2tZn9PZiPhz6XM7N3zWx58HfeLtb7bWa/CP7bXmxmb5lZaiz22czGmNk2M1sc0lZo/TSzYmb2dtA+x8zqnLYod4+5D/kjoK0C6gEpwEKgcaTrOof+VANaBtOlge+AxsBTwJCgfQjw/4LpxkGfiwF1gz+LxGDZXKAdYMBkoFuk+3eavj8KvAn8PZiPhz6PA+4NplOAcrHcb6AGsAYoHsy/A9wVi30GOgEtgcUhbYXWT+ABYGQw3Qd4+7Q1RfoP5Tz9QbcDpoTMPwY8Fum6CrF/HwJdgRVAtaCtGrCioP6SPzRou2Cd5SHtfYGXIt2fU/QzHfgcuJJ/hkCs97lM8A+indQes/0OQmADUIH8YWj/Tv545DHZZ6DOSSFQaP38fp1gOon8J4ztVPXE6umg7/+j+l5O0Bb1gsO7y4A5QBV33wwQ/KwcrPZj/a8RTJ/cXlQ9C/wXcCKkLdb7XA/IBcYGp8FGm1lJYrjf7r4ReJr8scY3A3vc/RNiuM8nKcx+/rCNu+cBe4CKp/ryWA2Bgs4DRv29sGZWCvgr8Ii77z3VqgW0+Snaixwz+ymwzd3nh7tJAW1R1edAEvmnC0a4+2XAAfJPEfyYqO93cA68B/mnPKoDJc3s9lNtUkBbVPU5TGfTzzP+M4jVEMgBaobMpwObIlRLoTCzZPID4A13fy9o3mpm1YLl1YBtQfuP9T8nmD65vSjqANxgZmuB8cCVZvY6sd1nyK83x93nBPPvkh8Ksdzvq4E17p7r7seA94D2xHafQxVmP3/YxsySgLLAzlN9eayGwDygoZnVNbMU8i+QTIxwTWctuPL/CrDM3f8Usmgi0D+Y7k/+tYLv2/sEdwrUBRoCc4NDzX1m1jbY550h2xQp7v6Yu6e7ex3y//7+4e63E8N9BnD3LcAGM2sUNF0FLCW2+70eaGtmJYJarwKWEdt9DlWY/Qzd1y3k/39z6qOhSF8kOY8XX7qTfxfNKuDxSNdzjn3pSP4h3bfAN8GnO/nn+j4HVgY/K4Rs83jQ9xWE3CEBZACLg2UvcpqLRkXhA3ThnxeGY77PQAsgK/j7/gAoH+v9Bn4LLA/q/Qv5d8TEXJ+Bt8i/7nGM/N/a7ynMfgKpwAQgm/w7iOqdria9NkJEJI7F6ukgEREJg0JARCSOKQREROKYQkBEJI4pBERE4phCQEQkjikERETi2P8HKZa0GNbynugAAAAASUVORK5CYII=\n",
      "text/plain": [
       "<Figure size 432x288 with 1 Axes>"
      ]
     },
     "metadata": {
      "needs_background": "light"
     },
     "output_type": "display_data"
    }
   ],
   "source": [
    "# Ridge Regression\n",
    "# Need to choose the best alpha value\n",
    "alpha_ridge = []\n",
    "error_ridge = []\n",
    "\n",
    "for i in range(100, 10000):\n",
    "    alpha_ridge.append(i)\n",
    "    lmr = Ridge(alpha = i)\n",
    "    error_ridge.append(np.mean(cross_val_score(lmr, x_train, y_train, cv=5)))\n",
    "\n",
    "plt.plot(alpha_ridge, error_ridge)"
   ]
  },
  {
   "cell_type": "markdown",
<<<<<<< HEAD
   "id": "4acadbc9",
=======
   "id": "9c9c6158",
>>>>>>> f45420ce18acee65333add82fcb45e00a397e51b
   "metadata": {},
   "source": [
    "Seems like Ridge regression is also not a perfect model for this case as the mean of the cross validation value keeps decreasing as the alpha value gets larger. So, I will not use Ridge or Lasso for this time. <br> Let's try **Random Forest Regressor** Next."
   ]
  },
  {
   "cell_type": "markdown",
<<<<<<< HEAD
   "id": "b100b724",
=======
   "id": "538819aa",
>>>>>>> f45420ce18acee65333add82fcb45e00a397e51b
   "metadata": {},
   "source": [
    "## Random Forest Regressor"
   ]
  },
  {
   "cell_type": "code",
   "execution_count": 208,
<<<<<<< HEAD
   "id": "9ac4f4ee",
=======
   "id": "a10d8fae",
>>>>>>> f45420ce18acee65333add82fcb45e00a397e51b
   "metadata": {},
   "outputs": [
    {
     "data": {
      "text/plain": [
       "RandomForestRegressor()"
      ]
     },
     "execution_count": 208,
     "metadata": {},
     "output_type": "execute_result"
    }
   ],
   "source": [
    "# iport liblaries for Random Forest\n",
    "from sklearn.ensemble import RandomForestRegressor\n",
    "rf = RandomForestRegressor()\n",
    "rf.fit(x_train, y_train)"
   ]
  },
  {
   "cell_type": "code",
   "execution_count": 200,
<<<<<<< HEAD
   "id": "79ef06ec",
=======
   "id": "ec7077db",
>>>>>>> f45420ce18acee65333add82fcb45e00a397e51b
   "metadata": {},
   "outputs": [
    {
     "data": {
      "text/plain": [
       "0.6418284327310387"
      ]
     },
     "execution_count": 200,
     "metadata": {},
     "output_type": "execute_result"
    }
   ],
   "source": [
    "# cross validation for random forest model\n",
    "np.mean(cross_val_score(rf, x_train, y_train, cv= 3))"
   ]
  },
  {
   "cell_type": "code",
   "execution_count": 201,
<<<<<<< HEAD
   "id": "656f3a34",
=======
   "id": "3990ecd9",
>>>>>>> f45420ce18acee65333add82fcb45e00a397e51b
   "metadata": {},
   "outputs": [
    {
     "data": {
      "text/plain": [
       "GridSearchCV(cv=3, estimator=RandomForestRegressor(),\n",
       "             param_grid={'max_features': ('auto', 'sqrt', 'log2'),\n",
       "                         'n_estimators': range(10, 300, 10)})"
      ]
     },
     "execution_count": 201,
     "metadata": {},
     "output_type": "execute_result"
    }
   ],
   "source": [
    "# tune the hyperparameters with GridSearchCV\n",
    "from sklearn.model_selection import GridSearchCV\n",
<<<<<<< HEAD
    "parameters = {'n_estimators':range(10,300,10), criterion = '', 'max_features':('auto','sqrt','log2')}\n",
=======
    "parameters = {'n_estimators':range(10,300,10), 'max_features':('auto','sqrt','log2')}\n",
>>>>>>> f45420ce18acee65333add82fcb45e00a397e51b
    "\n",
    "gs = GridSearchCV(rf,parameters,cv=3)\n",
    "gs.fit(x_train,y_train)"
   ]
  },
  {
   "cell_type": "code",
   "execution_count": 202,
<<<<<<< HEAD
   "id": "226cca4c",
=======
   "id": "6d15c2ee",
>>>>>>> f45420ce18acee65333add82fcb45e00a397e51b
   "metadata": {},
   "outputs": [
    {
     "data": {
      "text/plain": [
       "0.6185986167937235"
      ]
     },
     "execution_count": 202,
     "metadata": {},
     "output_type": "execute_result"
    }
   ],
   "source": [
    "# cross validation for the random forest model with tuned hyperparameters\n",
    "np.mean(cross_val_score(gs.best_estimator_, x_train, y_train, cv=5))"
   ]
  },
  {
   "cell_type": "markdown",
<<<<<<< HEAD
   "id": "c7551068",
=======
   "id": "709fec39",
>>>>>>> f45420ce18acee65333add82fcb45e00a397e51b
   "metadata": {},
   "source": [
    "So far we've tried couple different models: statsmodel, sklearn linear model, lasso, ridge, random forest. Let's see how they perform on test set."
   ]
  },
  {
   "cell_type": "code",
   "execution_count": 206,
<<<<<<< HEAD
   "id": "7ecde2aa",
=======
   "id": "cd7a9349",
>>>>>>> f45420ce18acee65333add82fcb45e00a397e51b
   "metadata": {},
   "outputs": [],
   "source": [
    "# add constant column for test set too\n",
    "x_test = sm.add_constant(x_test)"
   ]
  },
  {
   "cell_type": "code",
   "execution_count": 209,
<<<<<<< HEAD
   "id": "44915571",
=======
   "id": "1235dba2",
>>>>>>> f45420ce18acee65333add82fcb45e00a397e51b
   "metadata": {
    "scrolled": false
   },
   "outputs": [],
   "source": [
    "# get prediction for the test set\n",
    "tpred_reg = reg.predict(x_test)\n",
    "tpred_rf = rf.predict(x_test)\n",
    "tpred_rf_best = gs.best_estimator_.predict(x_test)"
   ]
  },
  {
   "cell_type": "code",
   "execution_count": 214,
<<<<<<< HEAD
   "id": "324ba13c",
=======
   "id": "208302d5",
>>>>>>> f45420ce18acee65333add82fcb45e00a397e51b
   "metadata": {},
   "outputs": [],
   "source": [
    "from sklearn.metrics import r2_score\n",
    "r2_reg = r2_score(y_test,tpred_reg)\n",
    "r2_rf = r2_score(y_test,tpred_rf)\n",
    "r2_rf_best = r2_score(y_test,tpred_rf_best)"
   ]
  },
  {
   "cell_type": "code",
   "execution_count": 218,
<<<<<<< HEAD
   "id": "ea1e3ada",
=======
   "id": "43f9ebd9",
>>>>>>> f45420ce18acee65333add82fcb45e00a397e51b
   "metadata": {},
   "outputs": [
    {
     "name": "stdout",
     "output_type": "stream",
     "text": [
      "R2 Score for each model\n",
      "--------------------------------\n",
      "for sklearn linear regression:  0.47944378658100184\n",
      "for Random Forest:  0.7735419048751513\n",
      "for Random Forest with GridSearchCV :  0.7664095644754259\n"
     ]
    }
   ],
   "source": [
    "print('R2 Score for each model')\n",
    "print('--------------------------------')\n",
    "print('for sklearn linear regression: ', r2_reg)\n",
    "print('for Random Forest: ', r2_rf)\n",
    "print('for Random Forest with GridSearchCV : ', r2_rf_best)"
   ]
  },
  {
   "cell_type": "markdown",
<<<<<<< HEAD
   "id": "aed42b0e",
=======
   "id": "f8c5fd50",
>>>>>>> f45420ce18acee65333add82fcb45e00a397e51b
   "metadata": {},
   "source": [
    "## Conclusion\n",
    "Based on the R2 score for each model, Random Forest model without any tuned hyperparameters gave us the best score. "
   ]
  }
 ],
 "metadata": {
  "kernelspec": {
   "display_name": "Python 3 (ipykernel)",
   "language": "python",
   "name": "python3"
  },
  "language_info": {
   "codemirror_mode": {
    "name": "ipython",
    "version": 3
   },
   "file_extension": ".py",
   "mimetype": "text/x-python",
   "name": "python",
   "nbconvert_exporter": "python",
   "pygments_lexer": "ipython3",
   "version": "3.9.12"
  }
 },
 "nbformat": 4,
 "nbformat_minor": 5
}
