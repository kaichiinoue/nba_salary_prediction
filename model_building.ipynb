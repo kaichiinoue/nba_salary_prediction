{
 "cells": [
  {
   "cell_type": "markdown",
   "id": "a48f0d48",
   "metadata": {},
   "source": [
    "# Model Building"
   ]
  },
  {
   "cell_type": "code",
   "execution_count": 17,
   "id": "6e06f746",
   "metadata": {},
   "outputs": [],
   "source": [
    "# import necessary libraries\n",
    "import pandas as pd\n",
    "import matplotlib.pyplot as plt\n",
    "import numpy as np"
   ]
  },
  {
   "cell_type": "code",
   "execution_count": 18,
   "id": "f27765c9",
   "metadata": {},
   "outputs": [
    {
     "data": {
      "text/html": [
       "<div>\n",
       "<style scoped>\n",
       "    .dataframe tbody tr th:only-of-type {\n",
       "        vertical-align: middle;\n",
       "    }\n",
       "\n",
       "    .dataframe tbody tr th {\n",
       "        vertical-align: top;\n",
       "    }\n",
       "\n",
       "    .dataframe thead th {\n",
       "        text-align: right;\n",
       "    }\n",
       "</style>\n",
       "<table border=\"1\" class=\"dataframe\">\n",
       "  <thead>\n",
       "    <tr style=\"text-align: right;\">\n",
       "      <th></th>\n",
       "      <th>Player</th>\n",
       "      <th>Pos</th>\n",
       "      <th>Age</th>\n",
       "      <th>Tm</th>\n",
       "      <th>G</th>\n",
       "      <th>GS</th>\n",
       "      <th>MP</th>\n",
       "      <th>FG</th>\n",
       "      <th>FGA</th>\n",
       "      <th>3P</th>\n",
       "      <th>...</th>\n",
       "      <th>ORB</th>\n",
       "      <th>DRB</th>\n",
       "      <th>TRB</th>\n",
       "      <th>AST</th>\n",
       "      <th>STL</th>\n",
       "      <th>BLK</th>\n",
       "      <th>TOV</th>\n",
       "      <th>PF</th>\n",
       "      <th>PTS</th>\n",
       "      <th>Salary</th>\n",
       "    </tr>\n",
       "  </thead>\n",
       "  <tbody>\n",
       "    <tr>\n",
       "      <th>0</th>\n",
       "      <td>Precious Achiuwa</td>\n",
       "      <td>PF</td>\n",
       "      <td>21</td>\n",
       "      <td>MIA</td>\n",
       "      <td>61</td>\n",
       "      <td>4</td>\n",
       "      <td>737</td>\n",
       "      <td>124</td>\n",
       "      <td>228</td>\n",
       "      <td>0</td>\n",
       "      <td>...</td>\n",
       "      <td>73</td>\n",
       "      <td>135</td>\n",
       "      <td>208</td>\n",
       "      <td>29</td>\n",
       "      <td>20</td>\n",
       "      <td>28</td>\n",
       "      <td>43</td>\n",
       "      <td>91</td>\n",
       "      <td>304</td>\n",
       "      <td>2582160</td>\n",
       "    </tr>\n",
       "    <tr>\n",
       "      <th>1</th>\n",
       "      <td>Jaylen Adams</td>\n",
       "      <td>PG</td>\n",
       "      <td>24</td>\n",
       "      <td>MIL</td>\n",
       "      <td>7</td>\n",
       "      <td>0</td>\n",
       "      <td>18</td>\n",
       "      <td>1</td>\n",
       "      <td>8</td>\n",
       "      <td>0</td>\n",
       "      <td>...</td>\n",
       "      <td>0</td>\n",
       "      <td>3</td>\n",
       "      <td>3</td>\n",
       "      <td>2</td>\n",
       "      <td>0</td>\n",
       "      <td>0</td>\n",
       "      <td>0</td>\n",
       "      <td>1</td>\n",
       "      <td>2</td>\n",
       "      <td>449115</td>\n",
       "    </tr>\n",
       "    <tr>\n",
       "      <th>2</th>\n",
       "      <td>Steven Adams</td>\n",
       "      <td>C</td>\n",
       "      <td>27</td>\n",
       "      <td>NOP</td>\n",
       "      <td>58</td>\n",
       "      <td>58</td>\n",
       "      <td>1605</td>\n",
       "      <td>189</td>\n",
       "      <td>308</td>\n",
       "      <td>0</td>\n",
       "      <td>...</td>\n",
       "      <td>213</td>\n",
       "      <td>301</td>\n",
       "      <td>514</td>\n",
       "      <td>111</td>\n",
       "      <td>54</td>\n",
       "      <td>38</td>\n",
       "      <td>78</td>\n",
       "      <td>113</td>\n",
       "      <td>438</td>\n",
       "      <td>29592695</td>\n",
       "    </tr>\n",
       "    <tr>\n",
       "      <th>3</th>\n",
       "      <td>Bam Adebayo</td>\n",
       "      <td>C</td>\n",
       "      <td>23</td>\n",
       "      <td>MIA</td>\n",
       "      <td>64</td>\n",
       "      <td>64</td>\n",
       "      <td>2143</td>\n",
       "      <td>456</td>\n",
       "      <td>800</td>\n",
       "      <td>2</td>\n",
       "      <td>...</td>\n",
       "      <td>142</td>\n",
       "      <td>431</td>\n",
       "      <td>573</td>\n",
       "      <td>346</td>\n",
       "      <td>75</td>\n",
       "      <td>66</td>\n",
       "      <td>169</td>\n",
       "      <td>145</td>\n",
       "      <td>1197</td>\n",
       "      <td>5115492</td>\n",
       "    </tr>\n",
       "    <tr>\n",
       "      <th>4</th>\n",
       "      <td>LaMarcus Aldridge</td>\n",
       "      <td>C</td>\n",
       "      <td>35</td>\n",
       "      <td>TOT</td>\n",
       "      <td>26</td>\n",
       "      <td>23</td>\n",
       "      <td>674</td>\n",
       "      <td>140</td>\n",
       "      <td>296</td>\n",
       "      <td>31</td>\n",
       "      <td>...</td>\n",
       "      <td>19</td>\n",
       "      <td>99</td>\n",
       "      <td>118</td>\n",
       "      <td>49</td>\n",
       "      <td>11</td>\n",
       "      <td>29</td>\n",
       "      <td>27</td>\n",
       "      <td>47</td>\n",
       "      <td>352</td>\n",
       "      <td>17628340</td>\n",
       "    </tr>\n",
       "  </tbody>\n",
       "</table>\n",
       "<p>5 rows × 25 columns</p>\n",
       "</div>"
      ],
      "text/plain": [
       "              Player Pos  Age   Tm   G  GS    MP   FG  FGA  3P  ...  ORB  DRB  \\\n",
       "0   Precious Achiuwa  PF   21  MIA  61   4   737  124  228   0  ...   73  135   \n",
       "1       Jaylen Adams  PG   24  MIL   7   0    18    1    8   0  ...    0    3   \n",
       "2       Steven Adams   C   27  NOP  58  58  1605  189  308   0  ...  213  301   \n",
       "3        Bam Adebayo   C   23  MIA  64  64  2143  456  800   2  ...  142  431   \n",
       "4  LaMarcus Aldridge   C   35  TOT  26  23   674  140  296  31  ...   19   99   \n",
       "\n",
       "   TRB  AST  STL  BLK  TOV   PF   PTS    Salary  \n",
       "0  208   29   20   28   43   91   304   2582160  \n",
       "1    3    2    0    0    0    1     2    449115  \n",
       "2  514  111   54   38   78  113   438  29592695  \n",
       "3  573  346   75   66  169  145  1197   5115492  \n",
       "4  118   49   11   29   27   47   352  17628340  \n",
       "\n",
       "[5 rows x 25 columns]"
      ]
     },
     "execution_count": 18,
     "metadata": {},
     "output_type": "execute_result"
    }
   ],
   "source": [
    "# read in data\n",
    "df = pd.read_csv('nba_salary_cleaned.csv')\n",
    "df.head()"
   ]
  },
  {
   "cell_type": "code",
   "execution_count": 19,
   "id": "c47ae3ba",
   "metadata": {},
   "outputs": [
    {
     "data": {
      "text/plain": [
       "Index(['Player', 'Pos', 'Age', 'Tm', 'G', 'GS', 'MP', 'FG', 'FGA', '3P', '3PA',\n",
       "       '2P', '2PA', 'FT', 'FTA', 'ORB', 'DRB', 'TRB', 'AST', 'STL', 'BLK',\n",
       "       'TOV', 'PF', 'PTS', 'Salary'],\n",
       "      dtype='object')"
      ]
     },
     "execution_count": 19,
     "metadata": {},
     "output_type": "execute_result"
    }
   ],
   "source": [
    "df.columns"
   ]
  },
  {
   "cell_type": "code",
   "execution_count": 20,
   "id": "5ff9a4f4",
   "metadata": {},
   "outputs": [],
   "source": [
    "# choose the columns to use\n",
    "df_model = df[['Pos', 'Age', 'Tm', 'G', 'GS', 'MP', 'FG', 'FGA', '3P', '3PA', '2P', '2PA', 'FT', 'FTA', 'ORB', 'DRB', 'TRB', 'AST', 'STL', \n",
    "                   'BLK', 'TOV', 'PF', 'PTS', 'Salary']]"
   ]
  },
  {
   "cell_type": "code",
   "execution_count": 21,
   "id": "1e1d3d9c",
   "metadata": {},
   "outputs": [
    {
     "data": {
      "text/html": [
       "<div>\n",
       "<style scoped>\n",
       "    .dataframe tbody tr th:only-of-type {\n",
       "        vertical-align: middle;\n",
       "    }\n",
       "\n",
       "    .dataframe tbody tr th {\n",
       "        vertical-align: top;\n",
       "    }\n",
       "\n",
       "    .dataframe thead th {\n",
       "        text-align: right;\n",
       "    }\n",
       "</style>\n",
       "<table border=\"1\" class=\"dataframe\">\n",
       "  <thead>\n",
       "    <tr style=\"text-align: right;\">\n",
       "      <th></th>\n",
       "      <th>Pos</th>\n",
       "      <th>Age</th>\n",
       "      <th>Tm</th>\n",
       "      <th>G</th>\n",
       "      <th>GS</th>\n",
       "      <th>MP</th>\n",
       "      <th>FG</th>\n",
       "      <th>FGA</th>\n",
       "      <th>3P</th>\n",
       "      <th>3PA</th>\n",
       "      <th>...</th>\n",
       "      <th>ORB</th>\n",
       "      <th>DRB</th>\n",
       "      <th>TRB</th>\n",
       "      <th>AST</th>\n",
       "      <th>STL</th>\n",
       "      <th>BLK</th>\n",
       "      <th>TOV</th>\n",
       "      <th>PF</th>\n",
       "      <th>PTS</th>\n",
       "      <th>Salary</th>\n",
       "    </tr>\n",
       "  </thead>\n",
       "  <tbody>\n",
       "    <tr>\n",
       "      <th>0</th>\n",
       "      <td>PF</td>\n",
       "      <td>21</td>\n",
       "      <td>MIA</td>\n",
       "      <td>61</td>\n",
       "      <td>4</td>\n",
       "      <td>737</td>\n",
       "      <td>124</td>\n",
       "      <td>228</td>\n",
       "      <td>0</td>\n",
       "      <td>1</td>\n",
       "      <td>...</td>\n",
       "      <td>73</td>\n",
       "      <td>135</td>\n",
       "      <td>208</td>\n",
       "      <td>29</td>\n",
       "      <td>20</td>\n",
       "      <td>28</td>\n",
       "      <td>43</td>\n",
       "      <td>91</td>\n",
       "      <td>304</td>\n",
       "      <td>2582160</td>\n",
       "    </tr>\n",
       "    <tr>\n",
       "      <th>1</th>\n",
       "      <td>PG</td>\n",
       "      <td>24</td>\n",
       "      <td>MIL</td>\n",
       "      <td>7</td>\n",
       "      <td>0</td>\n",
       "      <td>18</td>\n",
       "      <td>1</td>\n",
       "      <td>8</td>\n",
       "      <td>0</td>\n",
       "      <td>2</td>\n",
       "      <td>...</td>\n",
       "      <td>0</td>\n",
       "      <td>3</td>\n",
       "      <td>3</td>\n",
       "      <td>2</td>\n",
       "      <td>0</td>\n",
       "      <td>0</td>\n",
       "      <td>0</td>\n",
       "      <td>1</td>\n",
       "      <td>2</td>\n",
       "      <td>449115</td>\n",
       "    </tr>\n",
       "    <tr>\n",
       "      <th>2</th>\n",
       "      <td>C</td>\n",
       "      <td>27</td>\n",
       "      <td>NOP</td>\n",
       "      <td>58</td>\n",
       "      <td>58</td>\n",
       "      <td>1605</td>\n",
       "      <td>189</td>\n",
       "      <td>308</td>\n",
       "      <td>0</td>\n",
       "      <td>3</td>\n",
       "      <td>...</td>\n",
       "      <td>213</td>\n",
       "      <td>301</td>\n",
       "      <td>514</td>\n",
       "      <td>111</td>\n",
       "      <td>54</td>\n",
       "      <td>38</td>\n",
       "      <td>78</td>\n",
       "      <td>113</td>\n",
       "      <td>438</td>\n",
       "      <td>29592695</td>\n",
       "    </tr>\n",
       "    <tr>\n",
       "      <th>3</th>\n",
       "      <td>C</td>\n",
       "      <td>23</td>\n",
       "      <td>MIA</td>\n",
       "      <td>64</td>\n",
       "      <td>64</td>\n",
       "      <td>2143</td>\n",
       "      <td>456</td>\n",
       "      <td>800</td>\n",
       "      <td>2</td>\n",
       "      <td>8</td>\n",
       "      <td>...</td>\n",
       "      <td>142</td>\n",
       "      <td>431</td>\n",
       "      <td>573</td>\n",
       "      <td>346</td>\n",
       "      <td>75</td>\n",
       "      <td>66</td>\n",
       "      <td>169</td>\n",
       "      <td>145</td>\n",
       "      <td>1197</td>\n",
       "      <td>5115492</td>\n",
       "    </tr>\n",
       "    <tr>\n",
       "      <th>4</th>\n",
       "      <td>C</td>\n",
       "      <td>35</td>\n",
       "      <td>TOT</td>\n",
       "      <td>26</td>\n",
       "      <td>23</td>\n",
       "      <td>674</td>\n",
       "      <td>140</td>\n",
       "      <td>296</td>\n",
       "      <td>31</td>\n",
       "      <td>80</td>\n",
       "      <td>...</td>\n",
       "      <td>19</td>\n",
       "      <td>99</td>\n",
       "      <td>118</td>\n",
       "      <td>49</td>\n",
       "      <td>11</td>\n",
       "      <td>29</td>\n",
       "      <td>27</td>\n",
       "      <td>47</td>\n",
       "      <td>352</td>\n",
       "      <td>17628340</td>\n",
       "    </tr>\n",
       "  </tbody>\n",
       "</table>\n",
       "<p>5 rows × 24 columns</p>\n",
       "</div>"
      ],
      "text/plain": [
       "  Pos  Age   Tm   G  GS    MP   FG  FGA  3P  3PA  ...  ORB  DRB  TRB  AST  \\\n",
       "0  PF   21  MIA  61   4   737  124  228   0    1  ...   73  135  208   29   \n",
       "1  PG   24  MIL   7   0    18    1    8   0    2  ...    0    3    3    2   \n",
       "2   C   27  NOP  58  58  1605  189  308   0    3  ...  213  301  514  111   \n",
       "3   C   23  MIA  64  64  2143  456  800   2    8  ...  142  431  573  346   \n",
       "4   C   35  TOT  26  23   674  140  296  31   80  ...   19   99  118   49   \n",
       "\n",
       "   STL  BLK  TOV   PF   PTS    Salary  \n",
       "0   20   28   43   91   304   2582160  \n",
       "1    0    0    0    1     2    449115  \n",
       "2   54   38   78  113   438  29592695  \n",
       "3   75   66  169  145  1197   5115492  \n",
       "4   11   29   27   47   352  17628340  \n",
       "\n",
       "[5 rows x 24 columns]"
      ]
     },
     "execution_count": 21,
     "metadata": {},
     "output_type": "execute_result"
    }
   ],
   "source": [
    "df_model.head()"
   ]
  },
  {
   "cell_type": "code",
   "execution_count": 22,
   "id": "28bb5c7a",
   "metadata": {},
   "outputs": [],
   "source": [
    "# get dummy variables for categorical variables\n",
    "df_dum = pd.get_dummies(df_model, drop_first = True)"
   ]
  },
  {
   "cell_type": "code",
   "execution_count": 24,
   "id": "54eb8bb8",
   "metadata": {},
   "outputs": [],
   "source": [
    "# test train split\n",
    "from sklearn.model_selection import train_test_split\n",
    "\n",
    "x =  df_dum.drop('Salary', axis = 1)\n",
    "y = df_dum.Salary.values\n",
    "\n",
    "x_train, x_test, y_train, y_test = train_test_split(x, y, test_size=0.2, random_state=42)"
   ]
  },
  {
   "cell_type": "code",
   "execution_count": 26,
   "id": "117b5d89",
   "metadata": {},
   "outputs": [
    {
     "data": {
      "text/plain": [
       "(373, 55)"
      ]
     },
     "execution_count": 26,
     "metadata": {},
     "output_type": "execute_result"
    }
   ],
   "source": [
    "x_train.shape"
   ]
  },
  {
   "cell_type": "code",
   "execution_count": 27,
   "id": "826aef80",
   "metadata": {},
   "outputs": [
    {
     "data": {
      "text/plain": [
       "(373,)"
      ]
     },
     "execution_count": 27,
     "metadata": {},
     "output_type": "execute_result"
    }
   ],
   "source": [
    "y_train.shape"
   ]
  },
  {
   "cell_type": "code",
   "execution_count": 29,
   "id": "aeca0c26",
   "metadata": {},
   "outputs": [
    {
     "data": {
      "text/plain": [
       "(94, 55)"
      ]
     },
     "execution_count": 29,
     "metadata": {},
     "output_type": "execute_result"
    }
   ],
   "source": [
    "x_test.shape"
   ]
  },
  {
   "cell_type": "code",
   "execution_count": 30,
   "id": "8528f3fb",
   "metadata": {},
   "outputs": [
    {
     "data": {
      "text/plain": [
       "(94,)"
      ]
     },
     "execution_count": 30,
     "metadata": {},
     "output_type": "execute_result"
    }
   ],
   "source": [
    "y_test.shape"
   ]
  },
  {
   "cell_type": "code",
   "execution_count": 33,
   "id": "f6024244",
   "metadata": {},
   "outputs": [],
   "source": [
    "# building linear model using statsmodel \n",
    "import statsmodels.api as sm\n",
    "x_train = sm.add_constant(x_train)"
   ]
  },
  {
   "cell_type": "markdown",
   "id": "39d7992c",
   "metadata": {},
   "source": [
    "This is a underlying basic model that I compare with other models"
   ]
  },
  {
   "cell_type": "code",
   "execution_count": 37,
   "id": "ac05084c",
   "metadata": {
    "scrolled": false
   },
   "outputs": [
    {
     "data": {
      "text/html": [
       "<table class=\"simpletable\">\n",
       "<caption>OLS Regression Results</caption>\n",
       "<tr>\n",
       "  <th>Dep. Variable:</th>            <td>y</td>        <th>  R-squared:         </th> <td>   0.712</td> \n",
       "</tr>\n",
       "<tr>\n",
       "  <th>Model:</th>                   <td>OLS</td>       <th>  Adj. R-squared:    </th> <td>   0.666</td> \n",
       "</tr>\n",
       "<tr>\n",
       "  <th>Method:</th>             <td>Least Squares</td>  <th>  F-statistic:       </th> <td>   15.55</td> \n",
       "</tr>\n",
       "<tr>\n",
       "  <th>Date:</th>             <td>Thu, 01 Dec 2022</td> <th>  Prob (F-statistic):</th> <td>1.03e-60</td> \n",
       "</tr>\n",
       "<tr>\n",
       "  <th>Time:</th>                 <td>14:13:05</td>     <th>  Log-Likelihood:    </th> <td> -6284.7</td> \n",
       "</tr>\n",
       "<tr>\n",
       "  <th>No. Observations:</th>      <td>   373</td>      <th>  AIC:               </th> <td>1.267e+04</td>\n",
       "</tr>\n",
       "<tr>\n",
       "  <th>Df Residuals:</th>          <td>   321</td>      <th>  BIC:               </th> <td>1.288e+04</td>\n",
       "</tr>\n",
       "<tr>\n",
       "  <th>Df Model:</th>              <td>    51</td>      <th>                     </th>     <td> </td>    \n",
       "</tr>\n",
       "<tr>\n",
       "  <th>Covariance Type:</th>      <td>nonrobust</td>    <th>                     </th>     <td> </td>    \n",
       "</tr>\n",
       "</table>\n",
       "<table class=\"simpletable\">\n",
       "<tr>\n",
       "     <td></td>       <th>coef</th>     <th>std err</th>      <th>t</th>      <th>P>|t|</th>  <th>[0.025</th>    <th>0.975]</th>  \n",
       "</tr>\n",
       "<tr>\n",
       "  <th>const</th>  <td>-1.106e+07</td> <td> 2.89e+06</td> <td>   -3.833</td> <td> 0.000</td> <td>-1.67e+07</td> <td>-5.38e+06</td>\n",
       "</tr>\n",
       "<tr>\n",
       "  <th>Age</th>    <td> 6.122e+05</td> <td> 8.15e+04</td> <td>    7.508</td> <td> 0.000</td> <td> 4.52e+05</td> <td> 7.73e+05</td>\n",
       "</tr>\n",
       "<tr>\n",
       "  <th>G</th>      <td>-4.238e+04</td> <td> 4.25e+04</td> <td>   -0.997</td> <td> 0.320</td> <td>-1.26e+05</td> <td> 4.13e+04</td>\n",
       "</tr>\n",
       "<tr>\n",
       "  <th>GS</th>     <td>  1.27e+05</td> <td> 3.03e+04</td> <td>    4.191</td> <td> 0.000</td> <td> 6.74e+04</td> <td> 1.87e+05</td>\n",
       "</tr>\n",
       "<tr>\n",
       "  <th>MP</th>     <td>-1.205e+04</td> <td> 2861.448</td> <td>   -4.212</td> <td> 0.000</td> <td>-1.77e+04</td> <td>-6423.950</td>\n",
       "</tr>\n",
       "<tr>\n",
       "  <th>FG</th>     <td>-8275.8102</td> <td> 1.06e+04</td> <td>   -0.777</td> <td> 0.437</td> <td>-2.92e+04</td> <td> 1.27e+04</td>\n",
       "</tr>\n",
       "<tr>\n",
       "  <th>FGA</th>    <td> 9070.6277</td> <td> 6543.312</td> <td>    1.386</td> <td> 0.167</td> <td>-3802.564</td> <td> 2.19e+04</td>\n",
       "</tr>\n",
       "<tr>\n",
       "  <th>3P</th>     <td> 1.077e+04</td> <td> 2.33e+04</td> <td>    0.463</td> <td> 0.644</td> <td> -3.5e+04</td> <td> 5.65e+04</td>\n",
       "</tr>\n",
       "<tr>\n",
       "  <th>3PA</th>    <td>  589.9510</td> <td>  1.4e+04</td> <td>    0.042</td> <td> 0.966</td> <td>-2.69e+04</td> <td> 2.81e+04</td>\n",
       "</tr>\n",
       "<tr>\n",
       "  <th>2P</th>     <td>-1.905e+04</td> <td> 2.67e+04</td> <td>   -0.714</td> <td> 0.476</td> <td>-7.15e+04</td> <td> 3.34e+04</td>\n",
       "</tr>\n",
       "<tr>\n",
       "  <th>2PA</th>    <td> 8480.6767</td> <td>  1.2e+04</td> <td>    0.705</td> <td> 0.481</td> <td>-1.52e+04</td> <td> 3.21e+04</td>\n",
       "</tr>\n",
       "<tr>\n",
       "  <th>FT</th>     <td> 1.741e+04</td> <td>    3e+04</td> <td>    0.580</td> <td> 0.563</td> <td>-4.17e+04</td> <td> 7.65e+04</td>\n",
       "</tr>\n",
       "<tr>\n",
       "  <th>FTA</th>    <td>-1.342e+04</td> <td> 2.87e+04</td> <td>   -0.467</td> <td> 0.641</td> <td>   -7e+04</td> <td> 4.31e+04</td>\n",
       "</tr>\n",
       "<tr>\n",
       "  <th>ORB</th>    <td>-1099.8325</td> <td> 1.29e+04</td> <td>   -0.085</td> <td> 0.932</td> <td>-2.65e+04</td> <td> 2.43e+04</td>\n",
       "</tr>\n",
       "<tr>\n",
       "  <th>DRB</th>    <td> 1.196e+04</td> <td> 8953.175</td> <td>    1.336</td> <td> 0.183</td> <td>-5653.303</td> <td> 2.96e+04</td>\n",
       "</tr>\n",
       "<tr>\n",
       "  <th>TRB</th>    <td> 1.086e+04</td> <td> 5478.115</td> <td>    1.983</td> <td> 0.048</td> <td>   83.633</td> <td> 2.16e+04</td>\n",
       "</tr>\n",
       "<tr>\n",
       "  <th>AST</th>    <td> 3.037e+04</td> <td> 8783.834</td> <td>    3.457</td> <td> 0.001</td> <td> 1.31e+04</td> <td> 4.76e+04</td>\n",
       "</tr>\n",
       "<tr>\n",
       "  <th>STL</th>    <td> 5.029e+04</td> <td> 2.88e+04</td> <td>    1.747</td> <td> 0.082</td> <td>-6354.722</td> <td> 1.07e+05</td>\n",
       "</tr>\n",
       "<tr>\n",
       "  <th>BLK</th>    <td> 5.165e+04</td> <td> 2.22e+04</td> <td>    2.323</td> <td> 0.021</td> <td> 7913.453</td> <td> 9.54e+04</td>\n",
       "</tr>\n",
       "<tr>\n",
       "  <th>TOV</th>    <td> 6366.6092</td> <td> 2.49e+04</td> <td>    0.256</td> <td> 0.798</td> <td>-4.25e+04</td> <td> 5.53e+04</td>\n",
       "</tr>\n",
       "<tr>\n",
       "  <th>PF</th>     <td> -3.32e+04</td> <td>  1.5e+04</td> <td>   -2.220</td> <td> 0.027</td> <td>-6.26e+04</td> <td>-3776.528</td>\n",
       "</tr>\n",
       "<tr>\n",
       "  <th>PTS</th>    <td> 1.163e+04</td> <td> 9509.407</td> <td>    1.223</td> <td> 0.222</td> <td>-7081.560</td> <td> 3.03e+04</td>\n",
       "</tr>\n",
       "<tr>\n",
       "  <th>Pos_PF</th> <td> 1.381e+06</td> <td> 1.12e+06</td> <td>    1.229</td> <td> 0.220</td> <td> -8.3e+05</td> <td> 3.59e+06</td>\n",
       "</tr>\n",
       "<tr>\n",
       "  <th>Pos_PG</th> <td>-2.703e+05</td> <td> 1.32e+06</td> <td>   -0.205</td> <td> 0.838</td> <td>-2.87e+06</td> <td> 2.33e+06</td>\n",
       "</tr>\n",
       "<tr>\n",
       "  <th>Pos_SF</th> <td> 7.372e+05</td> <td> 1.21e+06</td> <td>    0.611</td> <td> 0.541</td> <td>-1.64e+06</td> <td> 3.11e+06</td>\n",
       "</tr>\n",
       "<tr>\n",
       "  <th>Pos_SG</th> <td>-1.737e+05</td> <td> 1.25e+06</td> <td>   -0.139</td> <td> 0.890</td> <td>-2.63e+06</td> <td> 2.29e+06</td>\n",
       "</tr>\n",
       "<tr>\n",
       "  <th>Tm_BOS</th> <td>  1.26e+06</td> <td> 2.35e+06</td> <td>    0.537</td> <td> 0.592</td> <td>-3.36e+06</td> <td> 5.88e+06</td>\n",
       "</tr>\n",
       "<tr>\n",
       "  <th>Tm_BRK</th> <td>-1.632e+06</td> <td> 2.29e+06</td> <td>   -0.714</td> <td> 0.476</td> <td>-6.13e+06</td> <td> 2.87e+06</td>\n",
       "</tr>\n",
       "<tr>\n",
       "  <th>Tm_CHI</th> <td>-2.495e+06</td> <td> 2.54e+06</td> <td>   -0.984</td> <td> 0.326</td> <td>-7.48e+06</td> <td> 2.49e+06</td>\n",
       "</tr>\n",
       "<tr>\n",
       "  <th>Tm_CHO</th> <td>-7.417e+05</td> <td> 2.27e+06</td> <td>   -0.327</td> <td> 0.744</td> <td>-5.21e+06</td> <td> 3.73e+06</td>\n",
       "</tr>\n",
       "<tr>\n",
       "  <th>Tm_CLE</th> <td>-5.569e+05</td> <td> 2.47e+06</td> <td>   -0.225</td> <td> 0.822</td> <td>-5.42e+06</td> <td>  4.3e+06</td>\n",
       "</tr>\n",
       "<tr>\n",
       "  <th>Tm_DAL</th> <td>-2.225e+05</td> <td> 2.48e+06</td> <td>   -0.090</td> <td> 0.929</td> <td> -5.1e+06</td> <td> 4.66e+06</td>\n",
       "</tr>\n",
       "<tr>\n",
       "  <th>Tm_DEN</th> <td>-6.526e+05</td> <td> 2.48e+06</td> <td>   -0.263</td> <td> 0.793</td> <td>-5.54e+06</td> <td> 4.23e+06</td>\n",
       "</tr>\n",
       "<tr>\n",
       "  <th>Tm_DET</th> <td>-8.075e+05</td> <td> 2.35e+06</td> <td>   -0.344</td> <td> 0.731</td> <td>-5.43e+06</td> <td> 3.82e+06</td>\n",
       "</tr>\n",
       "<tr>\n",
       "  <th>Tm_GSW</th> <td> 3.944e+05</td> <td> 2.39e+06</td> <td>    0.165</td> <td> 0.869</td> <td> -4.3e+06</td> <td> 5.09e+06</td>\n",
       "</tr>\n",
       "<tr>\n",
       "  <th>Tm_HOU</th> <td> 6.317e+05</td> <td> 2.61e+06</td> <td>    0.242</td> <td> 0.809</td> <td>-4.51e+06</td> <td> 5.77e+06</td>\n",
       "</tr>\n",
       "<tr>\n",
       "  <th>Tm_IND</th> <td>-1.319e+06</td> <td> 2.26e+06</td> <td>   -0.583</td> <td> 0.561</td> <td>-5.77e+06</td> <td> 3.14e+06</td>\n",
       "</tr>\n",
       "<tr>\n",
       "  <th>Tm_LAC</th> <td>-2.058e+05</td> <td> 2.32e+06</td> <td>   -0.089</td> <td> 0.929</td> <td>-4.76e+06</td> <td> 4.35e+06</td>\n",
       "</tr>\n",
       "<tr>\n",
       "  <th>Tm_LAL</th> <td>-1.809e+06</td> <td> 2.37e+06</td> <td>   -0.764</td> <td> 0.445</td> <td>-6.47e+06</td> <td> 2.85e+06</td>\n",
       "</tr>\n",
       "<tr>\n",
       "  <th>Tm_MEM</th> <td>-4.252e+06</td> <td> 2.31e+06</td> <td>   -1.837</td> <td> 0.067</td> <td> -8.8e+06</td> <td> 3.01e+05</td>\n",
       "</tr>\n",
       "<tr>\n",
       "  <th>Tm_MIA</th> <td> -4.03e+06</td> <td> 2.47e+06</td> <td>   -1.629</td> <td> 0.104</td> <td> -8.9e+06</td> <td> 8.38e+05</td>\n",
       "</tr>\n",
       "<tr>\n",
       "  <th>Tm_MIL</th> <td> -4.14e+06</td> <td> 2.67e+06</td> <td>   -1.551</td> <td> 0.122</td> <td>-9.39e+06</td> <td> 1.11e+06</td>\n",
       "</tr>\n",
       "<tr>\n",
       "  <th>Tm_MIN</th> <td> 7.049e+05</td> <td> 2.38e+06</td> <td>    0.297</td> <td> 0.767</td> <td>-3.97e+06</td> <td> 5.38e+06</td>\n",
       "</tr>\n",
       "<tr>\n",
       "  <th>Tm_NOP</th> <td>-1.305e+06</td> <td> 2.26e+06</td> <td>   -0.578</td> <td> 0.564</td> <td>-5.75e+06</td> <td> 3.14e+06</td>\n",
       "</tr>\n",
       "<tr>\n",
       "  <th>Tm_NYK</th> <td>-3.021e+06</td> <td> 2.52e+06</td> <td>   -1.198</td> <td> 0.232</td> <td>-7.98e+06</td> <td> 1.94e+06</td>\n",
       "</tr>\n",
       "<tr>\n",
       "  <th>Tm_OKC</th> <td>-3.051e+06</td> <td> 2.25e+06</td> <td>   -1.353</td> <td> 0.177</td> <td>-7.49e+06</td> <td> 1.39e+06</td>\n",
       "</tr>\n",
       "<tr>\n",
       "  <th>Tm_ORL</th> <td>-1.077e+06</td> <td> 2.81e+06</td> <td>   -0.383</td> <td> 0.702</td> <td>-6.61e+06</td> <td> 4.46e+06</td>\n",
       "</tr>\n",
       "<tr>\n",
       "  <th>Tm_PHI</th> <td> 2.455e+05</td> <td> 2.21e+06</td> <td>    0.111</td> <td> 0.912</td> <td>-4.11e+06</td> <td>  4.6e+06</td>\n",
       "</tr>\n",
       "<tr>\n",
       "  <th>Tm_PHO</th> <td>-1.063e+06</td> <td> 2.25e+06</td> <td>   -0.473</td> <td> 0.637</td> <td>-5.49e+06</td> <td> 3.36e+06</td>\n",
       "</tr>\n",
       "<tr>\n",
       "  <th>Tm_POR</th> <td>-1.771e+06</td> <td> 2.43e+06</td> <td>   -0.728</td> <td> 0.467</td> <td>-6.56e+06</td> <td> 3.02e+06</td>\n",
       "</tr>\n",
       "<tr>\n",
       "  <th>Tm_SAC</th> <td>-3.301e+06</td> <td> 2.44e+06</td> <td>   -1.352</td> <td> 0.177</td> <td>-8.11e+06</td> <td>  1.5e+06</td>\n",
       "</tr>\n",
       "<tr>\n",
       "  <th>Tm_SAS</th> <td>-2.483e+06</td> <td> 2.51e+06</td> <td>   -0.989</td> <td> 0.323</td> <td>-7.42e+06</td> <td> 2.45e+06</td>\n",
       "</tr>\n",
       "<tr>\n",
       "  <th>Tm_TOR</th> <td>-1.087e+06</td> <td> 2.32e+06</td> <td>   -0.468</td> <td> 0.640</td> <td>-5.66e+06</td> <td> 3.48e+06</td>\n",
       "</tr>\n",
       "<tr>\n",
       "  <th>Tm_TOT</th> <td>-6.985e+05</td> <td> 1.87e+06</td> <td>   -0.373</td> <td> 0.709</td> <td>-4.38e+06</td> <td> 2.99e+06</td>\n",
       "</tr>\n",
       "<tr>\n",
       "  <th>Tm_UTA</th> <td>-9.938e+05</td> <td> 2.32e+06</td> <td>   -0.428</td> <td> 0.669</td> <td>-5.56e+06</td> <td> 3.57e+06</td>\n",
       "</tr>\n",
       "<tr>\n",
       "  <th>Tm_WAS</th> <td>   1.6e+05</td> <td> 2.59e+06</td> <td>    0.062</td> <td> 0.951</td> <td>-4.93e+06</td> <td> 5.25e+06</td>\n",
       "</tr>\n",
       "</table>\n",
       "<table class=\"simpletable\">\n",
       "<tr>\n",
       "  <th>Omnibus:</th>       <td>45.062</td> <th>  Durbin-Watson:     </th> <td>   2.014</td>\n",
       "</tr>\n",
       "<tr>\n",
       "  <th>Prob(Omnibus):</th> <td> 0.000</td> <th>  Jarque-Bera (JB):  </th> <td>  95.519</td>\n",
       "</tr>\n",
       "<tr>\n",
       "  <th>Skew:</th>          <td> 0.649</td> <th>  Prob(JB):          </th> <td>1.81e-21</td>\n",
       "</tr>\n",
       "<tr>\n",
       "  <th>Kurtosis:</th>      <td> 5.112</td> <th>  Cond. No.          </th> <td>5.01e+16</td>\n",
       "</tr>\n",
       "</table><br/><br/>Notes:<br/>[1] Standard Errors assume that the covariance matrix of the errors is correctly specified.<br/>[2] The smallest eigenvalue is 3.44e-25. This might indicate that there are<br/>strong multicollinearity problems or that the design matrix is singular."
      ],
      "text/plain": [
       "<class 'statsmodels.iolib.summary.Summary'>\n",
       "\"\"\"\n",
       "                            OLS Regression Results                            \n",
       "==============================================================================\n",
       "Dep. Variable:                      y   R-squared:                       0.712\n",
       "Model:                            OLS   Adj. R-squared:                  0.666\n",
       "Method:                 Least Squares   F-statistic:                     15.55\n",
       "Date:                Thu, 01 Dec 2022   Prob (F-statistic):           1.03e-60\n",
       "Time:                        14:13:05   Log-Likelihood:                -6284.7\n",
       "No. Observations:                 373   AIC:                         1.267e+04\n",
       "Df Residuals:                     321   BIC:                         1.288e+04\n",
       "Df Model:                          51                                         \n",
       "Covariance Type:            nonrobust                                         \n",
       "==============================================================================\n",
       "                 coef    std err          t      P>|t|      [0.025      0.975]\n",
       "------------------------------------------------------------------------------\n",
       "const      -1.106e+07   2.89e+06     -3.833      0.000   -1.67e+07   -5.38e+06\n",
       "Age         6.122e+05   8.15e+04      7.508      0.000    4.52e+05    7.73e+05\n",
       "G          -4.238e+04   4.25e+04     -0.997      0.320   -1.26e+05    4.13e+04\n",
       "GS           1.27e+05   3.03e+04      4.191      0.000    6.74e+04    1.87e+05\n",
       "MP         -1.205e+04   2861.448     -4.212      0.000   -1.77e+04   -6423.950\n",
       "FG         -8275.8102   1.06e+04     -0.777      0.437   -2.92e+04    1.27e+04\n",
       "FGA         9070.6277   6543.312      1.386      0.167   -3802.564    2.19e+04\n",
       "3P          1.077e+04   2.33e+04      0.463      0.644    -3.5e+04    5.65e+04\n",
       "3PA          589.9510    1.4e+04      0.042      0.966   -2.69e+04    2.81e+04\n",
       "2P         -1.905e+04   2.67e+04     -0.714      0.476   -7.15e+04    3.34e+04\n",
       "2PA         8480.6767    1.2e+04      0.705      0.481   -1.52e+04    3.21e+04\n",
       "FT          1.741e+04      3e+04      0.580      0.563   -4.17e+04    7.65e+04\n",
       "FTA        -1.342e+04   2.87e+04     -0.467      0.641      -7e+04    4.31e+04\n",
       "ORB        -1099.8325   1.29e+04     -0.085      0.932   -2.65e+04    2.43e+04\n",
       "DRB         1.196e+04   8953.175      1.336      0.183   -5653.303    2.96e+04\n",
       "TRB         1.086e+04   5478.115      1.983      0.048      83.633    2.16e+04\n",
       "AST         3.037e+04   8783.834      3.457      0.001    1.31e+04    4.76e+04\n",
       "STL         5.029e+04   2.88e+04      1.747      0.082   -6354.722    1.07e+05\n",
       "BLK         5.165e+04   2.22e+04      2.323      0.021    7913.453    9.54e+04\n",
       "TOV         6366.6092   2.49e+04      0.256      0.798   -4.25e+04    5.53e+04\n",
       "PF          -3.32e+04    1.5e+04     -2.220      0.027   -6.26e+04   -3776.528\n",
       "PTS         1.163e+04   9509.407      1.223      0.222   -7081.560    3.03e+04\n",
       "Pos_PF      1.381e+06   1.12e+06      1.229      0.220    -8.3e+05    3.59e+06\n",
       "Pos_PG     -2.703e+05   1.32e+06     -0.205      0.838   -2.87e+06    2.33e+06\n",
       "Pos_SF      7.372e+05   1.21e+06      0.611      0.541   -1.64e+06    3.11e+06\n",
       "Pos_SG     -1.737e+05   1.25e+06     -0.139      0.890   -2.63e+06    2.29e+06\n",
       "Tm_BOS       1.26e+06   2.35e+06      0.537      0.592   -3.36e+06    5.88e+06\n",
       "Tm_BRK     -1.632e+06   2.29e+06     -0.714      0.476   -6.13e+06    2.87e+06\n",
       "Tm_CHI     -2.495e+06   2.54e+06     -0.984      0.326   -7.48e+06    2.49e+06\n",
       "Tm_CHO     -7.417e+05   2.27e+06     -0.327      0.744   -5.21e+06    3.73e+06\n",
       "Tm_CLE     -5.569e+05   2.47e+06     -0.225      0.822   -5.42e+06     4.3e+06\n",
       "Tm_DAL     -2.225e+05   2.48e+06     -0.090      0.929    -5.1e+06    4.66e+06\n",
       "Tm_DEN     -6.526e+05   2.48e+06     -0.263      0.793   -5.54e+06    4.23e+06\n",
       "Tm_DET     -8.075e+05   2.35e+06     -0.344      0.731   -5.43e+06    3.82e+06\n",
       "Tm_GSW      3.944e+05   2.39e+06      0.165      0.869    -4.3e+06    5.09e+06\n",
       "Tm_HOU      6.317e+05   2.61e+06      0.242      0.809   -4.51e+06    5.77e+06\n",
       "Tm_IND     -1.319e+06   2.26e+06     -0.583      0.561   -5.77e+06    3.14e+06\n",
       "Tm_LAC     -2.058e+05   2.32e+06     -0.089      0.929   -4.76e+06    4.35e+06\n",
       "Tm_LAL     -1.809e+06   2.37e+06     -0.764      0.445   -6.47e+06    2.85e+06\n",
       "Tm_MEM     -4.252e+06   2.31e+06     -1.837      0.067    -8.8e+06    3.01e+05\n",
       "Tm_MIA      -4.03e+06   2.47e+06     -1.629      0.104    -8.9e+06    8.38e+05\n",
       "Tm_MIL      -4.14e+06   2.67e+06     -1.551      0.122   -9.39e+06    1.11e+06\n",
       "Tm_MIN      7.049e+05   2.38e+06      0.297      0.767   -3.97e+06    5.38e+06\n",
       "Tm_NOP     -1.305e+06   2.26e+06     -0.578      0.564   -5.75e+06    3.14e+06\n",
       "Tm_NYK     -3.021e+06   2.52e+06     -1.198      0.232   -7.98e+06    1.94e+06\n",
       "Tm_OKC     -3.051e+06   2.25e+06     -1.353      0.177   -7.49e+06    1.39e+06\n",
       "Tm_ORL     -1.077e+06   2.81e+06     -0.383      0.702   -6.61e+06    4.46e+06\n",
       "Tm_PHI      2.455e+05   2.21e+06      0.111      0.912   -4.11e+06     4.6e+06\n",
       "Tm_PHO     -1.063e+06   2.25e+06     -0.473      0.637   -5.49e+06    3.36e+06\n",
       "Tm_POR     -1.771e+06   2.43e+06     -0.728      0.467   -6.56e+06    3.02e+06\n",
       "Tm_SAC     -3.301e+06   2.44e+06     -1.352      0.177   -8.11e+06     1.5e+06\n",
       "Tm_SAS     -2.483e+06   2.51e+06     -0.989      0.323   -7.42e+06    2.45e+06\n",
       "Tm_TOR     -1.087e+06   2.32e+06     -0.468      0.640   -5.66e+06    3.48e+06\n",
       "Tm_TOT     -6.985e+05   1.87e+06     -0.373      0.709   -4.38e+06    2.99e+06\n",
       "Tm_UTA     -9.938e+05   2.32e+06     -0.428      0.669   -5.56e+06    3.57e+06\n",
       "Tm_WAS        1.6e+05   2.59e+06      0.062      0.951   -4.93e+06    5.25e+06\n",
       "==============================================================================\n",
       "Omnibus:                       45.062   Durbin-Watson:                   2.014\n",
       "Prob(Omnibus):                  0.000   Jarque-Bera (JB):               95.519\n",
       "Skew:                           0.649   Prob(JB):                     1.81e-21\n",
       "Kurtosis:                       5.112   Cond. No.                     5.01e+16\n",
       "==============================================================================\n",
       "\n",
       "Notes:\n",
       "[1] Standard Errors assume that the covariance matrix of the errors is correctly specified.\n",
       "[2] The smallest eigenvalue is 3.44e-25. This might indicate that there are\n",
       "strong multicollinearity problems or that the design matrix is singular.\n",
       "\"\"\""
      ]
     },
     "execution_count": 37,
     "metadata": {},
     "output_type": "execute_result"
    }
   ],
   "source": [
    "model = sm.OLS(y_train,x_train)\n",
    "model.fit().summary()"
   ]
  },
  {
   "cell_type": "markdown",
   "id": "65af6bd6",
   "metadata": {},
   "source": [
    "Let's try sklearn linear regression next.\n",
    "I am going to use cross validation to compare the scores of models"
   ]
  },
  {
   "cell_type": "code",
   "execution_count": 59,
   "id": "ccaf2e7d",
   "metadata": {},
   "outputs": [],
   "source": [
    "from sklearn.linear_model import LinearRegression, Lasso, Ridge\n",
    "from sklearn.model_selection import cross_val_score\n",
    "\n",
    "reg = LinearRegression()"
   ]
  },
  {
   "cell_type": "code",
   "execution_count": 73,
   "id": "42eda83f",
   "metadata": {},
   "outputs": [
    {
     "data": {
      "text/plain": [
       "0.5225314491906369"
      ]
     },
     "execution_count": 73,
     "metadata": {},
     "output_type": "execute_result"
    }
   ],
   "source": [
    "np.mean(cross_val_score(reg, x_train, y_train, cv=5))"
   ]
  },
  {
   "cell_type": "code",
   "execution_count": 74,
   "id": "0936721e",
   "metadata": {
    "scrolled": false
   },
   "outputs": [
    {
     "name": "stderr",
     "output_type": "stream",
     "text": [
      "/Users/kaichi/opt/anaconda3/lib/python3.9/site-packages/sklearn/linear_model/_coordinate_descent.py:647: ConvergenceWarning: Objective did not converge. You might want to increase the number of iterations, check the scale of the features or consider increasing regularisation. Duality gap: 3.548e+15, tolerance: 2.764e+12\n",
      "  model = cd_fast.enet_coordinate_descent(\n",
      "/Users/kaichi/opt/anaconda3/lib/python3.9/site-packages/sklearn/linear_model/_coordinate_descent.py:647: ConvergenceWarning: Objective did not converge. You might want to increase the number of iterations, check the scale of the features or consider increasing regularisation. Duality gap: 3.235e+15, tolerance: 2.494e+12\n",
      "  model = cd_fast.enet_coordinate_descent(\n",
      "/Users/kaichi/opt/anaconda3/lib/python3.9/site-packages/sklearn/linear_model/_coordinate_descent.py:647: ConvergenceWarning: Objective did not converge. You might want to increase the number of iterations, check the scale of the features or consider increasing regularisation. Duality gap: 4.084e+15, tolerance: 2.938e+12\n",
      "  model = cd_fast.enet_coordinate_descent(\n",
      "/Users/kaichi/opt/anaconda3/lib/python3.9/site-packages/sklearn/linear_model/_coordinate_descent.py:647: ConvergenceWarning: Objective did not converge. You might want to increase the number of iterations, check the scale of the features or consider increasing regularisation. Duality gap: 3.367e+15, tolerance: 2.435e+12\n",
      "  model = cd_fast.enet_coordinate_descent(\n",
      "/Users/kaichi/opt/anaconda3/lib/python3.9/site-packages/sklearn/linear_model/_coordinate_descent.py:647: ConvergenceWarning: Objective did not converge. You might want to increase the number of iterations, check the scale of the features or consider increasing regularisation. Duality gap: 3.803e+15, tolerance: 2.423e+12\n",
      "  model = cd_fast.enet_coordinate_descent(\n",
      "/Users/kaichi/opt/anaconda3/lib/python3.9/site-packages/sklearn/linear_model/_coordinate_descent.py:647: ConvergenceWarning: Objective did not converge. You might want to increase the number of iterations, check the scale of the features or consider increasing regularisation. Duality gap: 3.548e+15, tolerance: 2.764e+12\n",
      "  model = cd_fast.enet_coordinate_descent(\n",
      "/Users/kaichi/opt/anaconda3/lib/python3.9/site-packages/sklearn/linear_model/_coordinate_descent.py:647: ConvergenceWarning: Objective did not converge. You might want to increase the number of iterations, check the scale of the features or consider increasing regularisation. Duality gap: 3.235e+15, tolerance: 2.494e+12\n",
      "  model = cd_fast.enet_coordinate_descent(\n",
      "/Users/kaichi/opt/anaconda3/lib/python3.9/site-packages/sklearn/linear_model/_coordinate_descent.py:647: ConvergenceWarning: Objective did not converge. You might want to increase the number of iterations, check the scale of the features or consider increasing regularisation. Duality gap: 4.084e+15, tolerance: 2.938e+12\n",
      "  model = cd_fast.enet_coordinate_descent(\n",
      "/Users/kaichi/opt/anaconda3/lib/python3.9/site-packages/sklearn/linear_model/_coordinate_descent.py:647: ConvergenceWarning: Objective did not converge. You might want to increase the number of iterations, check the scale of the features or consider increasing regularisation. Duality gap: 3.367e+15, tolerance: 2.435e+12\n",
      "  model = cd_fast.enet_coordinate_descent(\n",
      "/Users/kaichi/opt/anaconda3/lib/python3.9/site-packages/sklearn/linear_model/_coordinate_descent.py:647: ConvergenceWarning: Objective did not converge. You might want to increase the number of iterations, check the scale of the features or consider increasing regularisation. Duality gap: 3.803e+15, tolerance: 2.423e+12\n",
      "  model = cd_fast.enet_coordinate_descent(\n",
      "/Users/kaichi/opt/anaconda3/lib/python3.9/site-packages/sklearn/linear_model/_coordinate_descent.py:647: ConvergenceWarning: Objective did not converge. You might want to increase the number of iterations, check the scale of the features or consider increasing regularisation. Duality gap: 3.548e+15, tolerance: 2.764e+12\n",
      "  model = cd_fast.enet_coordinate_descent(\n",
      "/Users/kaichi/opt/anaconda3/lib/python3.9/site-packages/sklearn/linear_model/_coordinate_descent.py:647: ConvergenceWarning: Objective did not converge. You might want to increase the number of iterations, check the scale of the features or consider increasing regularisation. Duality gap: 3.235e+15, tolerance: 2.494e+12\n",
      "  model = cd_fast.enet_coordinate_descent(\n",
      "/Users/kaichi/opt/anaconda3/lib/python3.9/site-packages/sklearn/linear_model/_coordinate_descent.py:647: ConvergenceWarning: Objective did not converge. You might want to increase the number of iterations, check the scale of the features or consider increasing regularisation. Duality gap: 4.083e+15, tolerance: 2.938e+12\n",
      "  model = cd_fast.enet_coordinate_descent(\n",
      "/Users/kaichi/opt/anaconda3/lib/python3.9/site-packages/sklearn/linear_model/_coordinate_descent.py:647: ConvergenceWarning: Objective did not converge. You might want to increase the number of iterations, check the scale of the features or consider increasing regularisation. Duality gap: 3.367e+15, tolerance: 2.435e+12\n",
      "  model = cd_fast.enet_coordinate_descent(\n",
      "/Users/kaichi/opt/anaconda3/lib/python3.9/site-packages/sklearn/linear_model/_coordinate_descent.py:647: ConvergenceWarning: Objective did not converge. You might want to increase the number of iterations, check the scale of the features or consider increasing regularisation. Duality gap: 3.802e+15, tolerance: 2.423e+12\n",
      "  model = cd_fast.enet_coordinate_descent(\n",
      "/Users/kaichi/opt/anaconda3/lib/python3.9/site-packages/sklearn/linear_model/_coordinate_descent.py:647: ConvergenceWarning: Objective did not converge. You might want to increase the number of iterations, check the scale of the features or consider increasing regularisation. Duality gap: 3.548e+15, tolerance: 2.764e+12\n",
      "  model = cd_fast.enet_coordinate_descent(\n",
      "/Users/kaichi/opt/anaconda3/lib/python3.9/site-packages/sklearn/linear_model/_coordinate_descent.py:647: ConvergenceWarning: Objective did not converge. You might want to increase the number of iterations, check the scale of the features or consider increasing regularisation. Duality gap: 3.234e+15, tolerance: 2.494e+12\n",
      "  model = cd_fast.enet_coordinate_descent(\n",
      "/Users/kaichi/opt/anaconda3/lib/python3.9/site-packages/sklearn/linear_model/_coordinate_descent.py:647: ConvergenceWarning: Objective did not converge. You might want to increase the number of iterations, check the scale of the features or consider increasing regularisation. Duality gap: 4.083e+15, tolerance: 2.938e+12\n",
      "  model = cd_fast.enet_coordinate_descent(\n",
      "/Users/kaichi/opt/anaconda3/lib/python3.9/site-packages/sklearn/linear_model/_coordinate_descent.py:647: ConvergenceWarning: Objective did not converge. You might want to increase the number of iterations, check the scale of the features or consider increasing regularisation. Duality gap: 3.366e+15, tolerance: 2.435e+12\n",
      "  model = cd_fast.enet_coordinate_descent(\n",
      "/Users/kaichi/opt/anaconda3/lib/python3.9/site-packages/sklearn/linear_model/_coordinate_descent.py:647: ConvergenceWarning: Objective did not converge. You might want to increase the number of iterations, check the scale of the features or consider increasing regularisation. Duality gap: 3.802e+15, tolerance: 2.423e+12\n",
      "  model = cd_fast.enet_coordinate_descent(\n",
      "/Users/kaichi/opt/anaconda3/lib/python3.9/site-packages/sklearn/linear_model/_coordinate_descent.py:647: ConvergenceWarning: Objective did not converge. You might want to increase the number of iterations, check the scale of the features or consider increasing regularisation. Duality gap: 3.548e+15, tolerance: 2.764e+12\n",
      "  model = cd_fast.enet_coordinate_descent(\n",
      "/Users/kaichi/opt/anaconda3/lib/python3.9/site-packages/sklearn/linear_model/_coordinate_descent.py:647: ConvergenceWarning: Objective did not converge. You might want to increase the number of iterations, check the scale of the features or consider increasing regularisation. Duality gap: 3.234e+15, tolerance: 2.494e+12\n",
      "  model = cd_fast.enet_coordinate_descent(\n",
      "/Users/kaichi/opt/anaconda3/lib/python3.9/site-packages/sklearn/linear_model/_coordinate_descent.py:647: ConvergenceWarning: Objective did not converge. You might want to increase the number of iterations, check the scale of the features or consider increasing regularisation. Duality gap: 4.082e+15, tolerance: 2.938e+12\n",
      "  model = cd_fast.enet_coordinate_descent(\n",
      "/Users/kaichi/opt/anaconda3/lib/python3.9/site-packages/sklearn/linear_model/_coordinate_descent.py:647: ConvergenceWarning: Objective did not converge. You might want to increase the number of iterations, check the scale of the features or consider increasing regularisation. Duality gap: 3.366e+15, tolerance: 2.435e+12\n",
      "  model = cd_fast.enet_coordinate_descent(\n",
      "/Users/kaichi/opt/anaconda3/lib/python3.9/site-packages/sklearn/linear_model/_coordinate_descent.py:647: ConvergenceWarning: Objective did not converge. You might want to increase the number of iterations, check the scale of the features or consider increasing regularisation. Duality gap: 3.802e+15, tolerance: 2.423e+12\n",
      "  model = cd_fast.enet_coordinate_descent(\n",
      "/Users/kaichi/opt/anaconda3/lib/python3.9/site-packages/sklearn/linear_model/_coordinate_descent.py:647: ConvergenceWarning: Objective did not converge. You might want to increase the number of iterations, check the scale of the features or consider increasing regularisation. Duality gap: 3.548e+15, tolerance: 2.764e+12\n",
      "  model = cd_fast.enet_coordinate_descent(\n",
      "/Users/kaichi/opt/anaconda3/lib/python3.9/site-packages/sklearn/linear_model/_coordinate_descent.py:647: ConvergenceWarning: Objective did not converge. You might want to increase the number of iterations, check the scale of the features or consider increasing regularisation. Duality gap: 3.234e+15, tolerance: 2.494e+12\n",
      "  model = cd_fast.enet_coordinate_descent(\n",
      "/Users/kaichi/opt/anaconda3/lib/python3.9/site-packages/sklearn/linear_model/_coordinate_descent.py:647: ConvergenceWarning: Objective did not converge. You might want to increase the number of iterations, check the scale of the features or consider increasing regularisation. Duality gap: 4.082e+15, tolerance: 2.938e+12\n",
      "  model = cd_fast.enet_coordinate_descent(\n",
      "/Users/kaichi/opt/anaconda3/lib/python3.9/site-packages/sklearn/linear_model/_coordinate_descent.py:647: ConvergenceWarning: Objective did not converge. You might want to increase the number of iterations, check the scale of the features or consider increasing regularisation. Duality gap: 3.366e+15, tolerance: 2.435e+12\n",
      "  model = cd_fast.enet_coordinate_descent(\n",
      "/Users/kaichi/opt/anaconda3/lib/python3.9/site-packages/sklearn/linear_model/_coordinate_descent.py:647: ConvergenceWarning: Objective did not converge. You might want to increase the number of iterations, check the scale of the features or consider increasing regularisation. Duality gap: 3.802e+15, tolerance: 2.423e+12\n",
      "  model = cd_fast.enet_coordinate_descent(\n"
     ]
    },
    {
     "name": "stderr",
     "output_type": "stream",
     "text": [
      "/Users/kaichi/opt/anaconda3/lib/python3.9/site-packages/sklearn/linear_model/_coordinate_descent.py:647: ConvergenceWarning: Objective did not converge. You might want to increase the number of iterations, check the scale of the features or consider increasing regularisation. Duality gap: 3.548e+15, tolerance: 2.764e+12\n",
      "  model = cd_fast.enet_coordinate_descent(\n",
      "/Users/kaichi/opt/anaconda3/lib/python3.9/site-packages/sklearn/linear_model/_coordinate_descent.py:647: ConvergenceWarning: Objective did not converge. You might want to increase the number of iterations, check the scale of the features or consider increasing regularisation. Duality gap: 3.234e+15, tolerance: 2.494e+12\n",
      "  model = cd_fast.enet_coordinate_descent(\n",
      "/Users/kaichi/opt/anaconda3/lib/python3.9/site-packages/sklearn/linear_model/_coordinate_descent.py:647: ConvergenceWarning: Objective did not converge. You might want to increase the number of iterations, check the scale of the features or consider increasing regularisation. Duality gap: 4.081e+15, tolerance: 2.938e+12\n",
      "  model = cd_fast.enet_coordinate_descent(\n",
      "/Users/kaichi/opt/anaconda3/lib/python3.9/site-packages/sklearn/linear_model/_coordinate_descent.py:647: ConvergenceWarning: Objective did not converge. You might want to increase the number of iterations, check the scale of the features or consider increasing regularisation. Duality gap: 3.365e+15, tolerance: 2.435e+12\n",
      "  model = cd_fast.enet_coordinate_descent(\n",
      "/Users/kaichi/opt/anaconda3/lib/python3.9/site-packages/sklearn/linear_model/_coordinate_descent.py:647: ConvergenceWarning: Objective did not converge. You might want to increase the number of iterations, check the scale of the features or consider increasing regularisation. Duality gap: 3.802e+15, tolerance: 2.423e+12\n",
      "  model = cd_fast.enet_coordinate_descent(\n",
      "/Users/kaichi/opt/anaconda3/lib/python3.9/site-packages/sklearn/linear_model/_coordinate_descent.py:647: ConvergenceWarning: Objective did not converge. You might want to increase the number of iterations, check the scale of the features or consider increasing regularisation. Duality gap: 3.548e+15, tolerance: 2.764e+12\n",
      "  model = cd_fast.enet_coordinate_descent(\n",
      "/Users/kaichi/opt/anaconda3/lib/python3.9/site-packages/sklearn/linear_model/_coordinate_descent.py:647: ConvergenceWarning: Objective did not converge. You might want to increase the number of iterations, check the scale of the features or consider increasing regularisation. Duality gap: 3.234e+15, tolerance: 2.494e+12\n",
      "  model = cd_fast.enet_coordinate_descent(\n",
      "/Users/kaichi/opt/anaconda3/lib/python3.9/site-packages/sklearn/linear_model/_coordinate_descent.py:647: ConvergenceWarning: Objective did not converge. You might want to increase the number of iterations, check the scale of the features or consider increasing regularisation. Duality gap: 4.081e+15, tolerance: 2.938e+12\n",
      "  model = cd_fast.enet_coordinate_descent(\n",
      "/Users/kaichi/opt/anaconda3/lib/python3.9/site-packages/sklearn/linear_model/_coordinate_descent.py:647: ConvergenceWarning: Objective did not converge. You might want to increase the number of iterations, check the scale of the features or consider increasing regularisation. Duality gap: 3.365e+15, tolerance: 2.435e+12\n",
      "  model = cd_fast.enet_coordinate_descent(\n",
      "/Users/kaichi/opt/anaconda3/lib/python3.9/site-packages/sklearn/linear_model/_coordinate_descent.py:647: ConvergenceWarning: Objective did not converge. You might want to increase the number of iterations, check the scale of the features or consider increasing regularisation. Duality gap: 3.801e+15, tolerance: 2.423e+12\n",
      "  model = cd_fast.enet_coordinate_descent(\n",
      "/Users/kaichi/opt/anaconda3/lib/python3.9/site-packages/sklearn/linear_model/_coordinate_descent.py:647: ConvergenceWarning: Objective did not converge. You might want to increase the number of iterations, check the scale of the features or consider increasing regularisation. Duality gap: 3.547e+15, tolerance: 2.764e+12\n",
      "  model = cd_fast.enet_coordinate_descent(\n",
      "/Users/kaichi/opt/anaconda3/lib/python3.9/site-packages/sklearn/linear_model/_coordinate_descent.py:647: ConvergenceWarning: Objective did not converge. You might want to increase the number of iterations, check the scale of the features or consider increasing regularisation. Duality gap: 3.234e+15, tolerance: 2.494e+12\n",
      "  model = cd_fast.enet_coordinate_descent(\n",
      "/Users/kaichi/opt/anaconda3/lib/python3.9/site-packages/sklearn/linear_model/_coordinate_descent.py:647: ConvergenceWarning: Objective did not converge. You might want to increase the number of iterations, check the scale of the features or consider increasing regularisation. Duality gap: 4.080e+15, tolerance: 2.938e+12\n",
      "  model = cd_fast.enet_coordinate_descent(\n",
      "/Users/kaichi/opt/anaconda3/lib/python3.9/site-packages/sklearn/linear_model/_coordinate_descent.py:647: ConvergenceWarning: Objective did not converge. You might want to increase the number of iterations, check the scale of the features or consider increasing regularisation. Duality gap: 3.365e+15, tolerance: 2.435e+12\n",
      "  model = cd_fast.enet_coordinate_descent(\n",
      "/Users/kaichi/opt/anaconda3/lib/python3.9/site-packages/sklearn/linear_model/_coordinate_descent.py:647: ConvergenceWarning: Objective did not converge. You might want to increase the number of iterations, check the scale of the features or consider increasing regularisation. Duality gap: 3.801e+15, tolerance: 2.423e+12\n",
      "  model = cd_fast.enet_coordinate_descent(\n"
     ]
    },
    {
     "data": {
      "text/plain": [
       "[<matplotlib.lines.Line2D at 0x7fc4d51836d0>]"
      ]
     },
     "execution_count": 74,
     "metadata": {},
     "output_type": "execute_result"
    },
    {
     "data": {
      "image/png": "[encoded data removed]",
      "text/plain": [
       "<Figure size 432x288 with 1 Axes>"
      ]
     },
     "metadata": {
      "needs_background": "light"
     },
     "output_type": "display_data"
    }
   ],
   "source": [
    "# Lasso Regression\n",
    "# Need to choose the best alpha value\n",
    "alpha_lasso = []\n",
    "error_lasso = []\n",
    "\n",
    "for i in range(1, 10):\n",
    "    alpha_lasso.append(i/100)\n",
    "    lml = Lasso(alpha = (i/100))\n",
    "    error_lasso.append(np.mean(cross_val_score(lml, x_train, y_train, cv=5)))\n",
    "\n",
    "plt.plot(alpha_lasso, error_lasso)"
   ]
  },
  {
   "cell_type": "markdown",
   "id": "28acc126",
   "metadata": {},
   "source": [
    "Seems like Lasso is not suitable for this case. Let's try Ridge regression"
   ]
  },
  {
   "cell_type": "code",
   "execution_count": 76,
   "id": "a92ce567",
   "metadata": {},
   "outputs": [
    {
     "data": {
      "text/plain": [
       "[<matplotlib.lines.Line2D at 0x7fc4a9c232e0>]"
      ]
     },
     "execution_count": 76,
     "metadata": {},
     "output_type": "execute_result"
    },
    {
     "data": {
      "image/png": "[encoded data removed]",
      "text/plain": [
       "<Figure size 432x288 with 1 Axes>"
      ]
     },
     "metadata": {
      "needs_background": "light"
     },
     "output_type": "display_data"
    }
   ],
   "source": [
    "# Ridge Regression\n",
    "# Need to choose the best alpha value\n",
    "alpha_ridge = []\n",
    "error_ridge = []\n",
    "\n",
    "for i in range(1, 10):\n",
    "    alpha_ridge.append(i/100)\n",
    "    lmr = Ridge(alpha = (i/100))\n",
    "    error_ridge.append(np.mean(cross_val_score(lmr, x_train, y_train, cv=5)))\n",
    "\n",
    "plt.plot(alpha_ridge, error_ridge)"
   ]
  },
  {
   "cell_type": "code",
   "execution_count": 77,
   "id": "7ec34492",
   "metadata": {},
   "outputs": [],
   "source": [
    "reg_lasso = Lasso(alpha = 0)\n",
    "reg_ridge = Ridge(alpha = 0)"
   ]
  },
  {
   "cell_type": "code",
   "execution_count": 80,
   "id": "53800ea5",
   "metadata": {},
   "outputs": [
    {
     "name": "stderr",
     "output_type": "stream",
     "text": [
      "/Users/kaichi/opt/anaconda3/lib/python3.9/site-packages/sklearn/model_selection/_validation.py:680: UserWarning: With alpha=0, this algorithm does not converge well. You are advised to use the LinearRegression estimator\n",
      "  estimator.fit(X_train, y_train, **fit_params)\n",
      "/Users/kaichi/opt/anaconda3/lib/python3.9/site-packages/sklearn/linear_model/_coordinate_descent.py:647: UserWarning: Coordinate descent with no regularization may lead to unexpected results and is discouraged.\n",
      "  model = cd_fast.enet_coordinate_descent(\n",
      "/Users/kaichi/opt/anaconda3/lib/python3.9/site-packages/sklearn/linear_model/_coordinate_descent.py:647: ConvergenceWarning: Objective did not converge. You might want to increase the number of iterations, check the scale of the features or consider increasing regularisation. Duality gap: 3.548e+15, tolerance: 2.764e+12 Linear regression models with null weight for the l1 regularization term are more efficiently fitted using one of the solvers implemented in sklearn.linear_model.Ridge/RidgeCV instead.\n",
      "  model = cd_fast.enet_coordinate_descent(\n",
      "/Users/kaichi/opt/anaconda3/lib/python3.9/site-packages/sklearn/model_selection/_validation.py:680: UserWarning: With alpha=0, this algorithm does not converge well. You are advised to use the LinearRegression estimator\n",
      "  estimator.fit(X_train, y_train, **fit_params)\n",
      "/Users/kaichi/opt/anaconda3/lib/python3.9/site-packages/sklearn/linear_model/_coordinate_descent.py:647: UserWarning: Coordinate descent with no regularization may lead to unexpected results and is discouraged.\n",
      "  model = cd_fast.enet_coordinate_descent(\n",
      "/Users/kaichi/opt/anaconda3/lib/python3.9/site-packages/sklearn/linear_model/_coordinate_descent.py:647: ConvergenceWarning: Objective did not converge. You might want to increase the number of iterations, check the scale of the features or consider increasing regularisation. Duality gap: 3.235e+15, tolerance: 2.494e+12 Linear regression models with null weight for the l1 regularization term are more efficiently fitted using one of the solvers implemented in sklearn.linear_model.Ridge/RidgeCV instead.\n",
      "  model = cd_fast.enet_coordinate_descent(\n",
      "/Users/kaichi/opt/anaconda3/lib/python3.9/site-packages/sklearn/model_selection/_validation.py:680: UserWarning: With alpha=0, this algorithm does not converge well. You are advised to use the LinearRegression estimator\n",
      "  estimator.fit(X_train, y_train, **fit_params)\n",
      "/Users/kaichi/opt/anaconda3/lib/python3.9/site-packages/sklearn/linear_model/_coordinate_descent.py:647: UserWarning: Coordinate descent with no regularization may lead to unexpected results and is discouraged.\n",
      "  model = cd_fast.enet_coordinate_descent(\n",
      "/Users/kaichi/opt/anaconda3/lib/python3.9/site-packages/sklearn/linear_model/_coordinate_descent.py:647: ConvergenceWarning: Objective did not converge. You might want to increase the number of iterations, check the scale of the features or consider increasing regularisation. Duality gap: 4.085e+15, tolerance: 2.938e+12 Linear regression models with null weight for the l1 regularization term are more efficiently fitted using one of the solvers implemented in sklearn.linear_model.Ridge/RidgeCV instead.\n",
      "  model = cd_fast.enet_coordinate_descent(\n",
      "/Users/kaichi/opt/anaconda3/lib/python3.9/site-packages/sklearn/model_selection/_validation.py:680: UserWarning: With alpha=0, this algorithm does not converge well. You are advised to use the LinearRegression estimator\n",
      "  estimator.fit(X_train, y_train, **fit_params)\n",
      "/Users/kaichi/opt/anaconda3/lib/python3.9/site-packages/sklearn/linear_model/_coordinate_descent.py:647: UserWarning: Coordinate descent with no regularization may lead to unexpected results and is discouraged.\n",
      "  model = cd_fast.enet_coordinate_descent(\n",
      "/Users/kaichi/opt/anaconda3/lib/python3.9/site-packages/sklearn/linear_model/_coordinate_descent.py:647: ConvergenceWarning: Objective did not converge. You might want to increase the number of iterations, check the scale of the features or consider increasing regularisation. Duality gap: 3.368e+15, tolerance: 2.435e+12 Linear regression models with null weight for the l1 regularization term are more efficiently fitted using one of the solvers implemented in sklearn.linear_model.Ridge/RidgeCV instead.\n",
      "  model = cd_fast.enet_coordinate_descent(\n",
      "/Users/kaichi/opt/anaconda3/lib/python3.9/site-packages/sklearn/model_selection/_validation.py:680: UserWarning: With alpha=0, this algorithm does not converge well. You are advised to use the LinearRegression estimator\n",
      "  estimator.fit(X_train, y_train, **fit_params)\n",
      "/Users/kaichi/opt/anaconda3/lib/python3.9/site-packages/sklearn/linear_model/_coordinate_descent.py:647: UserWarning: Coordinate descent with no regularization may lead to unexpected results and is discouraged.\n",
      "  model = cd_fast.enet_coordinate_descent(\n",
      "/Users/kaichi/opt/anaconda3/lib/python3.9/site-packages/sklearn/linear_model/_coordinate_descent.py:647: ConvergenceWarning: Objective did not converge. You might want to increase the number of iterations, check the scale of the features or consider increasing regularisation. Duality gap: 3.803e+15, tolerance: 2.423e+12 Linear regression models with null weight for the l1 regularization term are more efficiently fitted using one of the solvers implemented in sklearn.linear_model.Ridge/RidgeCV instead.\n",
      "  model = cd_fast.enet_coordinate_descent(\n"
     ]
    },
    {
     "data": {
      "text/plain": [
       "0.5225357682759685"
      ]
     },
     "execution_count": 80,
     "metadata": {},
     "output_type": "execute_result"
    }
   ],
   "source": [
    "np.mean(cross_val_score(reg_lasso, x_train, y_train, cv=5))"
   ]
  },
  {
   "cell_type": "code",
   "execution_count": 81,
   "id": "27d29910",
   "metadata": {},
   "outputs": [
    {
     "data": {
      "text/plain": [
       "0.23026738858606816"
      ]
     },
     "execution_count": 81,
     "metadata": {},
     "output_type": "execute_result"
    }
   ],
   "source": [
    "np.mean(cross_val_score(reg_ridge, x_train, y_train, cv=5))"
   ]
  },
  {
   "cell_type": "code",
   "execution_count": 82,
   "id": "a7929839",
   "metadata": {},
   "outputs": [
    {
     "data": {
      "text/plain": [
       "array([ 0.43631628,  0.51400943,  0.23135947,  0.59251995, -0.62286819])"
      ]
     },
     "execution_count": 82,
     "metadata": {},
     "output_type": "execute_result"
    }
   ],
   "source": [
    "cross_val_score(reg_ridge, x_train, y_train, cv=5)"
   ]
  },
  {
   "cell_type": "code",
   "execution_count": null,
   "id": "db67bfb7",
   "metadata": {},
   "outputs": [],
   "source": []
  }
 ],
 "metadata": {
  "kernelspec": {
   "display_name": "Python 3 (ipykernel)",
   "language": "python",
   "name": "python3"
  },
  "language_info": {
   "codemirror_mode": {
    "name": "ipython",
    "version": 3
   },
   "file_extension": ".py",
   "mimetype": "text/x-python",
   "name": "python",
   "nbconvert_exporter": "python",
   "pygments_lexer": "ipython3",
   "version": "3.9.12"
  }
 },
 "nbformat": 4,
 "nbformat_minor": 5
}
